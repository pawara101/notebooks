{
 "cells": [
  {
   "cell_type": "markdown",
   "id": "86c26a9d",
   "metadata": {
    "papermill": {
     "duration": 0.006838,
     "end_time": "2022-12-13T19:12:26.890016",
     "exception": false,
     "start_time": "2022-12-13T19:12:26.883178",
     "status": "completed"
    },
    "tags": []
   },
   "source": [
    "**This notebook is an exercise in the [SQL](https://www.kaggle.com/learn/intro-to-sql) course.  You can reference the tutorial at [this link](https://www.kaggle.com/dansbecker/getting-started-with-sql-and-bigquery).**\n",
    "\n",
    "---\n"
   ]
  },
  {
   "cell_type": "markdown",
   "id": "bcb311ad",
   "metadata": {
    "papermill": {
     "duration": 0.005438,
     "end_time": "2022-12-13T19:12:26.901253",
     "exception": false,
     "start_time": "2022-12-13T19:12:26.895815",
     "status": "completed"
    },
    "tags": []
   },
   "source": [
    "# Introduction\n",
    "\n",
    "The first test of your new data exploration skills uses data describing crime in the city of Chicago.\n",
    "\n",
    "Before you get started, run the following cell. It sets up the automated feedback system to review your answers."
   ]
  },
  {
   "cell_type": "code",
   "execution_count": 1,
   "id": "25e8976c",
   "metadata": {
    "execution": {
     "iopub.execute_input": "2022-12-13T19:12:26.914860Z",
     "iopub.status.busy": "2022-12-13T19:12:26.914089Z",
     "iopub.status.idle": "2022-12-13T19:12:27.991546Z",
     "shell.execute_reply": "2022-12-13T19:12:27.990085Z"
    },
    "papermill": {
     "duration": 1.087468,
     "end_time": "2022-12-13T19:12:27.994455",
     "exception": false,
     "start_time": "2022-12-13T19:12:26.906987",
     "status": "completed"
    },
    "tags": []
   },
   "outputs": [
    {
     "name": "stdout",
     "output_type": "stream",
     "text": [
      "Using Kaggle's public dataset BigQuery integration.\n",
      "Setup Complete\n"
     ]
    }
   ],
   "source": [
    "# Set up feedack system\n",
    "from learntools.core import binder\n",
    "binder.bind(globals())\n",
    "from learntools.sql.ex1 import *\n",
    "print(\"Setup Complete\")"
   ]
  },
  {
   "cell_type": "markdown",
   "id": "d0882359",
   "metadata": {
    "papermill": {
     "duration": 0.005354,
     "end_time": "2022-12-13T19:12:28.005686",
     "exception": false,
     "start_time": "2022-12-13T19:12:28.000332",
     "status": "completed"
    },
    "tags": []
   },
   "source": [
    "Use the next code cell to fetch the dataset."
   ]
  },
  {
   "cell_type": "code",
   "execution_count": 2,
   "id": "36635bb7",
   "metadata": {
    "execution": {
     "iopub.execute_input": "2022-12-13T19:12:28.019524Z",
     "iopub.status.busy": "2022-12-13T19:12:28.018492Z",
     "iopub.status.idle": "2022-12-13T19:12:28.382963Z",
     "shell.execute_reply": "2022-12-13T19:12:28.382019Z"
    },
    "papermill": {
     "duration": 0.374177,
     "end_time": "2022-12-13T19:12:28.385612",
     "exception": false,
     "start_time": "2022-12-13T19:12:28.011435",
     "status": "completed"
    },
    "tags": []
   },
   "outputs": [
    {
     "name": "stdout",
     "output_type": "stream",
     "text": [
      "Using Kaggle's public dataset BigQuery integration.\n"
     ]
    }
   ],
   "source": [
    "from google.cloud import bigquery\n",
    "\n",
    "# Create a \"Client\" object\n",
    "client = bigquery.Client()\n",
    "\n",
    "# Construct a reference to the \"chicago_crime\" dataset\n",
    "dataset_ref = client.dataset(\"chicago_crime\", project=\"bigquery-public-data\")\n",
    "\n",
    "# API request - fetch the dataset\n",
    "dataset = client.get_dataset(dataset_ref)"
   ]
  },
  {
   "cell_type": "markdown",
   "id": "f8467e44",
   "metadata": {
    "papermill": {
     "duration": 0.00562,
     "end_time": "2022-12-13T19:12:28.397335",
     "exception": false,
     "start_time": "2022-12-13T19:12:28.391715",
     "status": "completed"
    },
    "tags": []
   },
   "source": [
    "# Exercises\n",
    "\n",
    "### 1) Count tables in the dataset\n",
    "\n",
    "How many tables are in the Chicago Crime dataset?"
   ]
  },
  {
   "cell_type": "code",
   "execution_count": 3,
   "id": "836ebf90",
   "metadata": {
    "execution": {
     "iopub.execute_input": "2022-12-13T19:12:28.410939Z",
     "iopub.status.busy": "2022-12-13T19:12:28.410547Z",
     "iopub.status.idle": "2022-12-13T19:12:28.681773Z",
     "shell.execute_reply": "2022-12-13T19:12:28.680500Z"
    },
    "papermill": {
     "duration": 0.281062,
     "end_time": "2022-12-13T19:12:28.684241",
     "exception": false,
     "start_time": "2022-12-13T19:12:28.403179",
     "status": "completed"
    },
    "tags": []
   },
   "outputs": [
    {
     "name": "stdout",
     "output_type": "stream",
     "text": [
      "crime\n"
     ]
    }
   ],
   "source": [
    "# Write the code you need here to figure out the answer\n",
    "tables = list(client.list_tables(dataset))\n",
    "\n",
    "for tab in tables:\n",
    "    print(tab.table_id)"
   ]
  },
  {
   "cell_type": "code",
   "execution_count": 4,
   "id": "8537e250",
   "metadata": {
    "execution": {
     "iopub.execute_input": "2022-12-13T19:12:28.700663Z",
     "iopub.status.busy": "2022-12-13T19:12:28.700278Z",
     "iopub.status.idle": "2022-12-13T19:12:28.709753Z",
     "shell.execute_reply": "2022-12-13T19:12:28.708636Z"
    },
    "papermill": {
     "duration": 0.022225,
     "end_time": "2022-12-13T19:12:28.712639",
     "exception": false,
     "start_time": "2022-12-13T19:12:28.690414",
     "status": "completed"
    },
    "tags": []
   },
   "outputs": [
    {
     "data": {
      "text/plain": [
       "[<google.cloud.bigquery.table.TableListItem at 0x7f7752aed550>]"
      ]
     },
     "execution_count": 4,
     "metadata": {},
     "output_type": "execute_result"
    }
   ],
   "source": [
    "tables"
   ]
  },
  {
   "cell_type": "code",
   "execution_count": 5,
   "id": "82eb1cee",
   "metadata": {
    "execution": {
     "iopub.execute_input": "2022-12-13T19:12:28.727048Z",
     "iopub.status.busy": "2022-12-13T19:12:28.726658Z",
     "iopub.status.idle": "2022-12-13T19:12:28.731877Z",
     "shell.execute_reply": "2022-12-13T19:12:28.730698Z"
    },
    "papermill": {
     "duration": 0.015706,
     "end_time": "2022-12-13T19:12:28.734459",
     "exception": false,
     "start_time": "2022-12-13T19:12:28.718753",
     "status": "completed"
    },
    "tags": []
   },
   "outputs": [
    {
     "name": "stdout",
     "output_type": "stream",
     "text": [
      "1\n"
     ]
    }
   ],
   "source": [
    "print(len(tables))"
   ]
  },
  {
   "cell_type": "code",
   "execution_count": 6,
   "id": "fa132d72",
   "metadata": {
    "execution": {
     "iopub.execute_input": "2022-12-13T19:12:28.748943Z",
     "iopub.status.busy": "2022-12-13T19:12:28.748560Z",
     "iopub.status.idle": "2022-12-13T19:12:28.757109Z",
     "shell.execute_reply": "2022-12-13T19:12:28.756169Z"
    },
    "papermill": {
     "duration": 0.018128,
     "end_time": "2022-12-13T19:12:28.759355",
     "exception": false,
     "start_time": "2022-12-13T19:12:28.741227",
     "status": "completed"
    },
    "tags": []
   },
   "outputs": [
    {
     "data": {
      "application/javascript": [
       "parent.postMessage({\"jupyterEvent\": \"custom.exercise_interaction\", \"data\": {\"outcomeType\": 1, \"valueTowardsCompletion\": 0.3333333333333333, \"interactionType\": 1, \"questionType\": 1, \"questionId\": \"1_CountTables\", \"learnToolsVersion\": \"0.3.4\", \"failureMessage\": \"\", \"exceptionClass\": \"\", \"trace\": \"\"}}, \"*\")"
      ],
      "text/plain": [
       "<IPython.core.display.Javascript object>"
      ]
     },
     "metadata": {},
     "output_type": "display_data"
    },
    {
     "data": {
      "text/markdown": [
       "<span style=\"color:#33cc33\">Correct</span>"
      ],
      "text/plain": [
       "Correct"
      ]
     },
     "metadata": {},
     "output_type": "display_data"
    }
   ],
   "source": [
    "num_tables = len(tables)  # Store the answer as num_tables and then run this cell\n",
    "\n",
    "# Check your answer\n",
    "q_1.check()"
   ]
  },
  {
   "cell_type": "markdown",
   "id": "d058407b",
   "metadata": {
    "papermill": {
     "duration": 0.005933,
     "end_time": "2022-12-13T19:12:28.771874",
     "exception": false,
     "start_time": "2022-12-13T19:12:28.765941",
     "status": "completed"
    },
    "tags": []
   },
   "source": [
    "For a hint or the solution, uncomment the appropriate line below."
   ]
  },
  {
   "cell_type": "code",
   "execution_count": 7,
   "id": "de25401f",
   "metadata": {
    "execution": {
     "iopub.execute_input": "2022-12-13T19:12:28.785878Z",
     "iopub.status.busy": "2022-12-13T19:12:28.785496Z",
     "iopub.status.idle": "2022-12-13T19:12:28.793580Z",
     "shell.execute_reply": "2022-12-13T19:12:28.792415Z"
    },
    "papermill": {
     "duration": 0.01746,
     "end_time": "2022-12-13T19:12:28.795609",
     "exception": false,
     "start_time": "2022-12-13T19:12:28.778149",
     "status": "completed"
    },
    "tags": []
   },
   "outputs": [
    {
     "data": {
      "application/javascript": [
       "parent.postMessage({\"jupyterEvent\": \"custom.exercise_interaction\", \"data\": {\"interactionType\": 3, \"questionType\": 1, \"questionId\": \"1_CountTables\", \"learnToolsVersion\": \"0.3.4\", \"valueTowardsCompletion\": 0.0, \"failureMessage\": \"\", \"exceptionClass\": \"\", \"trace\": \"\", \"outcomeType\": 4}}, \"*\")"
      ],
      "text/plain": [
       "<IPython.core.display.Javascript object>"
      ]
     },
     "metadata": {},
     "output_type": "display_data"
    },
    {
     "data": {
      "text/markdown": [
       "<span style=\"color:#33cc99\">Solution:</span> \n",
       "```python\n",
       "\n",
       "# List all the tables in the \"chicago_crime\" dataset\n",
       "tables = list(client.list_tables(dataset))\n",
       "\n",
       "# Print number of tables in the dataset\n",
       "print(len(tables))\n",
       "\n",
       "num_tables = 1\n",
       "\n",
       "```"
      ],
      "text/plain": [
       "Solution: \n",
       "```python\n",
       "\n",
       "# List all the tables in the \"chicago_crime\" dataset\n",
       "tables = list(client.list_tables(dataset))\n",
       "\n",
       "# Print number of tables in the dataset\n",
       "print(len(tables))\n",
       "\n",
       "num_tables = 1\n",
       "\n",
       "```"
      ]
     },
     "metadata": {},
     "output_type": "display_data"
    }
   ],
   "source": [
    "#q_1.hint()\n",
    "q_1.solution()"
   ]
  },
  {
   "cell_type": "markdown",
   "id": "8c84da54",
   "metadata": {
    "papermill": {
     "duration": 0.006426,
     "end_time": "2022-12-13T19:12:28.808270",
     "exception": false,
     "start_time": "2022-12-13T19:12:28.801844",
     "status": "completed"
    },
    "tags": []
   },
   "source": [
    "### 2) Explore the table schema\n",
    "\n",
    "How many columns in the `crime` table have `TIMESTAMP` data?"
   ]
  },
  {
   "cell_type": "code",
   "execution_count": 8,
   "id": "5212d243",
   "metadata": {
    "execution": {
     "iopub.execute_input": "2022-12-13T19:12:28.822522Z",
     "iopub.status.busy": "2022-12-13T19:12:28.822125Z",
     "iopub.status.idle": "2022-12-13T19:12:29.493891Z",
     "shell.execute_reply": "2022-12-13T19:12:29.492537Z"
    },
    "papermill": {
     "duration": 0.681733,
     "end_time": "2022-12-13T19:12:29.496311",
     "exception": false,
     "start_time": "2022-12-13T19:12:28.814578",
     "status": "completed"
    },
    "tags": []
   },
   "outputs": [
    {
     "name": "stdout",
     "output_type": "stream",
     "text": [
      "[SchemaField('unique_key', 'INTEGER', 'REQUIRED', None, (), None), SchemaField('case_number', 'STRING', 'NULLABLE', None, (), None), SchemaField('date', 'TIMESTAMP', 'NULLABLE', None, (), None), SchemaField('block', 'STRING', 'NULLABLE', None, (), None), SchemaField('iucr', 'STRING', 'NULLABLE', None, (), None), SchemaField('primary_type', 'STRING', 'NULLABLE', None, (), None), SchemaField('description', 'STRING', 'NULLABLE', None, (), None), SchemaField('location_description', 'STRING', 'NULLABLE', None, (), None), SchemaField('arrest', 'BOOLEAN', 'NULLABLE', None, (), None), SchemaField('domestic', 'BOOLEAN', 'NULLABLE', None, (), None), SchemaField('beat', 'INTEGER', 'NULLABLE', None, (), None), SchemaField('district', 'INTEGER', 'NULLABLE', None, (), None), SchemaField('ward', 'INTEGER', 'NULLABLE', None, (), None), SchemaField('community_area', 'INTEGER', 'NULLABLE', None, (), None), SchemaField('fbi_code', 'STRING', 'NULLABLE', None, (), None), SchemaField('x_coordinate', 'FLOAT', 'NULLABLE', None, (), None), SchemaField('y_coordinate', 'FLOAT', 'NULLABLE', None, (), None), SchemaField('year', 'INTEGER', 'NULLABLE', None, (), None), SchemaField('updated_on', 'TIMESTAMP', 'NULLABLE', None, (), None), SchemaField('latitude', 'FLOAT', 'NULLABLE', None, (), None), SchemaField('longitude', 'FLOAT', 'NULLABLE', None, (), None), SchemaField('location', 'STRING', 'NULLABLE', None, (), None)]\n"
     ]
    }
   ],
   "source": [
    "# Write the code to figure out the answer\n",
    "# Construct a reference to the \"crime\" table\n",
    "table_ref = dataset_ref.table(\"crime\")\n",
    "\n",
    "# API request - fetch the table\n",
    "table = client.get_table(table_ref)\n",
    "\n",
    "print(table.schema)"
   ]
  },
  {
   "cell_type": "code",
   "execution_count": 9,
   "id": "9f93c94f",
   "metadata": {
    "execution": {
     "iopub.execute_input": "2022-12-13T19:12:29.511829Z",
     "iopub.status.busy": "2022-12-13T19:12:29.511066Z",
     "iopub.status.idle": "2022-12-13T19:12:29.517993Z",
     "shell.execute_reply": "2022-12-13T19:12:29.517375Z"
    },
    "papermill": {
     "duration": 0.01705,
     "end_time": "2022-12-13T19:12:29.520108",
     "exception": false,
     "start_time": "2022-12-13T19:12:29.503058",
     "status": "completed"
    },
    "tags": []
   },
   "outputs": [
    {
     "data": {
      "application/javascript": [
       "parent.postMessage({\"jupyterEvent\": \"custom.exercise_interaction\", \"data\": {\"outcomeType\": 1, \"valueTowardsCompletion\": 0.3333333333333333, \"interactionType\": 1, \"questionType\": 1, \"questionId\": \"2_CountTimestampFields\", \"learnToolsVersion\": \"0.3.4\", \"failureMessage\": \"\", \"exceptionClass\": \"\", \"trace\": \"\"}}, \"*\")"
      ],
      "text/plain": [
       "<IPython.core.display.Javascript object>"
      ]
     },
     "metadata": {},
     "output_type": "display_data"
    },
    {
     "data": {
      "text/markdown": [
       "<span style=\"color:#33cc33\">Correct</span>"
      ],
      "text/plain": [
       "Correct"
      ]
     },
     "metadata": {},
     "output_type": "display_data"
    }
   ],
   "source": [
    "num_timestamp_fields = 2 # Put your answer here\n",
    "\n",
    "# Check your answer\n",
    "q_2.check()"
   ]
  },
  {
   "cell_type": "markdown",
   "id": "c4ad1b38",
   "metadata": {
    "papermill": {
     "duration": 0.00647,
     "end_time": "2022-12-13T19:12:29.533237",
     "exception": false,
     "start_time": "2022-12-13T19:12:29.526767",
     "status": "completed"
    },
    "tags": []
   },
   "source": [
    "For a hint or the solution, uncomment the appropriate line below."
   ]
  },
  {
   "cell_type": "code",
   "execution_count": 10,
   "id": "048f7265",
   "metadata": {
    "execution": {
     "iopub.execute_input": "2022-12-13T19:12:29.548289Z",
     "iopub.status.busy": "2022-12-13T19:12:29.547931Z",
     "iopub.status.idle": "2022-12-13T19:12:29.559724Z",
     "shell.execute_reply": "2022-12-13T19:12:29.558662Z"
    },
    "papermill": {
     "duration": 0.022267,
     "end_time": "2022-12-13T19:12:29.562150",
     "exception": false,
     "start_time": "2022-12-13T19:12:29.539883",
     "status": "completed"
    },
    "tags": []
   },
   "outputs": [
    {
     "data": {
      "application/javascript": [
       "parent.postMessage({\"jupyterEvent\": \"custom.exercise_interaction\", \"data\": {\"interactionType\": 2, \"questionType\": 1, \"questionId\": \"2_CountTimestampFields\", \"learnToolsVersion\": \"0.3.4\", \"valueTowardsCompletion\": 0.0, \"failureMessage\": \"\", \"exceptionClass\": \"\", \"trace\": \"\", \"outcomeType\": 4}}, \"*\")"
      ],
      "text/plain": [
       "<IPython.core.display.Javascript object>"
      ]
     },
     "metadata": {},
     "output_type": "display_data"
    },
    {
     "data": {
      "text/markdown": [
       "<span style=\"color:#3366cc\">Hint:</span> Begin by fetching the `crime` table. Then take a look at the table schema, and check the field type of each column.  How many times does `'TIMESTAMP'` appear?"
      ],
      "text/plain": [
       "Hint: Begin by fetching the `crime` table. Then take a look at the table schema, and check the field type of each column.  How many times does `'TIMESTAMP'` appear?"
      ]
     },
     "metadata": {},
     "output_type": "display_data"
    },
    {
     "data": {
      "application/javascript": [
       "parent.postMessage({\"jupyterEvent\": \"custom.exercise_interaction\", \"data\": {\"interactionType\": 3, \"questionType\": 1, \"questionId\": \"2_CountTimestampFields\", \"learnToolsVersion\": \"0.3.4\", \"valueTowardsCompletion\": 0.0, \"failureMessage\": \"\", \"exceptionClass\": \"\", \"trace\": \"\", \"outcomeType\": 4}}, \"*\")"
      ],
      "text/plain": [
       "<IPython.core.display.Javascript object>"
      ]
     },
     "metadata": {},
     "output_type": "display_data"
    },
    {
     "data": {
      "text/markdown": [
       "<span style=\"color:#33cc99\">Solution:</span> \n",
       "```python\n",
       "\n",
       "# Construct a reference to the \"crime\" table\n",
       "table_ref = dataset_ref.table(\"crime\")\n",
       "\n",
       "# API request - fetch the table\n",
       "table = client.get_table(table_ref)\n",
       "\n",
       "# Print information on all the columns in the \"crime\" table in the \"chicago_crime\" dataset\n",
       "print(table.schema)\n",
       "\n",
       "num_timestamp_fields = 2\n",
       "\n",
       "```"
      ],
      "text/plain": [
       "Solution: \n",
       "```python\n",
       "\n",
       "# Construct a reference to the \"crime\" table\n",
       "table_ref = dataset_ref.table(\"crime\")\n",
       "\n",
       "# API request - fetch the table\n",
       "table = client.get_table(table_ref)\n",
       "\n",
       "# Print information on all the columns in the \"crime\" table in the \"chicago_crime\" dataset\n",
       "print(table.schema)\n",
       "\n",
       "num_timestamp_fields = 2\n",
       "\n",
       "```"
      ]
     },
     "metadata": {},
     "output_type": "display_data"
    }
   ],
   "source": [
    "q_2.hint()\n",
    "q_2.solution()"
   ]
  },
  {
   "cell_type": "markdown",
   "id": "0d81fca0",
   "metadata": {
    "papermill": {
     "duration": 0.006932,
     "end_time": "2022-12-13T19:12:29.576286",
     "exception": false,
     "start_time": "2022-12-13T19:12:29.569354",
     "status": "completed"
    },
    "tags": []
   },
   "source": [
    "### 3) Create a crime map\n",
    "\n",
    "If you wanted to create a map with a dot at the location of each crime, what are the names of the two fields you likely need to pull out of the `crime` table to plot the crimes on a map?"
   ]
  },
  {
   "cell_type": "code",
   "execution_count": 11,
   "id": "7b4e63ba",
   "metadata": {
    "execution": {
     "iopub.execute_input": "2022-12-13T19:12:29.593461Z",
     "iopub.status.busy": "2022-12-13T19:12:29.592442Z",
     "iopub.status.idle": "2022-12-13T19:12:30.243645Z",
     "shell.execute_reply": "2022-12-13T19:12:30.242554Z"
    },
    "papermill": {
     "duration": 0.66199,
     "end_time": "2022-12-13T19:12:30.245877",
     "exception": false,
     "start_time": "2022-12-13T19:12:29.583887",
     "status": "completed"
    },
    "tags": []
   },
   "outputs": [
    {
     "name": "stderr",
     "output_type": "stream",
     "text": [
      "/opt/conda/lib/python3.7/site-packages/ipykernel_launcher.py:2: UserWarning: Cannot use bqstorage_client if max_results is set, reverting to fetching data with the tabledata.list endpoint.\n",
      "  \n"
     ]
    },
    {
     "data": {
      "text/html": [
       "<div>\n",
       "<style scoped>\n",
       "    .dataframe tbody tr th:only-of-type {\n",
       "        vertical-align: middle;\n",
       "    }\n",
       "\n",
       "    .dataframe tbody tr th {\n",
       "        vertical-align: top;\n",
       "    }\n",
       "\n",
       "    .dataframe thead th {\n",
       "        text-align: right;\n",
       "    }\n",
       "</style>\n",
       "<table border=\"1\" class=\"dataframe\">\n",
       "  <thead>\n",
       "    <tr style=\"text-align: right;\">\n",
       "      <th></th>\n",
       "      <th>unique_key</th>\n",
       "      <th>case_number</th>\n",
       "      <th>date</th>\n",
       "      <th>block</th>\n",
       "      <th>iucr</th>\n",
       "      <th>primary_type</th>\n",
       "      <th>description</th>\n",
       "      <th>location_description</th>\n",
       "      <th>arrest</th>\n",
       "      <th>domestic</th>\n",
       "      <th>...</th>\n",
       "      <th>ward</th>\n",
       "      <th>community_area</th>\n",
       "      <th>fbi_code</th>\n",
       "      <th>x_coordinate</th>\n",
       "      <th>y_coordinate</th>\n",
       "      <th>year</th>\n",
       "      <th>updated_on</th>\n",
       "      <th>latitude</th>\n",
       "      <th>longitude</th>\n",
       "      <th>location</th>\n",
       "    </tr>\n",
       "  </thead>\n",
       "  <tbody>\n",
       "    <tr>\n",
       "      <th>0</th>\n",
       "      <td>2312</td>\n",
       "      <td>HJ483963</td>\n",
       "      <td>2003-07-23 09:00:00+00:00</td>\n",
       "      <td>105XX S WENTWORTH ST</td>\n",
       "      <td>0110</td>\n",
       "      <td>HOMICIDE</td>\n",
       "      <td>FIRST DEGREE MURDER</td>\n",
       "      <td>STREET</td>\n",
       "      <td>False</td>\n",
       "      <td>False</td>\n",
       "      <td>...</td>\n",
       "      <td>NaN</td>\n",
       "      <td>NaN</td>\n",
       "      <td>01A</td>\n",
       "      <td>1176810.0</td>\n",
       "      <td>1835237.0</td>\n",
       "      <td>2003</td>\n",
       "      <td>2022-09-18 04:45:51+00:00</td>\n",
       "      <td>41.703230</td>\n",
       "      <td>-87.628174</td>\n",
       "      <td>(41.703230009, -87.628173505)</td>\n",
       "    </tr>\n",
       "    <tr>\n",
       "      <th>1</th>\n",
       "      <td>26735</td>\n",
       "      <td>JF225985</td>\n",
       "      <td>2022-04-30 11:19:00+00:00</td>\n",
       "      <td>005XX E 106TH ST</td>\n",
       "      <td>0110</td>\n",
       "      <td>HOMICIDE</td>\n",
       "      <td>FIRST DEGREE MURDER</td>\n",
       "      <td>ALLEY</td>\n",
       "      <td>True</td>\n",
       "      <td>False</td>\n",
       "      <td>...</td>\n",
       "      <td>9.0</td>\n",
       "      <td>49.0</td>\n",
       "      <td>01A</td>\n",
       "      <td>1181917.0</td>\n",
       "      <td>1834793.0</td>\n",
       "      <td>2022</td>\n",
       "      <td>2022-09-18 04:45:51+00:00</td>\n",
       "      <td>41.701895</td>\n",
       "      <td>-87.609487</td>\n",
       "      <td>(41.701895341, -87.60948662)</td>\n",
       "    </tr>\n",
       "    <tr>\n",
       "      <th>2</th>\n",
       "      <td>26773</td>\n",
       "      <td>JF247428</td>\n",
       "      <td>2022-05-18 10:06:00+00:00</td>\n",
       "      <td>002XX W 105TH ST</td>\n",
       "      <td>0110</td>\n",
       "      <td>HOMICIDE</td>\n",
       "      <td>FIRST DEGREE MURDER</td>\n",
       "      <td>HOUSE</td>\n",
       "      <td>True</td>\n",
       "      <td>True</td>\n",
       "      <td>...</td>\n",
       "      <td>34.0</td>\n",
       "      <td>49.0</td>\n",
       "      <td>01A</td>\n",
       "      <td>1176555.0</td>\n",
       "      <td>1835314.0</td>\n",
       "      <td>2022</td>\n",
       "      <td>2022-09-18 04:45:51+00:00</td>\n",
       "      <td>41.703447</td>\n",
       "      <td>-87.629105</td>\n",
       "      <td>(41.703447034, -87.629104948)</td>\n",
       "    </tr>\n",
       "    <tr>\n",
       "      <th>3</th>\n",
       "      <td>24248</td>\n",
       "      <td>JB484762</td>\n",
       "      <td>2018-10-21 10:19:00+00:00</td>\n",
       "      <td>106XX S WABASH AVE</td>\n",
       "      <td>0110</td>\n",
       "      <td>HOMICIDE</td>\n",
       "      <td>FIRST DEGREE MURDER</td>\n",
       "      <td>APARTMENT</td>\n",
       "      <td>True</td>\n",
       "      <td>True</td>\n",
       "      <td>...</td>\n",
       "      <td>9.0</td>\n",
       "      <td>49.0</td>\n",
       "      <td>01A</td>\n",
       "      <td>1178462.0</td>\n",
       "      <td>1834366.0</td>\n",
       "      <td>2018</td>\n",
       "      <td>2022-09-18 04:45:51+00:00</td>\n",
       "      <td>41.700803</td>\n",
       "      <td>-87.622151</td>\n",
       "      <td>(41.700802584, -87.622150622)</td>\n",
       "    </tr>\n",
       "    <tr>\n",
       "      <th>4</th>\n",
       "      <td>3315</td>\n",
       "      <td>HL555724</td>\n",
       "      <td>2005-08-18 12:01:00+00:00</td>\n",
       "      <td>105XX S LANGLEY AVE</td>\n",
       "      <td>0110</td>\n",
       "      <td>HOMICIDE</td>\n",
       "      <td>FIRST DEGREE MURDER</td>\n",
       "      <td>STREET</td>\n",
       "      <td>False</td>\n",
       "      <td>False</td>\n",
       "      <td>...</td>\n",
       "      <td>9.0</td>\n",
       "      <td>50.0</td>\n",
       "      <td>01A</td>\n",
       "      <td>1182782.0</td>\n",
       "      <td>1835068.0</td>\n",
       "      <td>2005</td>\n",
       "      <td>2022-09-18 04:45:51+00:00</td>\n",
       "      <td>41.702630</td>\n",
       "      <td>-87.606311</td>\n",
       "      <td>(41.702629983, -87.606310777)</td>\n",
       "    </tr>\n",
       "  </tbody>\n",
       "</table>\n",
       "<p>5 rows × 22 columns</p>\n",
       "</div>"
      ],
      "text/plain": [
       "   unique_key case_number                      date                 block  \\\n",
       "0        2312    HJ483963 2003-07-23 09:00:00+00:00  105XX S WENTWORTH ST   \n",
       "1       26735    JF225985 2022-04-30 11:19:00+00:00      005XX E 106TH ST   \n",
       "2       26773    JF247428 2022-05-18 10:06:00+00:00      002XX W 105TH ST   \n",
       "3       24248    JB484762 2018-10-21 10:19:00+00:00    106XX S WABASH AVE   \n",
       "4        3315    HL555724 2005-08-18 12:01:00+00:00   105XX S LANGLEY AVE   \n",
       "\n",
       "   iucr primary_type          description location_description  arrest  \\\n",
       "0  0110     HOMICIDE  FIRST DEGREE MURDER               STREET   False   \n",
       "1  0110     HOMICIDE  FIRST DEGREE MURDER                ALLEY    True   \n",
       "2  0110     HOMICIDE  FIRST DEGREE MURDER                HOUSE    True   \n",
       "3  0110     HOMICIDE  FIRST DEGREE MURDER            APARTMENT    True   \n",
       "4  0110     HOMICIDE  FIRST DEGREE MURDER               STREET   False   \n",
       "\n",
       "   domestic  ...  ward  community_area  fbi_code  x_coordinate y_coordinate  \\\n",
       "0     False  ...   NaN             NaN       01A     1176810.0    1835237.0   \n",
       "1     False  ...   9.0            49.0       01A     1181917.0    1834793.0   \n",
       "2      True  ...  34.0            49.0       01A     1176555.0    1835314.0   \n",
       "3      True  ...   9.0            49.0       01A     1178462.0    1834366.0   \n",
       "4     False  ...   9.0            50.0       01A     1182782.0    1835068.0   \n",
       "\n",
       "   year                updated_on   latitude  longitude  \\\n",
       "0  2003 2022-09-18 04:45:51+00:00  41.703230 -87.628174   \n",
       "1  2022 2022-09-18 04:45:51+00:00  41.701895 -87.609487   \n",
       "2  2022 2022-09-18 04:45:51+00:00  41.703447 -87.629105   \n",
       "3  2018 2022-09-18 04:45:51+00:00  41.700803 -87.622151   \n",
       "4  2005 2022-09-18 04:45:51+00:00  41.702630 -87.606311   \n",
       "\n",
       "                        location  \n",
       "0  (41.703230009, -87.628173505)  \n",
       "1   (41.701895341, -87.60948662)  \n",
       "2  (41.703447034, -87.629104948)  \n",
       "3  (41.700802584, -87.622150622)  \n",
       "4  (41.702629983, -87.606310777)  \n",
       "\n",
       "[5 rows x 22 columns]"
      ]
     },
     "execution_count": 11,
     "metadata": {},
     "output_type": "execute_result"
    }
   ],
   "source": [
    "# Write the code here to explore the data so you can find the answer\n",
    "client.list_rows(table, max_results=5).to_dataframe()"
   ]
  },
  {
   "cell_type": "code",
   "execution_count": 12,
   "id": "9cf73407",
   "metadata": {
    "execution": {
     "iopub.execute_input": "2022-12-13T19:12:30.263537Z",
     "iopub.status.busy": "2022-12-13T19:12:30.263146Z",
     "iopub.status.idle": "2022-12-13T19:12:30.272827Z",
     "shell.execute_reply": "2022-12-13T19:12:30.271841Z"
    },
    "papermill": {
     "duration": 0.020967,
     "end_time": "2022-12-13T19:12:30.275191",
     "exception": false,
     "start_time": "2022-12-13T19:12:30.254224",
     "status": "completed"
    },
    "tags": []
   },
   "outputs": [
    {
     "name": "stdout",
     "output_type": "stream",
     "text": [
      "`'latitude'` and `'longitude'` would be better and more standard than `'x_coordinate'` and `'y_coordinate'`, but this might work.\n"
     ]
    },
    {
     "data": {
      "application/javascript": [
       "parent.postMessage({\"jupyterEvent\": \"custom.exercise_interaction\", \"data\": {\"outcomeType\": 1, \"valueTowardsCompletion\": 0.3333333333333333, \"interactionType\": 1, \"questionType\": 2, \"questionId\": \"3_IdentifyFieldsForPlotting\", \"learnToolsVersion\": \"0.3.4\", \"failureMessage\": \"\", \"exceptionClass\": \"\", \"trace\": \"\"}}, \"*\")"
      ],
      "text/plain": [
       "<IPython.core.display.Javascript object>"
      ]
     },
     "metadata": {},
     "output_type": "display_data"
    },
    {
     "data": {
      "text/markdown": [
       "<span style=\"color:#33cc33\">Correct</span>"
      ],
      "text/plain": [
       "Correct"
      ]
     },
     "metadata": {},
     "output_type": "display_data"
    }
   ],
   "source": [
    "fields_for_plotting = ['x_coordinate','y_coordinate'] # Put your answers here\n",
    "\n",
    "# Check your answer\n",
    "q_3.check()"
   ]
  },
  {
   "cell_type": "markdown",
   "id": "812df56d",
   "metadata": {
    "papermill": {
     "duration": 0.007766,
     "end_time": "2022-12-13T19:12:30.291013",
     "exception": false,
     "start_time": "2022-12-13T19:12:30.283247",
     "status": "completed"
    },
    "tags": []
   },
   "source": [
    "For a hint or the solution, uncomment the appropriate line below."
   ]
  },
  {
   "cell_type": "code",
   "execution_count": 13,
   "id": "2157b66e",
   "metadata": {
    "execution": {
     "iopub.execute_input": "2022-12-13T19:12:30.309383Z",
     "iopub.status.busy": "2022-12-13T19:12:30.308313Z",
     "iopub.status.idle": "2022-12-13T19:12:30.319514Z",
     "shell.execute_reply": "2022-12-13T19:12:30.318730Z"
    },
    "papermill": {
     "duration": 0.022662,
     "end_time": "2022-12-13T19:12:30.321614",
     "exception": false,
     "start_time": "2022-12-13T19:12:30.298952",
     "status": "completed"
    },
    "tags": []
   },
   "outputs": [
    {
     "data": {
      "application/javascript": [
       "parent.postMessage({\"jupyterEvent\": \"custom.exercise_interaction\", \"data\": {\"interactionType\": 2, \"questionType\": 2, \"questionId\": \"3_IdentifyFieldsForPlotting\", \"learnToolsVersion\": \"0.3.4\", \"valueTowardsCompletion\": 0.0, \"failureMessage\": \"\", \"exceptionClass\": \"\", \"trace\": \"\", \"outcomeType\": 4}}, \"*\")"
      ],
      "text/plain": [
       "<IPython.core.display.Javascript object>"
      ]
     },
     "metadata": {},
     "output_type": "display_data"
    },
    {
     "data": {
      "text/markdown": [
       "<span style=\"color:#3366cc\">Hint:</span> Look at the table schema.  There are a couple options, but two of the fields are things commonly used to plot on maps. Both are `'FLOAT'` types. Use quotes around the field names in your answer."
      ],
      "text/plain": [
       "Hint: Look at the table schema.  There are a couple options, but two of the fields are things commonly used to plot on maps. Both are `'FLOAT'` types. Use quotes around the field names in your answer."
      ]
     },
     "metadata": {},
     "output_type": "display_data"
    },
    {
     "data": {
      "application/javascript": [
       "parent.postMessage({\"jupyterEvent\": \"custom.exercise_interaction\", \"data\": {\"interactionType\": 3, \"questionType\": 2, \"questionId\": \"3_IdentifyFieldsForPlotting\", \"learnToolsVersion\": \"0.3.4\", \"valueTowardsCompletion\": 0.0, \"failureMessage\": \"\", \"exceptionClass\": \"\", \"trace\": \"\", \"outcomeType\": 4}}, \"*\")"
      ],
      "text/plain": [
       "<IPython.core.display.Javascript object>"
      ]
     },
     "metadata": {},
     "output_type": "display_data"
    },
    {
     "data": {
      "text/markdown": [
       "<span style=\"color:#33cc99\">Solution:</span> \n",
       "```python\n",
       "fields_for_plotting = ['latitude', 'longitude']\n",
       "```"
      ],
      "text/plain": [
       "Solution: \n",
       "```python\n",
       "fields_for_plotting = ['latitude', 'longitude']\n",
       "```"
      ]
     },
     "metadata": {},
     "output_type": "display_data"
    }
   ],
   "source": [
    "q_3.hint()\n",
    "q_3.solution()"
   ]
  },
  {
   "cell_type": "markdown",
   "id": "7b3f3742",
   "metadata": {
    "papermill": {
     "duration": 0.008067,
     "end_time": "2022-12-13T19:12:30.338475",
     "exception": false,
     "start_time": "2022-12-13T19:12:30.330408",
     "status": "completed"
    },
    "tags": []
   },
   "source": [
    "Thinking about the question above, there are a few columns that appear to have geographic data. Look at a few values (with the `list_rows()` command) to see if you can determine their relationship.  Two columns will still be hard to interpret. But it should be obvious how the `location` column relates to `latitude` and `longitude`."
   ]
  },
  {
   "cell_type": "code",
   "execution_count": 14,
   "id": "cc1d7aa4",
   "metadata": {
    "execution": {
     "iopub.execute_input": "2022-12-13T19:12:30.357090Z",
     "iopub.status.busy": "2022-12-13T19:12:30.356291Z",
     "iopub.status.idle": "2022-12-13T19:12:30.361428Z",
     "shell.execute_reply": "2022-12-13T19:12:30.360000Z"
    },
    "papermill": {
     "duration": 0.016939,
     "end_time": "2022-12-13T19:12:30.363655",
     "exception": false,
     "start_time": "2022-12-13T19:12:30.346716",
     "status": "completed"
    },
    "tags": []
   },
   "outputs": [],
   "source": [
    "# Scratch space for your code"
   ]
  },
  {
   "cell_type": "markdown",
   "id": "806f7fb4",
   "metadata": {
    "papermill": {
     "duration": 0.008184,
     "end_time": "2022-12-13T19:12:30.380945",
     "exception": false,
     "start_time": "2022-12-13T19:12:30.372761",
     "status": "completed"
    },
    "tags": []
   },
   "source": [
    "# Keep going\n",
    "\n",
    "You've looked at the schema, but you haven't yet done anything exciting with the data itself. Things get more interesting when you get to the data, so keep going to **[write your first SQL query](https://www.kaggle.com/dansbecker/select-from-where).**"
   ]
  },
  {
   "cell_type": "markdown",
   "id": "e82e94c5",
   "metadata": {
    "papermill": {
     "duration": 0.008124,
     "end_time": "2022-12-13T19:12:30.397610",
     "exception": false,
     "start_time": "2022-12-13T19:12:30.389486",
     "status": "completed"
    },
    "tags": []
   },
   "source": [
    "---\n",
    "\n",
    "\n",
    "\n",
    "\n",
    "*Have questions or comments? Visit the [course discussion forum](https://www.kaggle.com/learn/intro-to-sql/discussion) to chat with other learners.*"
   ]
  }
 ],
 "metadata": {
  "kernelspec": {
   "display_name": "Python 3",
   "language": "python",
   "name": "python3"
  },
  "language_info": {
   "codemirror_mode": {
    "name": "ipython",
    "version": 3
   },
   "file_extension": ".py",
   "mimetype": "text/x-python",
   "name": "python",
   "nbconvert_exporter": "python",
   "pygments_lexer": "ipython3",
   "version": "3.7.12"
  },
  "papermill": {
   "default_parameters": {},
   "duration": 12.399359,
   "end_time": "2022-12-13T19:12:31.027253",
   "environment_variables": {},
   "exception": null,
   "input_path": "__notebook__.ipynb",
   "output_path": "__notebook__.ipynb",
   "parameters": {},
   "start_time": "2022-12-13T19:12:18.627894",
   "version": "2.3.4"
  }
 },
 "nbformat": 4,
 "nbformat_minor": 5
}
