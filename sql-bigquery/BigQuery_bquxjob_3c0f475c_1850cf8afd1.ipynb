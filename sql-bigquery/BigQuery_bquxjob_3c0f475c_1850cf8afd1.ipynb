{
  "cells": [
    {
      "cell_type": "markdown",
      "metadata": {
        "id": "view-in-github",
        "colab_type": "text"
      },
      "source": [
        "<a href=\"https://colab.research.google.com/github/pawara101/notebooks/blob/main/sql-bigquery/BigQuery_bquxjob_3c0f475c_1850cf8afd1.ipynb\" target=\"_parent\"><img src=\"https://colab.research.google.com/assets/colab-badge.svg\" alt=\"Open In Colab\"/></a>"
      ]
    },
    {
      "cell_type": "code",
      "execution_count": 2,
      "metadata": {
        "id": "w6MmeBUBJ-9E"
      },
      "outputs": [],
      "source": [
        "# @title Setup\n",
        "from google.colab import auth\n",
        "from google.cloud import bigquery\n",
        "from google.colab import data_table\n",
        "\n",
        "project = 'global-doodad-360407' # Project ID inserted based on the query results selected to explore\n",
        "location = 'US' # Location inserted based on the query results selected to explore\n",
        "client = bigquery.Client(project=project, location=location)\n",
        "data_table.enable_dataframe_formatter()\n",
        "auth.authenticate_user()"
      ]
    },
    {
      "cell_type": "markdown",
      "metadata": {
        "id": "pj42soltXW_H"
      },
      "source": [
        "## Reference SQL syntax from the original job\n",
        "Use the ```jobs.query```\n",
        "[method](https://cloud.google.com/bigquery/docs/reference/rest/v2/jobs/query) to\n",
        "return the SQL syntax from the job. This can be copied from the output cell\n",
        "below to edit the query now or in the future. Alternatively, you can use\n",
        "[this link](https://console.cloud.google.com/bigquery?j=global-doodad-360407:US:bquxjob_3c0f475c_1850cf8afd1)\n",
        "back to BigQuery to edit the query within the BigQuery user interface."
      ]
    },
    {
      "cell_type": "code",
      "execution_count": 3,
      "metadata": {
        "id": "KxSqPfAeXW_K",
        "outputId": "7b766a53-9cbf-4eba-b35d-6dae723b588e",
        "colab": {
          "base_uri": "https://localhost:8080/"
        }
      },
      "outputs": [
        {
          "output_type": "stream",
          "name": "stdout",
          "text": [
            "SELECT * FROM `bigquery-public-data.google_analytics_sample.ga_sessions_20170801` LIMIT 1000\n"
          ]
        }
      ],
      "source": [
        "# Running this code will display the query used to generate your previous job\n",
        "\n",
        "job = client.get_job('bquxjob_3c0f475c_1850cf8afd1') # Job ID inserted based on the query results selected to explore\n",
        "print(job.query)"
      ]
    },
    {
      "cell_type": "markdown",
      "metadata": {
        "id": "eY-wNOGO11ON"
      },
      "source": [
        "# Result set loaded from BigQuery job as a DataFrame\n",
        "Query results are referenced from the Job ID ran from BigQuery and the query\n",
        "does not need to be re-run to explore results. The ```to_dataframe```\n",
        "[method](https://googleapis.dev/python/bigquery/latest/generated/google.cloud.bigquery.job.QueryJob.html#google.cloud.bigquery.job.QueryJob.to_dataframe)\n",
        "downloads the results to a Pandas DataFrame by using the BigQuery Storage API.\n",
        "\n",
        "To edit query syntax, you can do so from the BigQuery SQL editor or in the\n",
        "```Optional:``` sections below."
      ]
    },
    {
      "cell_type": "code",
      "execution_count": null,
      "metadata": {
        "id": "bIw82qhuHWy0"
      },
      "outputs": [],
      "source": [
        "# Running this code will read results from your previous job\n",
        "\n",
        "job = client.get_job('bquxjob_3c0f475c_1850cf8afd1') # Job ID inserted based on the query results selected to explore\n",
        "results = job.to_dataframe()\n",
        "results.head(1)"
      ]
    },
    {
      "cell_type": "markdown",
      "metadata": {
        "id": "84Ub57pbB6EN"
      },
      "source": [
        "## Show descriptive statistics using describe()\n",
        "Use the ```pandas DataFrame.describe()```\n",
        "[method](https://pandas.pydata.org/docs/reference/api/pandas.DataFrame.describe.html)\n",
        "to generate descriptive statistics. Descriptive statistics include those that\n",
        "summarize the central tendency, dispersion and shape of a dataset’s\n",
        "distribution, excluding ```NaN``` values. You may also use other Python methods\n",
        "to interact with your data."
      ]
    },
    {
      "cell_type": "code",
      "execution_count": 7,
      "metadata": {
        "id": "fsAsHoWDZMpv",
        "outputId": "e897aa9c-220f-4afe-f441-34b562a2015c",
        "colab": {
          "base_uri": "https://localhost:8080/",
          "height": 262
        }
      },
      "outputs": [
        {
          "output_type": "execute_result",
          "data": {
            "text/plain": [
              "      visitorId  visitNumber       visitId  visitStartTime\n",
              "count         0  1000.000000  1.000000e+03    1.000000e+03\n",
              "mean       <NA>     2.470000  1.501612e+09    1.501612e+09\n",
              "std        <NA>     9.413805  2.372394e+04    2.372394e+04\n",
              "min        <NA>     1.000000  1.501571e+09    1.501571e+09\n",
              "25%        <NA>     1.000000  1.501593e+09    1.501593e+09\n",
              "50%        <NA>     1.000000  1.501611e+09    1.501611e+09\n",
              "75%        <NA>     1.000000  1.501630e+09    1.501630e+09\n",
              "max        <NA>   153.000000  1.501657e+09    1.501657e+09"
            ],
            "text/html": [
              "\n",
              "  <div id=\"df-90007bb5-68d0-48fc-a508-7193f8d85b9a\">\n",
              "    <div class=\"colab-df-container\">\n",
              "      <div>\n",
              "<style scoped>\n",
              "    .dataframe tbody tr th:only-of-type {\n",
              "        vertical-align: middle;\n",
              "    }\n",
              "\n",
              "    .dataframe tbody tr th {\n",
              "        vertical-align: top;\n",
              "    }\n",
              "\n",
              "    .dataframe thead th {\n",
              "        text-align: right;\n",
              "    }\n",
              "</style>\n",
              "<table border=\"1\" class=\"dataframe\">\n",
              "  <thead>\n",
              "    <tr style=\"text-align: right;\">\n",
              "      <th></th>\n",
              "      <th>visitorId</th>\n",
              "      <th>visitNumber</th>\n",
              "      <th>visitId</th>\n",
              "      <th>visitStartTime</th>\n",
              "    </tr>\n",
              "  </thead>\n",
              "  <tbody>\n",
              "    <tr>\n",
              "      <th>count</th>\n",
              "      <td>0</td>\n",
              "      <td>1000.000000</td>\n",
              "      <td>1.000000e+03</td>\n",
              "      <td>1.000000e+03</td>\n",
              "    </tr>\n",
              "    <tr>\n",
              "      <th>mean</th>\n",
              "      <td>&lt;NA&gt;</td>\n",
              "      <td>2.470000</td>\n",
              "      <td>1.501612e+09</td>\n",
              "      <td>1.501612e+09</td>\n",
              "    </tr>\n",
              "    <tr>\n",
              "      <th>std</th>\n",
              "      <td>&lt;NA&gt;</td>\n",
              "      <td>9.413805</td>\n",
              "      <td>2.372394e+04</td>\n",
              "      <td>2.372394e+04</td>\n",
              "    </tr>\n",
              "    <tr>\n",
              "      <th>min</th>\n",
              "      <td>&lt;NA&gt;</td>\n",
              "      <td>1.000000</td>\n",
              "      <td>1.501571e+09</td>\n",
              "      <td>1.501571e+09</td>\n",
              "    </tr>\n",
              "    <tr>\n",
              "      <th>25%</th>\n",
              "      <td>&lt;NA&gt;</td>\n",
              "      <td>1.000000</td>\n",
              "      <td>1.501593e+09</td>\n",
              "      <td>1.501593e+09</td>\n",
              "    </tr>\n",
              "    <tr>\n",
              "      <th>50%</th>\n",
              "      <td>&lt;NA&gt;</td>\n",
              "      <td>1.000000</td>\n",
              "      <td>1.501611e+09</td>\n",
              "      <td>1.501611e+09</td>\n",
              "    </tr>\n",
              "    <tr>\n",
              "      <th>75%</th>\n",
              "      <td>&lt;NA&gt;</td>\n",
              "      <td>1.000000</td>\n",
              "      <td>1.501630e+09</td>\n",
              "      <td>1.501630e+09</td>\n",
              "    </tr>\n",
              "    <tr>\n",
              "      <th>max</th>\n",
              "      <td>&lt;NA&gt;</td>\n",
              "      <td>153.000000</td>\n",
              "      <td>1.501657e+09</td>\n",
              "      <td>1.501657e+09</td>\n",
              "    </tr>\n",
              "  </tbody>\n",
              "</table>\n",
              "</div>\n",
              "      <button class=\"colab-df-convert\" onclick=\"convertToInteractive('df-90007bb5-68d0-48fc-a508-7193f8d85b9a')\"\n",
              "              title=\"Convert this dataframe to an interactive table.\"\n",
              "              style=\"display:none;\">\n",
              "        \n",
              "  <svg xmlns=\"http://www.w3.org/2000/svg\" height=\"24px\"viewBox=\"0 0 24 24\"\n",
              "       width=\"24px\">\n",
              "    <path d=\"M0 0h24v24H0V0z\" fill=\"none\"/>\n",
              "    <path d=\"M18.56 5.44l.94 2.06.94-2.06 2.06-.94-2.06-.94-.94-2.06-.94 2.06-2.06.94zm-11 1L8.5 8.5l.94-2.06 2.06-.94-2.06-.94L8.5 2.5l-.94 2.06-2.06.94zm10 10l.94 2.06.94-2.06 2.06-.94-2.06-.94-.94-2.06-.94 2.06-2.06.94z\"/><path d=\"M17.41 7.96l-1.37-1.37c-.4-.4-.92-.59-1.43-.59-.52 0-1.04.2-1.43.59L10.3 9.45l-7.72 7.72c-.78.78-.78 2.05 0 2.83L4 21.41c.39.39.9.59 1.41.59.51 0 1.02-.2 1.41-.59l7.78-7.78 2.81-2.81c.8-.78.8-2.07 0-2.86zM5.41 20L4 18.59l7.72-7.72 1.47 1.35L5.41 20z\"/>\n",
              "  </svg>\n",
              "      </button>\n",
              "      \n",
              "  <style>\n",
              "    .colab-df-container {\n",
              "      display:flex;\n",
              "      flex-wrap:wrap;\n",
              "      gap: 12px;\n",
              "    }\n",
              "\n",
              "    .colab-df-convert {\n",
              "      background-color: #E8F0FE;\n",
              "      border: none;\n",
              "      border-radius: 50%;\n",
              "      cursor: pointer;\n",
              "      display: none;\n",
              "      fill: #1967D2;\n",
              "      height: 32px;\n",
              "      padding: 0 0 0 0;\n",
              "      width: 32px;\n",
              "    }\n",
              "\n",
              "    .colab-df-convert:hover {\n",
              "      background-color: #E2EBFA;\n",
              "      box-shadow: 0px 1px 2px rgba(60, 64, 67, 0.3), 0px 1px 3px 1px rgba(60, 64, 67, 0.15);\n",
              "      fill: #174EA6;\n",
              "    }\n",
              "\n",
              "    [theme=dark] .colab-df-convert {\n",
              "      background-color: #3B4455;\n",
              "      fill: #D2E3FC;\n",
              "    }\n",
              "\n",
              "    [theme=dark] .colab-df-convert:hover {\n",
              "      background-color: #434B5C;\n",
              "      box-shadow: 0px 1px 3px 1px rgba(0, 0, 0, 0.15);\n",
              "      filter: drop-shadow(0px 1px 2px rgba(0, 0, 0, 0.3));\n",
              "      fill: #FFFFFF;\n",
              "    }\n",
              "  </style>\n",
              "\n",
              "      <script>\n",
              "        const buttonEl =\n",
              "          document.querySelector('#df-90007bb5-68d0-48fc-a508-7193f8d85b9a button.colab-df-convert');\n",
              "        buttonEl.style.display =\n",
              "          google.colab.kernel.accessAllowed ? 'block' : 'none';\n",
              "\n",
              "        async function convertToInteractive(key) {\n",
              "          const element = document.querySelector('#df-90007bb5-68d0-48fc-a508-7193f8d85b9a');\n",
              "          const dataTable =\n",
              "            await google.colab.kernel.invokeFunction('convertToInteractive',\n",
              "                                                     [key], {});\n",
              "          if (!dataTable) return;\n",
              "\n",
              "          const docLinkHtml = 'Like what you see? Visit the ' +\n",
              "            '<a target=\"_blank\" href=https://colab.research.google.com/notebooks/data_table.ipynb>data table notebook</a>'\n",
              "            + ' to learn more about interactive tables.';\n",
              "          element.innerHTML = '';\n",
              "          dataTable['output_type'] = 'display_data';\n",
              "          await google.colab.output.renderOutput(dataTable, element);\n",
              "          const docLink = document.createElement('div');\n",
              "          docLink.innerHTML = docLinkHtml;\n",
              "          element.appendChild(docLink);\n",
              "        }\n",
              "      </script>\n",
              "    </div>\n",
              "  </div>\n",
              "  "
            ],
            "application/vnd.google.colaboratory.module+javascript": "\n      import \"https://ssl.gstatic.com/colaboratory/data_table/fb998edc550c7947/data_table.js\";\n\n      window.createDataTable({\n        data: [[\"count\",\n0,\n{\n            'v': 1000.0,\n            'f': \"1000.0\",\n        },\n{\n            'v': 1000.0,\n            'f': \"1000.0\",\n        },\n{\n            'v': 1000.0,\n            'f': \"1000.0\",\n        }],\n [\"mean\",\n\"<NA>\",\n{\n            'v': 2.47,\n            'f': \"2.47\",\n        },\n{\n            'v': 1501612119.944,\n            'f': \"1501612119.944\",\n        },\n{\n            'v': 1501612119.957,\n            'f': \"1501612119.957\",\n        }],\n [\"std\",\n\"<NA>\",\n{\n            'v': 9.413804741958465,\n            'f': \"9.413804741958465\",\n        },\n{\n            'v': 23723.942402813154,\n            'f': \"23723.942402813154\",\n        },\n{\n            'v': 23723.938834539596,\n            'f': \"23723.938834539596\",\n        }],\n [\"min\",\n\"<NA>\",\n{\n            'v': 1.0,\n            'f': \"1.0\",\n        },\n{\n            'v': 1501571009.0,\n            'f': \"1501571009.0\",\n        },\n{\n            'v': 1501571009.0,\n            'f': \"1501571009.0\",\n        }],\n [\"25%\",\n\"<NA>\",\n{\n            'v': 1.0,\n            'f': \"1.0\",\n        },\n{\n            'v': 1501593233.75,\n            'f': \"1501593233.75\",\n        },\n{\n            'v': 1501593233.75,\n            'f': \"1501593233.75\",\n        }],\n [\"50%\",\n\"<NA>\",\n{\n            'v': 1.0,\n            'f': \"1.0\",\n        },\n{\n            'v': 1501611052.0,\n            'f': \"1501611052.0\",\n        },\n{\n            'v': 1501611052.0,\n            'f': \"1501611052.0\",\n        }],\n [\"75%\",\n\"<NA>\",\n{\n            'v': 1.0,\n            'f': \"1.0\",\n        },\n{\n            'v': 1501630014.75,\n            'f': \"1501630014.75\",\n        },\n{\n            'v': 1501630014.75,\n            'f': \"1501630014.75\",\n        }],\n [\"max\",\n\"<NA>\",\n{\n            'v': 153.0,\n            'f': \"153.0\",\n        },\n{\n            'v': 1501657186.0,\n            'f': \"1501657186.0\",\n        },\n{\n            'v': 1501657186.0,\n            'f': \"1501657186.0\",\n        }]],\n        columns: [[\"string\", \"index\"], [\"string\", \"visitorId\"], [\"number\", \"visitNumber\"], [\"number\", \"visitId\"], [\"number\", \"visitStartTime\"]],\n        columnOptions: [{\"width\": \"1px\", \"className\": \"index_column\"}],\n        rowsPerPage: 25,\n        helpUrl: \"https://colab.research.google.com/notebooks/data_table.ipynb\",\n        suppressOutputScrolling: true,\n        minimumWidth: undefined,\n      });\n    "
          },
          "metadata": {},
          "execution_count": 7
        }
      ],
      "source": [
        "results.describe()"
      ]
    },
    {
      "cell_type": "code",
      "source": [],
      "metadata": {
        "id": "MGfxIfGz-1Bu"
      },
      "execution_count": null,
      "outputs": []
    }
  ],
  "metadata": {
    "colab": {
      "cell_execution_strategy": "setup",
      "name": "BigQuery bquxjob_3c0f475c_1850cf8afd1",
      "provenance": [],
      "include_colab_link": true
    },
    "kernelspec": {
      "display_name": "Python 3",
      "name": "python3"
    },
    "language_info": {
      "name": "python"
    }
  },
  "nbformat": 4,
  "nbformat_minor": 0
}