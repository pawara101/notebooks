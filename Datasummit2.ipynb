{
  "nbformat": 4,
  "nbformat_minor": 0,
  "metadata": {
    "colab": {
      "provenance": [],
      "collapsed_sections": [],
      "authorship_tag": "ABX9TyNVh+kNhri0nd60R8cpu9uf",
      "include_colab_link": true
    },
    "kernelspec": {
      "name": "python3",
      "display_name": "Python 3"
    },
    "language_info": {
      "name": "python"
    }
  },
  "cells": [
    {
      "cell_type": "markdown",
      "metadata": {
        "id": "view-in-github",
        "colab_type": "text"
      },
      "source": [
        "<a href=\"https://colab.research.google.com/github/pawara101/notebooks/blob/main/Datasummit2.ipynb\" target=\"_parent\"><img src=\"https://colab.research.google.com/assets/colab-badge.svg\" alt=\"Open In Colab\"/></a>"
      ]
    },
    {
      "cell_type": "code",
      "execution_count": null,
      "metadata": {
        "colab": {
          "base_uri": "https://localhost:8080/"
        },
        "id": "a7BTm8sAJjnC",
        "outputId": "27d563e1-a9e8-4d2b-e040-123b47d61ddb"
      },
      "outputs": [
        {
          "output_type": "stream",
          "name": "stdout",
          "text": [
            "Looking in indexes: https://pypi.org/simple, https://us-python.pkg.dev/colab-wheels/public/simple/\n",
            "Requirement already satisfied: kaggle in /usr/local/lib/python3.7/dist-packages (1.5.12)\n",
            "Requirement already satisfied: python-slugify in /usr/local/lib/python3.7/dist-packages (from kaggle) (6.1.2)\n",
            "Requirement already satisfied: certifi in /usr/local/lib/python3.7/dist-packages (from kaggle) (2022.9.24)\n",
            "Requirement already satisfied: python-dateutil in /usr/local/lib/python3.7/dist-packages (from kaggle) (2.8.2)\n",
            "Requirement already satisfied: urllib3 in /usr/local/lib/python3.7/dist-packages (from kaggle) (1.24.3)\n",
            "Requirement already satisfied: six>=1.10 in /usr/local/lib/python3.7/dist-packages (from kaggle) (1.15.0)\n",
            "Requirement already satisfied: requests in /usr/local/lib/python3.7/dist-packages (from kaggle) (2.23.0)\n",
            "Requirement already satisfied: tqdm in /usr/local/lib/python3.7/dist-packages (from kaggle) (4.64.1)\n",
            "Requirement already satisfied: text-unidecode>=1.3 in /usr/local/lib/python3.7/dist-packages (from python-slugify->kaggle) (1.3)\n",
            "Requirement already satisfied: chardet<4,>=3.0.2 in /usr/local/lib/python3.7/dist-packages (from requests->kaggle) (3.0.4)\n",
            "Requirement already satisfied: idna<3,>=2.5 in /usr/local/lib/python3.7/dist-packages (from requests->kaggle) (2.10)\n"
          ]
        }
      ],
      "source": [
        "! pip install kaggle"
      ]
    },
    {
      "cell_type": "code",
      "source": [
        "! mkdir ~/.kaggle"
      ],
      "metadata": {
        "id": "3WWBenaXKJeH",
        "colab": {
          "base_uri": "https://localhost:8080/"
        },
        "outputId": "57431405-a060-435f-feab-072f4e622a44"
      },
      "execution_count": null,
      "outputs": [
        {
          "output_type": "stream",
          "name": "stdout",
          "text": [
            "mkdir: cannot create directory ‘/root/.kaggle’: File exists\n"
          ]
        }
      ]
    },
    {
      "cell_type": "code",
      "source": [
        "! cp kaggle.json ~/.kaggle/"
      ],
      "metadata": {
        "id": "JuYtzf5WKMen",
        "colab": {
          "base_uri": "https://localhost:8080/"
        },
        "outputId": "b15a6014-11cd-42a2-eac5-39e366103c1e"
      },
      "execution_count": null,
      "outputs": [
        {
          "output_type": "stream",
          "name": "stdout",
          "text": [
            "cp: cannot stat 'kaggle.json': No such file or directory\n"
          ]
        }
      ]
    },
    {
      "cell_type": "code",
      "source": [
        "! chmod 600 ~/.kaggle/kaggle.json"
      ],
      "metadata": {
        "id": "SjSYSvC0KMag"
      },
      "execution_count": null,
      "outputs": []
    },
    {
      "cell_type": "code",
      "source": [
        "!kaggle competitions download -c adl-ai-summit-2021-prehackathon"
      ],
      "metadata": {
        "colab": {
          "base_uri": "https://localhost:8080/"
        },
        "id": "ndOHtW6SKP-A",
        "outputId": "6bc7b483-a876-48bf-82c0-269ec0698648"
      },
      "execution_count": null,
      "outputs": [
        {
          "output_type": "stream",
          "name": "stdout",
          "text": [
            "Downloading adl-ai-summit-2021-prehackathon.zip to /content/adl-ai-summit-2021-prehackathon/adl-ai-summit-2021-prehackathon/adl-ai-summit-2021-prehackathon/adl-ai-summit-2021-prehackathon\n",
            "\r  0% 0.00/1.44M [00:00<?, ?B/s]\n",
            "\r100% 1.44M/1.44M [00:00<00:00, 122MB/s]\n"
          ]
        }
      ]
    },
    {
      "cell_type": "code",
      "source": [
        "!unzip -q -o /content/adl-ai-summit-2021-prehackathon.zip -d adl-ai-summit-2021-prehackathon"
      ],
      "metadata": {
        "id": "HIyLy6MQLAsH"
      },
      "execution_count": null,
      "outputs": []
    },
    {
      "cell_type": "code",
      "source": [
        "%ls"
      ],
      "metadata": {
        "colab": {
          "base_uri": "https://localhost:8080/"
        },
        "id": "EXZ5puGkLAna",
        "outputId": "fa0a574c-a522-49fa-dbaf-23ef7fc67ef4"
      },
      "execution_count": null,
      "outputs": [
        {
          "output_type": "stream",
          "name": "stdout",
          "text": [
            "data_dictionary.xlsx  sample_submission.csv  train_dataset.csv\n",
            "mcq_guidelines.pdf    submission1.csv\n",
            "mobile_plans.csv      test_dataset.csv\n"
          ]
        }
      ]
    },
    {
      "cell_type": "code",
      "source": [
        "%cd adl-ai-summit-2021-prehackathon"
      ],
      "metadata": {
        "colab": {
          "base_uri": "https://localhost:8080/"
        },
        "id": "qtkvh15WLAjW",
        "outputId": "81a210b3-2873-468e-b599-e0ece2341ad1"
      },
      "execution_count": null,
      "outputs": [
        {
          "output_type": "stream",
          "name": "stdout",
          "text": [
            "/content/adl-ai-summit-2021-prehackathon/adl-ai-summit-2021-prehackathon/adl-ai-summit-2021-prehackathon/adl-ai-summit-2021-prehackathon/adl-ai-summit-2021-prehackathon\n"
          ]
        }
      ]
    },
    {
      "cell_type": "code",
      "source": [
        "%ls"
      ],
      "metadata": {
        "colab": {
          "base_uri": "https://localhost:8080/"
        },
        "id": "EouwuegWLx8w",
        "outputId": "b1ac6776-0e18-4893-d01d-4e89133d97cb"
      },
      "execution_count": null,
      "outputs": [
        {
          "output_type": "stream",
          "name": "stdout",
          "text": [
            "data_dictionary.xlsx  mobile_plans.csv       test_dataset.csv\n",
            "mcq_guidelines.pdf    sample_submission.csv  train_dataset.csv\n"
          ]
        }
      ]
    },
    {
      "cell_type": "code",
      "source": [
        "%pwd"
      ],
      "metadata": {
        "colab": {
          "base_uri": "https://localhost:8080/",
          "height": 35
        },
        "id": "U59Db-H1pgF9",
        "outputId": "42960b40-f834-4247-91aa-f55a244baee6"
      },
      "execution_count": null,
      "outputs": [
        {
          "output_type": "execute_result",
          "data": {
            "text/plain": [
              "'/content/adl-ai-summit-2021-prehackathon/adl-ai-summit-2021-prehackathon/adl-ai-summit-2021-prehackathon/adl-ai-summit-2021-prehackathon/adl-ai-summit-2021-prehackathon'"
            ],
            "application/vnd.google.colaboratory.intrinsic+json": {
              "type": "string"
            }
          },
          "metadata": {},
          "execution_count": 308
        }
      ]
    },
    {
      "cell_type": "code",
      "source": [
        "# essential Liraries\n",
        "import pandas as pd\n",
        "import matplotlib.pyplot as plt"
      ],
      "metadata": {
        "id": "004ti4Q4Lzm6"
      },
      "execution_count": null,
      "outputs": []
    },
    {
      "cell_type": "code",
      "source": [
        "# load data sets\n",
        "Mob_plans = pd.read_csv('/content/adl-ai-summit-2021-prehackathon/mobile_plans.csv')\n",
        "testset = pd.read_csv('/content/adl-ai-summit-2021-prehackathon/test_dataset.csv')\n",
        "trainset = pd.read_csv('/content/adl-ai-summit-2021-prehackathon/train_dataset.csv')"
      ],
      "metadata": {
        "id": "1q0jmcT1MBk4"
      },
      "execution_count": null,
      "outputs": []
    },
    {
      "cell_type": "code",
      "source": [
        "mobile_plans = pd.read_csv('/content/adl-ai-summit-2021-prehackathon/mobile_plans.csv')"
      ],
      "metadata": {
        "id": "LpcqsG1ZlvLw"
      },
      "execution_count": null,
      "outputs": []
    },
    {
      "cell_type": "markdown",
      "source": [
        "[ADL AI Summit 2021 - PreHackathon](https://www.kaggle.com/competitions/adl-ai-summit-2021-prehackathon/data?select=mobile_plans.csv)"
      ],
      "metadata": {
        "id": "bxRcNRy-p5Te"
      }
    },
    {
      "cell_type": "code",
      "source": [
        "trainset"
      ],
      "metadata": {
        "colab": {
          "base_uri": "https://localhost:8080/",
          "height": 488
        },
        "id": "ABx8OYAMMLct",
        "outputId": "c22b6466-c997-4ea6-f91e-289c82b2444f"
      },
      "execution_count": null,
      "outputs": [
        {
          "output_type": "execute_result",
          "data": {
            "text/plain": [
              "       primary_identifier device_type device_category  gender district_name  \\\n",
              "0                 6875768          4G      Smartphone    MALE       Kegalle   \n",
              "1                 6406277          4G      Smartphone    MALE         Galle   \n",
              "2                 3563570          4G      Smartphone    MALE         Kandy   \n",
              "3                 1853666          4G      Smartphone  FEMALE       Colombo   \n",
              "4                 2794331          4G      Smartphone  FEMALE         Kandy   \n",
              "...                   ...         ...             ...     ...           ...   \n",
              "10495             1438655          4G      Smartphone    MALE      Kalutara   \n",
              "10496             7827264          4G      Smartphone  FEMALE       Colombo   \n",
              "10497             1433957          4G      Smartphone  FEMALE       Colombo   \n",
              "10498             8494507          4G      Smartphone    MALE         Kandy   \n",
              "10499             3569439          3G      Smartphone    MALE      Puttalam   \n",
              "\n",
              "      age_group  network_stay  average_monthly_bill_amount  dusage_sum  \\\n",
              "0         40-50           219                       761.62      6317.0   \n",
              "1         40-50            36                      2482.52     28365.0   \n",
              "2         30-40           186                      1565.55     18581.0   \n",
              "3         40-50            24                      2397.49     91071.0   \n",
              "4         50-60            37                      2501.75     19736.0   \n",
              "...         ...           ...                          ...         ...   \n",
              "10495     40-50            64                      2088.13       479.0   \n",
              "10496       <20             6                      2053.50     23168.0   \n",
              "10497     30-40            69                      2827.33      4553.0   \n",
              "10498     60-70           233                       645.43      2069.0   \n",
              "10499     40-50            33                       498.20       536.0   \n",
              "\n",
              "       dusage_min  ...  vusage_offnet_max  vusage_offnet_min  \\\n",
              "0        2.773958  ...         152.866667                0.0   \n",
              "1        3.079438  ...          35.433333                0.0   \n",
              "2       48.193713  ...           0.000000                0.0   \n",
              "3       22.437842  ...           0.000000                0.0   \n",
              "4       53.302092  ...          87.616667                0.0   \n",
              "...           ...  ...                ...                ...   \n",
              "10495    0.346959  ...          29.866667                0.0   \n",
              "10496    0.219985  ...          25.366667                0.0   \n",
              "10497    4.831711  ...           0.000000                0.0   \n",
              "10498    4.722031  ...          18.650000                0.0   \n",
              "10499    0.003048  ...           4.366667                0.0   \n",
              "\n",
              "       vusage_offnet_days  vusage_offnet_avg  vusage_offnet_stddev  \\\n",
              "0                    27.0          25.099383             34.759221   \n",
              "1                    15.0           5.071111              6.779644   \n",
              "2                     0.0                NaN              0.000000   \n",
              "3                     0.0                NaN              0.000000   \n",
              "4                    23.0          11.256522             16.224071   \n",
              "...                   ...                ...                   ...   \n",
              "10495                 7.0          14.571429              8.017054   \n",
              "10496                 3.0          10.861111              5.151029   \n",
              "10497                 0.0                NaN              0.000000   \n",
              "10498                18.0           5.887963              4.956822   \n",
              "10499                 7.0           2.228571              1.096541   \n",
              "\n",
              "       number_of_fixed_bb_accounts  number_of_iptv_accounts  \\\n",
              "0                              0.0                      1.0   \n",
              "1                              0.0                      0.0   \n",
              "2                              0.0                      0.0   \n",
              "3                              0.0                      0.0   \n",
              "4                              0.0                      1.0   \n",
              "...                            ...                      ...   \n",
              "10495                          0.0                      0.0   \n",
              "10496                          0.0                      0.0   \n",
              "10497                          0.0                      1.0   \n",
              "10498                          0.0                      1.0   \n",
              "10499                          0.0                      0.0   \n",
              "\n",
              "       add_on_tot_rental  add_on_count  next_month_plan  \n",
              "0                    NaN           NaN             PKG2  \n",
              "1                  600.0           2.0             PKG1  \n",
              "2                    0.0           1.0             PKG6  \n",
              "3                 1110.0           2.0             PKG4  \n",
              "4                 1350.0           2.0             PKG4  \n",
              "...                  ...           ...              ...  \n",
              "10495                NaN           NaN             PKG6  \n",
              "10496              580.0           3.0             PKG1  \n",
              "10497                NaN           NaN             PKG6  \n",
              "10498                NaN           NaN             PKG1  \n",
              "10499                NaN           NaN             PKG1  \n",
              "\n",
              "[10500 rows x 31 columns]"
            ],
            "text/html": [
              "\n",
              "  <div id=\"df-a7db10f3-abc3-4e92-91d9-65dc10b67885\">\n",
              "    <div class=\"colab-df-container\">\n",
              "      <div>\n",
              "<style scoped>\n",
              "    .dataframe tbody tr th:only-of-type {\n",
              "        vertical-align: middle;\n",
              "    }\n",
              "\n",
              "    .dataframe tbody tr th {\n",
              "        vertical-align: top;\n",
              "    }\n",
              "\n",
              "    .dataframe thead th {\n",
              "        text-align: right;\n",
              "    }\n",
              "</style>\n",
              "<table border=\"1\" class=\"dataframe\">\n",
              "  <thead>\n",
              "    <tr style=\"text-align: right;\">\n",
              "      <th></th>\n",
              "      <th>primary_identifier</th>\n",
              "      <th>device_type</th>\n",
              "      <th>device_category</th>\n",
              "      <th>gender</th>\n",
              "      <th>district_name</th>\n",
              "      <th>age_group</th>\n",
              "      <th>network_stay</th>\n",
              "      <th>average_monthly_bill_amount</th>\n",
              "      <th>dusage_sum</th>\n",
              "      <th>dusage_min</th>\n",
              "      <th>...</th>\n",
              "      <th>vusage_offnet_max</th>\n",
              "      <th>vusage_offnet_min</th>\n",
              "      <th>vusage_offnet_days</th>\n",
              "      <th>vusage_offnet_avg</th>\n",
              "      <th>vusage_offnet_stddev</th>\n",
              "      <th>number_of_fixed_bb_accounts</th>\n",
              "      <th>number_of_iptv_accounts</th>\n",
              "      <th>add_on_tot_rental</th>\n",
              "      <th>add_on_count</th>\n",
              "      <th>next_month_plan</th>\n",
              "    </tr>\n",
              "  </thead>\n",
              "  <tbody>\n",
              "    <tr>\n",
              "      <th>0</th>\n",
              "      <td>6875768</td>\n",
              "      <td>4G</td>\n",
              "      <td>Smartphone</td>\n",
              "      <td>MALE</td>\n",
              "      <td>Kegalle</td>\n",
              "      <td>40-50</td>\n",
              "      <td>219</td>\n",
              "      <td>761.62</td>\n",
              "      <td>6317.0</td>\n",
              "      <td>2.773958</td>\n",
              "      <td>...</td>\n",
              "      <td>152.866667</td>\n",
              "      <td>0.0</td>\n",
              "      <td>27.0</td>\n",
              "      <td>25.099383</td>\n",
              "      <td>34.759221</td>\n",
              "      <td>0.0</td>\n",
              "      <td>1.0</td>\n",
              "      <td>NaN</td>\n",
              "      <td>NaN</td>\n",
              "      <td>PKG2</td>\n",
              "    </tr>\n",
              "    <tr>\n",
              "      <th>1</th>\n",
              "      <td>6406277</td>\n",
              "      <td>4G</td>\n",
              "      <td>Smartphone</td>\n",
              "      <td>MALE</td>\n",
              "      <td>Galle</td>\n",
              "      <td>40-50</td>\n",
              "      <td>36</td>\n",
              "      <td>2482.52</td>\n",
              "      <td>28365.0</td>\n",
              "      <td>3.079438</td>\n",
              "      <td>...</td>\n",
              "      <td>35.433333</td>\n",
              "      <td>0.0</td>\n",
              "      <td>15.0</td>\n",
              "      <td>5.071111</td>\n",
              "      <td>6.779644</td>\n",
              "      <td>0.0</td>\n",
              "      <td>0.0</td>\n",
              "      <td>600.0</td>\n",
              "      <td>2.0</td>\n",
              "      <td>PKG1</td>\n",
              "    </tr>\n",
              "    <tr>\n",
              "      <th>2</th>\n",
              "      <td>3563570</td>\n",
              "      <td>4G</td>\n",
              "      <td>Smartphone</td>\n",
              "      <td>MALE</td>\n",
              "      <td>Kandy</td>\n",
              "      <td>30-40</td>\n",
              "      <td>186</td>\n",
              "      <td>1565.55</td>\n",
              "      <td>18581.0</td>\n",
              "      <td>48.193713</td>\n",
              "      <td>...</td>\n",
              "      <td>0.000000</td>\n",
              "      <td>0.0</td>\n",
              "      <td>0.0</td>\n",
              "      <td>NaN</td>\n",
              "      <td>0.000000</td>\n",
              "      <td>0.0</td>\n",
              "      <td>0.0</td>\n",
              "      <td>0.0</td>\n",
              "      <td>1.0</td>\n",
              "      <td>PKG6</td>\n",
              "    </tr>\n",
              "    <tr>\n",
              "      <th>3</th>\n",
              "      <td>1853666</td>\n",
              "      <td>4G</td>\n",
              "      <td>Smartphone</td>\n",
              "      <td>FEMALE</td>\n",
              "      <td>Colombo</td>\n",
              "      <td>40-50</td>\n",
              "      <td>24</td>\n",
              "      <td>2397.49</td>\n",
              "      <td>91071.0</td>\n",
              "      <td>22.437842</td>\n",
              "      <td>...</td>\n",
              "      <td>0.000000</td>\n",
              "      <td>0.0</td>\n",
              "      <td>0.0</td>\n",
              "      <td>NaN</td>\n",
              "      <td>0.000000</td>\n",
              "      <td>0.0</td>\n",
              "      <td>0.0</td>\n",
              "      <td>1110.0</td>\n",
              "      <td>2.0</td>\n",
              "      <td>PKG4</td>\n",
              "    </tr>\n",
              "    <tr>\n",
              "      <th>4</th>\n",
              "      <td>2794331</td>\n",
              "      <td>4G</td>\n",
              "      <td>Smartphone</td>\n",
              "      <td>FEMALE</td>\n",
              "      <td>Kandy</td>\n",
              "      <td>50-60</td>\n",
              "      <td>37</td>\n",
              "      <td>2501.75</td>\n",
              "      <td>19736.0</td>\n",
              "      <td>53.302092</td>\n",
              "      <td>...</td>\n",
              "      <td>87.616667</td>\n",
              "      <td>0.0</td>\n",
              "      <td>23.0</td>\n",
              "      <td>11.256522</td>\n",
              "      <td>16.224071</td>\n",
              "      <td>0.0</td>\n",
              "      <td>1.0</td>\n",
              "      <td>1350.0</td>\n",
              "      <td>2.0</td>\n",
              "      <td>PKG4</td>\n",
              "    </tr>\n",
              "    <tr>\n",
              "      <th>...</th>\n",
              "      <td>...</td>\n",
              "      <td>...</td>\n",
              "      <td>...</td>\n",
              "      <td>...</td>\n",
              "      <td>...</td>\n",
              "      <td>...</td>\n",
              "      <td>...</td>\n",
              "      <td>...</td>\n",
              "      <td>...</td>\n",
              "      <td>...</td>\n",
              "      <td>...</td>\n",
              "      <td>...</td>\n",
              "      <td>...</td>\n",
              "      <td>...</td>\n",
              "      <td>...</td>\n",
              "      <td>...</td>\n",
              "      <td>...</td>\n",
              "      <td>...</td>\n",
              "      <td>...</td>\n",
              "      <td>...</td>\n",
              "      <td>...</td>\n",
              "    </tr>\n",
              "    <tr>\n",
              "      <th>10495</th>\n",
              "      <td>1438655</td>\n",
              "      <td>4G</td>\n",
              "      <td>Smartphone</td>\n",
              "      <td>MALE</td>\n",
              "      <td>Kalutara</td>\n",
              "      <td>40-50</td>\n",
              "      <td>64</td>\n",
              "      <td>2088.13</td>\n",
              "      <td>479.0</td>\n",
              "      <td>0.346959</td>\n",
              "      <td>...</td>\n",
              "      <td>29.866667</td>\n",
              "      <td>0.0</td>\n",
              "      <td>7.0</td>\n",
              "      <td>14.571429</td>\n",
              "      <td>8.017054</td>\n",
              "      <td>0.0</td>\n",
              "      <td>0.0</td>\n",
              "      <td>NaN</td>\n",
              "      <td>NaN</td>\n",
              "      <td>PKG6</td>\n",
              "    </tr>\n",
              "    <tr>\n",
              "      <th>10496</th>\n",
              "      <td>7827264</td>\n",
              "      <td>4G</td>\n",
              "      <td>Smartphone</td>\n",
              "      <td>FEMALE</td>\n",
              "      <td>Colombo</td>\n",
              "      <td>&lt;20</td>\n",
              "      <td>6</td>\n",
              "      <td>2053.50</td>\n",
              "      <td>23168.0</td>\n",
              "      <td>0.219985</td>\n",
              "      <td>...</td>\n",
              "      <td>25.366667</td>\n",
              "      <td>0.0</td>\n",
              "      <td>3.0</td>\n",
              "      <td>10.861111</td>\n",
              "      <td>5.151029</td>\n",
              "      <td>0.0</td>\n",
              "      <td>0.0</td>\n",
              "      <td>580.0</td>\n",
              "      <td>3.0</td>\n",
              "      <td>PKG1</td>\n",
              "    </tr>\n",
              "    <tr>\n",
              "      <th>10497</th>\n",
              "      <td>1433957</td>\n",
              "      <td>4G</td>\n",
              "      <td>Smartphone</td>\n",
              "      <td>FEMALE</td>\n",
              "      <td>Colombo</td>\n",
              "      <td>30-40</td>\n",
              "      <td>69</td>\n",
              "      <td>2827.33</td>\n",
              "      <td>4553.0</td>\n",
              "      <td>4.831711</td>\n",
              "      <td>...</td>\n",
              "      <td>0.000000</td>\n",
              "      <td>0.0</td>\n",
              "      <td>0.0</td>\n",
              "      <td>NaN</td>\n",
              "      <td>0.000000</td>\n",
              "      <td>0.0</td>\n",
              "      <td>1.0</td>\n",
              "      <td>NaN</td>\n",
              "      <td>NaN</td>\n",
              "      <td>PKG6</td>\n",
              "    </tr>\n",
              "    <tr>\n",
              "      <th>10498</th>\n",
              "      <td>8494507</td>\n",
              "      <td>4G</td>\n",
              "      <td>Smartphone</td>\n",
              "      <td>MALE</td>\n",
              "      <td>Kandy</td>\n",
              "      <td>60-70</td>\n",
              "      <td>233</td>\n",
              "      <td>645.43</td>\n",
              "      <td>2069.0</td>\n",
              "      <td>4.722031</td>\n",
              "      <td>...</td>\n",
              "      <td>18.650000</td>\n",
              "      <td>0.0</td>\n",
              "      <td>18.0</td>\n",
              "      <td>5.887963</td>\n",
              "      <td>4.956822</td>\n",
              "      <td>0.0</td>\n",
              "      <td>1.0</td>\n",
              "      <td>NaN</td>\n",
              "      <td>NaN</td>\n",
              "      <td>PKG1</td>\n",
              "    </tr>\n",
              "    <tr>\n",
              "      <th>10499</th>\n",
              "      <td>3569439</td>\n",
              "      <td>3G</td>\n",
              "      <td>Smartphone</td>\n",
              "      <td>MALE</td>\n",
              "      <td>Puttalam</td>\n",
              "      <td>40-50</td>\n",
              "      <td>33</td>\n",
              "      <td>498.20</td>\n",
              "      <td>536.0</td>\n",
              "      <td>0.003048</td>\n",
              "      <td>...</td>\n",
              "      <td>4.366667</td>\n",
              "      <td>0.0</td>\n",
              "      <td>7.0</td>\n",
              "      <td>2.228571</td>\n",
              "      <td>1.096541</td>\n",
              "      <td>0.0</td>\n",
              "      <td>0.0</td>\n",
              "      <td>NaN</td>\n",
              "      <td>NaN</td>\n",
              "      <td>PKG1</td>\n",
              "    </tr>\n",
              "  </tbody>\n",
              "</table>\n",
              "<p>10500 rows × 31 columns</p>\n",
              "</div>\n",
              "      <button class=\"colab-df-convert\" onclick=\"convertToInteractive('df-a7db10f3-abc3-4e92-91d9-65dc10b67885')\"\n",
              "              title=\"Convert this dataframe to an interactive table.\"\n",
              "              style=\"display:none;\">\n",
              "        \n",
              "  <svg xmlns=\"http://www.w3.org/2000/svg\" height=\"24px\"viewBox=\"0 0 24 24\"\n",
              "       width=\"24px\">\n",
              "    <path d=\"M0 0h24v24H0V0z\" fill=\"none\"/>\n",
              "    <path d=\"M18.56 5.44l.94 2.06.94-2.06 2.06-.94-2.06-.94-.94-2.06-.94 2.06-2.06.94zm-11 1L8.5 8.5l.94-2.06 2.06-.94-2.06-.94L8.5 2.5l-.94 2.06-2.06.94zm10 10l.94 2.06.94-2.06 2.06-.94-2.06-.94-.94-2.06-.94 2.06-2.06.94z\"/><path d=\"M17.41 7.96l-1.37-1.37c-.4-.4-.92-.59-1.43-.59-.52 0-1.04.2-1.43.59L10.3 9.45l-7.72 7.72c-.78.78-.78 2.05 0 2.83L4 21.41c.39.39.9.59 1.41.59.51 0 1.02-.2 1.41-.59l7.78-7.78 2.81-2.81c.8-.78.8-2.07 0-2.86zM5.41 20L4 18.59l7.72-7.72 1.47 1.35L5.41 20z\"/>\n",
              "  </svg>\n",
              "      </button>\n",
              "      \n",
              "  <style>\n",
              "    .colab-df-container {\n",
              "      display:flex;\n",
              "      flex-wrap:wrap;\n",
              "      gap: 12px;\n",
              "    }\n",
              "\n",
              "    .colab-df-convert {\n",
              "      background-color: #E8F0FE;\n",
              "      border: none;\n",
              "      border-radius: 50%;\n",
              "      cursor: pointer;\n",
              "      display: none;\n",
              "      fill: #1967D2;\n",
              "      height: 32px;\n",
              "      padding: 0 0 0 0;\n",
              "      width: 32px;\n",
              "    }\n",
              "\n",
              "    .colab-df-convert:hover {\n",
              "      background-color: #E2EBFA;\n",
              "      box-shadow: 0px 1px 2px rgba(60, 64, 67, 0.3), 0px 1px 3px 1px rgba(60, 64, 67, 0.15);\n",
              "      fill: #174EA6;\n",
              "    }\n",
              "\n",
              "    [theme=dark] .colab-df-convert {\n",
              "      background-color: #3B4455;\n",
              "      fill: #D2E3FC;\n",
              "    }\n",
              "\n",
              "    [theme=dark] .colab-df-convert:hover {\n",
              "      background-color: #434B5C;\n",
              "      box-shadow: 0px 1px 3px 1px rgba(0, 0, 0, 0.15);\n",
              "      filter: drop-shadow(0px 1px 2px rgba(0, 0, 0, 0.3));\n",
              "      fill: #FFFFFF;\n",
              "    }\n",
              "  </style>\n",
              "\n",
              "      <script>\n",
              "        const buttonEl =\n",
              "          document.querySelector('#df-a7db10f3-abc3-4e92-91d9-65dc10b67885 button.colab-df-convert');\n",
              "        buttonEl.style.display =\n",
              "          google.colab.kernel.accessAllowed ? 'block' : 'none';\n",
              "\n",
              "        async function convertToInteractive(key) {\n",
              "          const element = document.querySelector('#df-a7db10f3-abc3-4e92-91d9-65dc10b67885');\n",
              "          const dataTable =\n",
              "            await google.colab.kernel.invokeFunction('convertToInteractive',\n",
              "                                                     [key], {});\n",
              "          if (!dataTable) return;\n",
              "\n",
              "          const docLinkHtml = 'Like what you see? Visit the ' +\n",
              "            '<a target=\"_blank\" href=https://colab.research.google.com/notebooks/data_table.ipynb>data table notebook</a>'\n",
              "            + ' to learn more about interactive tables.';\n",
              "          element.innerHTML = '';\n",
              "          dataTable['output_type'] = 'display_data';\n",
              "          await google.colab.output.renderOutput(dataTable, element);\n",
              "          const docLink = document.createElement('div');\n",
              "          docLink.innerHTML = docLinkHtml;\n",
              "          element.appendChild(docLink);\n",
              "        }\n",
              "      </script>\n",
              "    </div>\n",
              "  </div>\n",
              "  "
            ]
          },
          "metadata": {},
          "execution_count": 256
        }
      ]
    },
    {
      "cell_type": "code",
      "source": [
        "mobile_plans"
      ],
      "metadata": {
        "id": "IGnbQariMNuL",
        "colab": {
          "base_uri": "https://localhost:8080/",
          "height": 300
        },
        "outputId": "c3947556-9cf7-4064-8859-b61f8d6b1b47"
      },
      "execution_count": null,
      "outputs": [
        {
          "output_type": "execute_result",
          "data": {
            "text/plain": [
              "  plan_name  data_quota voice_onnet_quota  voice_offnet_quota  \\\n",
              "0      PKG1           3               900                   0   \n",
              "1      PKG2           6               900                   0   \n",
              "2      PKG3           8         unlimited                   0   \n",
              "3      PKG4          12         unlimited                   0   \n",
              "4      PKG5          12         unlimited                 450   \n",
              "5      PKG6          20         unlimited                 450   \n",
              "6      PKG7          40         unlimited                 450   \n",
              "7      PKG8          50         unlimited                 900   \n",
              "\n",
              "  text_onnet_quota  text_offnet_quota  plan_value  plan_number  \n",
              "0              900                  0         400            1  \n",
              "1              900                  0         620            2  \n",
              "2        unlimited                  0         950            3  \n",
              "3        unlimited                  0        1300            4  \n",
              "4        unlimited                  0        1550            5  \n",
              "5        unlimited                  0        1900            6  \n",
              "6        unlimited                  0        2550            7  \n",
              "7        unlimited                  0        3200            8  "
            ],
            "text/html": [
              "\n",
              "  <div id=\"df-24e07839-bbf9-436f-b724-370fc33677f2\">\n",
              "    <div class=\"colab-df-container\">\n",
              "      <div>\n",
              "<style scoped>\n",
              "    .dataframe tbody tr th:only-of-type {\n",
              "        vertical-align: middle;\n",
              "    }\n",
              "\n",
              "    .dataframe tbody tr th {\n",
              "        vertical-align: top;\n",
              "    }\n",
              "\n",
              "    .dataframe thead th {\n",
              "        text-align: right;\n",
              "    }\n",
              "</style>\n",
              "<table border=\"1\" class=\"dataframe\">\n",
              "  <thead>\n",
              "    <tr style=\"text-align: right;\">\n",
              "      <th></th>\n",
              "      <th>plan_name</th>\n",
              "      <th>data_quota</th>\n",
              "      <th>voice_onnet_quota</th>\n",
              "      <th>voice_offnet_quota</th>\n",
              "      <th>text_onnet_quota</th>\n",
              "      <th>text_offnet_quota</th>\n",
              "      <th>plan_value</th>\n",
              "      <th>plan_number</th>\n",
              "    </tr>\n",
              "  </thead>\n",
              "  <tbody>\n",
              "    <tr>\n",
              "      <th>0</th>\n",
              "      <td>PKG1</td>\n",
              "      <td>3</td>\n",
              "      <td>900</td>\n",
              "      <td>0</td>\n",
              "      <td>900</td>\n",
              "      <td>0</td>\n",
              "      <td>400</td>\n",
              "      <td>1</td>\n",
              "    </tr>\n",
              "    <tr>\n",
              "      <th>1</th>\n",
              "      <td>PKG2</td>\n",
              "      <td>6</td>\n",
              "      <td>900</td>\n",
              "      <td>0</td>\n",
              "      <td>900</td>\n",
              "      <td>0</td>\n",
              "      <td>620</td>\n",
              "      <td>2</td>\n",
              "    </tr>\n",
              "    <tr>\n",
              "      <th>2</th>\n",
              "      <td>PKG3</td>\n",
              "      <td>8</td>\n",
              "      <td>unlimited</td>\n",
              "      <td>0</td>\n",
              "      <td>unlimited</td>\n",
              "      <td>0</td>\n",
              "      <td>950</td>\n",
              "      <td>3</td>\n",
              "    </tr>\n",
              "    <tr>\n",
              "      <th>3</th>\n",
              "      <td>PKG4</td>\n",
              "      <td>12</td>\n",
              "      <td>unlimited</td>\n",
              "      <td>0</td>\n",
              "      <td>unlimited</td>\n",
              "      <td>0</td>\n",
              "      <td>1300</td>\n",
              "      <td>4</td>\n",
              "    </tr>\n",
              "    <tr>\n",
              "      <th>4</th>\n",
              "      <td>PKG5</td>\n",
              "      <td>12</td>\n",
              "      <td>unlimited</td>\n",
              "      <td>450</td>\n",
              "      <td>unlimited</td>\n",
              "      <td>0</td>\n",
              "      <td>1550</td>\n",
              "      <td>5</td>\n",
              "    </tr>\n",
              "    <tr>\n",
              "      <th>5</th>\n",
              "      <td>PKG6</td>\n",
              "      <td>20</td>\n",
              "      <td>unlimited</td>\n",
              "      <td>450</td>\n",
              "      <td>unlimited</td>\n",
              "      <td>0</td>\n",
              "      <td>1900</td>\n",
              "      <td>6</td>\n",
              "    </tr>\n",
              "    <tr>\n",
              "      <th>6</th>\n",
              "      <td>PKG7</td>\n",
              "      <td>40</td>\n",
              "      <td>unlimited</td>\n",
              "      <td>450</td>\n",
              "      <td>unlimited</td>\n",
              "      <td>0</td>\n",
              "      <td>2550</td>\n",
              "      <td>7</td>\n",
              "    </tr>\n",
              "    <tr>\n",
              "      <th>7</th>\n",
              "      <td>PKG8</td>\n",
              "      <td>50</td>\n",
              "      <td>unlimited</td>\n",
              "      <td>900</td>\n",
              "      <td>unlimited</td>\n",
              "      <td>0</td>\n",
              "      <td>3200</td>\n",
              "      <td>8</td>\n",
              "    </tr>\n",
              "  </tbody>\n",
              "</table>\n",
              "</div>\n",
              "      <button class=\"colab-df-convert\" onclick=\"convertToInteractive('df-24e07839-bbf9-436f-b724-370fc33677f2')\"\n",
              "              title=\"Convert this dataframe to an interactive table.\"\n",
              "              style=\"display:none;\">\n",
              "        \n",
              "  <svg xmlns=\"http://www.w3.org/2000/svg\" height=\"24px\"viewBox=\"0 0 24 24\"\n",
              "       width=\"24px\">\n",
              "    <path d=\"M0 0h24v24H0V0z\" fill=\"none\"/>\n",
              "    <path d=\"M18.56 5.44l.94 2.06.94-2.06 2.06-.94-2.06-.94-.94-2.06-.94 2.06-2.06.94zm-11 1L8.5 8.5l.94-2.06 2.06-.94-2.06-.94L8.5 2.5l-.94 2.06-2.06.94zm10 10l.94 2.06.94-2.06 2.06-.94-2.06-.94-.94-2.06-.94 2.06-2.06.94z\"/><path d=\"M17.41 7.96l-1.37-1.37c-.4-.4-.92-.59-1.43-.59-.52 0-1.04.2-1.43.59L10.3 9.45l-7.72 7.72c-.78.78-.78 2.05 0 2.83L4 21.41c.39.39.9.59 1.41.59.51 0 1.02-.2 1.41-.59l7.78-7.78 2.81-2.81c.8-.78.8-2.07 0-2.86zM5.41 20L4 18.59l7.72-7.72 1.47 1.35L5.41 20z\"/>\n",
              "  </svg>\n",
              "      </button>\n",
              "      \n",
              "  <style>\n",
              "    .colab-df-container {\n",
              "      display:flex;\n",
              "      flex-wrap:wrap;\n",
              "      gap: 12px;\n",
              "    }\n",
              "\n",
              "    .colab-df-convert {\n",
              "      background-color: #E8F0FE;\n",
              "      border: none;\n",
              "      border-radius: 50%;\n",
              "      cursor: pointer;\n",
              "      display: none;\n",
              "      fill: #1967D2;\n",
              "      height: 32px;\n",
              "      padding: 0 0 0 0;\n",
              "      width: 32px;\n",
              "    }\n",
              "\n",
              "    .colab-df-convert:hover {\n",
              "      background-color: #E2EBFA;\n",
              "      box-shadow: 0px 1px 2px rgba(60, 64, 67, 0.3), 0px 1px 3px 1px rgba(60, 64, 67, 0.15);\n",
              "      fill: #174EA6;\n",
              "    }\n",
              "\n",
              "    [theme=dark] .colab-df-convert {\n",
              "      background-color: #3B4455;\n",
              "      fill: #D2E3FC;\n",
              "    }\n",
              "\n",
              "    [theme=dark] .colab-df-convert:hover {\n",
              "      background-color: #434B5C;\n",
              "      box-shadow: 0px 1px 3px 1px rgba(0, 0, 0, 0.15);\n",
              "      filter: drop-shadow(0px 1px 2px rgba(0, 0, 0, 0.3));\n",
              "      fill: #FFFFFF;\n",
              "    }\n",
              "  </style>\n",
              "\n",
              "      <script>\n",
              "        const buttonEl =\n",
              "          document.querySelector('#df-24e07839-bbf9-436f-b724-370fc33677f2 button.colab-df-convert');\n",
              "        buttonEl.style.display =\n",
              "          google.colab.kernel.accessAllowed ? 'block' : 'none';\n",
              "\n",
              "        async function convertToInteractive(key) {\n",
              "          const element = document.querySelector('#df-24e07839-bbf9-436f-b724-370fc33677f2');\n",
              "          const dataTable =\n",
              "            await google.colab.kernel.invokeFunction('convertToInteractive',\n",
              "                                                     [key], {});\n",
              "          if (!dataTable) return;\n",
              "\n",
              "          const docLinkHtml = 'Like what you see? Visit the ' +\n",
              "            '<a target=\"_blank\" href=https://colab.research.google.com/notebooks/data_table.ipynb>data table notebook</a>'\n",
              "            + ' to learn more about interactive tables.';\n",
              "          element.innerHTML = '';\n",
              "          dataTable['output_type'] = 'display_data';\n",
              "          await google.colab.output.renderOutput(dataTable, element);\n",
              "          const docLink = document.createElement('div');\n",
              "          docLink.innerHTML = docLinkHtml;\n",
              "          element.appendChild(docLink);\n",
              "        }\n",
              "      </script>\n",
              "    </div>\n",
              "  </div>\n",
              "  "
            ]
          },
          "metadata": {},
          "execution_count": 257
        }
      ]
    },
    {
      "cell_type": "code",
      "source": [
        "trainset.isna().sum()"
      ],
      "metadata": {
        "colab": {
          "base_uri": "https://localhost:8080/"
        },
        "id": "abWn_s4ArAQB",
        "outputId": "e7534d6f-6907-4e3f-8e9d-b4557e2e0764"
      },
      "execution_count": null,
      "outputs": [
        {
          "output_type": "execute_result",
          "data": {
            "text/plain": [
              "primary_identifier                0\n",
              "device_type                      23\n",
              "device_category                  30\n",
              "gender                          135\n",
              "district_name                     0\n",
              "age_group                       135\n",
              "network_stay                      0\n",
              "average_monthly_bill_amount       0\n",
              "dusage_sum                        0\n",
              "dusage_min                        0\n",
              "dusage_max                        0\n",
              "dusage_avg                      858\n",
              "dusage_days                       0\n",
              "dusage_stddev                     0\n",
              "vusage_onnet_sum                  0\n",
              "vusage_onnet_max                  0\n",
              "vusage_onnet_min                  0\n",
              "vusage_onnet_days                 0\n",
              "vusage_onnet_avg               8672\n",
              "vusage_onnet_stddev               0\n",
              "vusage_offnet_sum                 0\n",
              "vusage_offnet_max                 0\n",
              "vusage_offnet_min                 0\n",
              "vusage_offnet_days                0\n",
              "vusage_offnet_avg              3313\n",
              "vusage_offnet_stddev              0\n",
              "number_of_fixed_bb_accounts       0\n",
              "number_of_iptv_accounts           0\n",
              "add_on_tot_rental              3833\n",
              "add_on_count                   3833\n",
              "next_month_plan                   0\n",
              "dtype: int64"
            ]
          },
          "metadata": {},
          "execution_count": 258
        }
      ]
    },
    {
      "cell_type": "code",
      "source": [
        "cols = list(trainset)\n",
        "for cname in cols:\n",
        "  print(trainset[cname].dtype)"
      ],
      "metadata": {
        "colab": {
          "base_uri": "https://localhost:8080/"
        },
        "id": "EtgtzQylrq31",
        "outputId": "f92c1131-a1cc-4ec6-8f15-81a23f0aa3e3"
      },
      "execution_count": null,
      "outputs": [
        {
          "output_type": "stream",
          "name": "stdout",
          "text": [
            "int64\n",
            "object\n",
            "object\n",
            "object\n",
            "object\n",
            "object\n",
            "int64\n",
            "float64\n",
            "float64\n",
            "float64\n",
            "float64\n",
            "float64\n",
            "float64\n",
            "float64\n",
            "float64\n",
            "float64\n",
            "float64\n",
            "float64\n",
            "float64\n",
            "float64\n",
            "float64\n",
            "float64\n",
            "float64\n",
            "float64\n",
            "float64\n",
            "float64\n",
            "float64\n",
            "float64\n",
            "float64\n",
            "float64\n",
            "object\n"
          ]
        }
      ]
    },
    {
      "cell_type": "markdown",
      "source": [
        "# **Visualisation**"
      ],
      "metadata": {
        "id": "LaFIssdzhtSn"
      }
    },
    {
      "cell_type": "code",
      "source": [
        "import seaborn as sns"
      ],
      "metadata": {
        "id": "ocSNorJ3hsDB"
      },
      "execution_count": null,
      "outputs": []
    },
    {
      "cell_type": "code",
      "source": [
        "sns.displot(trainset, x=\"next_month_plan\", binwidth=4)"
      ],
      "metadata": {
        "colab": {
          "base_uri": "https://localhost:8080/",
          "height": 386
        },
        "id": "b4ERiEeR4DIt",
        "outputId": "4dca7310-f03a-41ab-8a72-62b663fd1c8e"
      },
      "execution_count": null,
      "outputs": [
        {
          "output_type": "execute_result",
          "data": {
            "text/plain": [
              "<seaborn.axisgrid.FacetGrid at 0x7f8c48788250>"
            ]
          },
          "metadata": {},
          "execution_count": 261
        },
        {
          "output_type": "display_data",
          "data": {
            "text/plain": [
              "<Figure size 360x360 with 1 Axes>"
            ],
            "image/png": "[encoded data removed]"
          },
          "metadata": {
            "needs_background": "light"
          }
        }
      ]
    },
    {
      "cell_type": "code",
      "source": [
        "sns.displot(trainset, x=\"next_month_plan\", hue=\"device_type\",multiple=\"dodge\")"
      ],
      "metadata": {
        "colab": {
          "base_uri": "https://localhost:8080/",
          "height": 386
        },
        "id": "p6LZrn0Y4DPL",
        "outputId": "5261610a-ae7f-4c3a-849f-9e66c8a50607"
      },
      "execution_count": null,
      "outputs": [
        {
          "output_type": "execute_result",
          "data": {
            "text/plain": [
              "<seaborn.axisgrid.FacetGrid at 0x7f8c4872fb10>"
            ]
          },
          "metadata": {},
          "execution_count": 262
        },
        {
          "output_type": "display_data",
          "data": {
            "text/plain": [
              "<Figure size 428x360 with 1 Axes>"
            ],
            "image/png": "[encoded data removed]"
          },
          "metadata": {
            "needs_background": "light"
          }
        }
      ]
    },
    {
      "cell_type": "code",
      "source": [
        "sns.displot(trainset, x=\"next_month_plan\", hue=\"gender\",multiple=\"dodge\")"
      ],
      "metadata": {
        "colab": {
          "base_uri": "https://localhost:8080/",
          "height": 386
        },
        "id": "cfek4yV04DTI",
        "outputId": "0a83a251-0ee7-443a-d7ae-4d00a9f9dd3c"
      },
      "execution_count": null,
      "outputs": [
        {
          "output_type": "execute_result",
          "data": {
            "text/plain": [
              "<seaborn.axisgrid.FacetGrid at 0x7f8c486e20d0>"
            ]
          },
          "metadata": {},
          "execution_count": 263
        },
        {
          "output_type": "display_data",
          "data": {
            "text/plain": [
              "<Figure size 435.25x360 with 1 Axes>"
            ],
            "image/png": "[encoded data removed]"
          },
          "metadata": {
            "needs_background": "light"
          }
        }
      ]
    },
    {
      "cell_type": "code",
      "source": [
        "sns.displot(trainset, x=\"district_name\", hue=\"gender\",multiple=\"dodge\")"
      ],
      "metadata": {
        "colab": {
          "base_uri": "https://localhost:8080/",
          "height": 386
        },
        "id": "Qc-m5Yqv4DV8",
        "outputId": "ad80958f-28cb-43b1-d743-276d53c3c05c"
      },
      "execution_count": null,
      "outputs": [
        {
          "output_type": "execute_result",
          "data": {
            "text/plain": [
              "<seaborn.axisgrid.FacetGrid at 0x7f8c48575a90>"
            ]
          },
          "metadata": {},
          "execution_count": 264
        },
        {
          "output_type": "display_data",
          "data": {
            "text/plain": [
              "<Figure size 435.25x360 with 1 Axes>"
            ],
            "image/png": "[encoded data removed]"
          },
          "metadata": {
            "needs_background": "light"
          }
        }
      ]
    },
    {
      "cell_type": "code",
      "source": [
        "## Encode target set\n",
        "trainset.loc[trainset['next_month_plan']=='PKG1','next_month_plan']=1\n",
        "trainset.loc[trainset['next_month_plan']=='PKG2','next_month_plan']=2\n",
        "trainset.loc[trainset['next_month_plan']=='PKG3','next_month_plan']=3\n",
        "trainset.loc[trainset['next_month_plan']=='PKG4','next_month_plan']=4\n",
        "trainset.loc[trainset['next_month_plan']=='PKG5','next_month_plan']=5\n",
        "trainset.loc[trainset['next_month_plan']=='PKG6','next_month_plan']=6\n",
        "trainset.loc[trainset['next_month_plan']=='PKG7','next_month_plan']=7\n",
        "trainset.loc[trainset['next_month_plan']=='PKG8','next_month_plan']=8"
      ],
      "metadata": {
        "id": "vktM1QD-g_QK"
      },
      "execution_count": null,
      "outputs": []
    },
    {
      "cell_type": "code",
      "source": [
        "## Split target and X\n",
        "y_train = trainset.next_month_plan\n",
        "trainset.drop(['next_month_plan'], axis=1, inplace=True)"
      ],
      "metadata": {
        "id": "2EFJx5w9w7Fu"
      },
      "execution_count": null,
      "outputs": []
    },
    {
      "cell_type": "code",
      "source": [
        "X = trainset.copy()"
      ],
      "metadata": {
        "id": "OkI9qWWLw6_m"
      },
      "execution_count": null,
      "outputs": []
    },
    {
      "cell_type": "code",
      "source": [
        "X"
      ],
      "metadata": {
        "colab": {
          "base_uri": "https://localhost:8080/",
          "height": 488
        },
        "id": "qmnVlsmKnVux",
        "outputId": "0475ebe5-c674-47da-b7f1-28ea56ad30a8"
      },
      "execution_count": null,
      "outputs": [
        {
          "output_type": "execute_result",
          "data": {
            "text/plain": [
              "       primary_identifier device_type device_category  gender district_name  \\\n",
              "0                 6875768          4G      Smartphone    MALE       Kegalle   \n",
              "1                 6406277          4G      Smartphone    MALE         Galle   \n",
              "2                 3563570          4G      Smartphone    MALE         Kandy   \n",
              "3                 1853666          4G      Smartphone  FEMALE       Colombo   \n",
              "4                 2794331          4G      Smartphone  FEMALE         Kandy   \n",
              "...                   ...         ...             ...     ...           ...   \n",
              "10495             1438655          4G      Smartphone    MALE      Kalutara   \n",
              "10496             7827264          4G      Smartphone  FEMALE       Colombo   \n",
              "10497             1433957          4G      Smartphone  FEMALE       Colombo   \n",
              "10498             8494507          4G      Smartphone    MALE         Kandy   \n",
              "10499             3569439          3G      Smartphone    MALE      Puttalam   \n",
              "\n",
              "      age_group  network_stay  average_monthly_bill_amount  dusage_sum  \\\n",
              "0         40-50           219                       761.62      6317.0   \n",
              "1         40-50            36                      2482.52     28365.0   \n",
              "2         30-40           186                      1565.55     18581.0   \n",
              "3         40-50            24                      2397.49     91071.0   \n",
              "4         50-60            37                      2501.75     19736.0   \n",
              "...         ...           ...                          ...         ...   \n",
              "10495     40-50            64                      2088.13       479.0   \n",
              "10496       <20             6                      2053.50     23168.0   \n",
              "10497     30-40            69                      2827.33      4553.0   \n",
              "10498     60-70           233                       645.43      2069.0   \n",
              "10499     40-50            33                       498.20       536.0   \n",
              "\n",
              "       dusage_min  ...  vusage_offnet_sum  vusage_offnet_max  \\\n",
              "0        2.773958  ...              677.0         152.866667   \n",
              "1        3.079438  ...               76.0          35.433333   \n",
              "2       48.193713  ...                0.0           0.000000   \n",
              "3       22.437842  ...                0.0           0.000000   \n",
              "4       53.302092  ...              258.0          87.616667   \n",
              "...           ...  ...                ...                ...   \n",
              "10495    0.346959  ...              102.0          29.866667   \n",
              "10496    0.219985  ...               32.0          25.366667   \n",
              "10497    4.831711  ...                0.0           0.000000   \n",
              "10498    4.722031  ...              105.0          18.650000   \n",
              "10499    0.003048  ...               15.0           4.366667   \n",
              "\n",
              "       vusage_offnet_min  vusage_offnet_days  vusage_offnet_avg  \\\n",
              "0                    0.0                27.0          25.099383   \n",
              "1                    0.0                15.0           5.071111   \n",
              "2                    0.0                 0.0                NaN   \n",
              "3                    0.0                 0.0                NaN   \n",
              "4                    0.0                23.0          11.256522   \n",
              "...                  ...                 ...                ...   \n",
              "10495                0.0                 7.0          14.571429   \n",
              "10496                0.0                 3.0          10.861111   \n",
              "10497                0.0                 0.0                NaN   \n",
              "10498                0.0                18.0           5.887963   \n",
              "10499                0.0                 7.0           2.228571   \n",
              "\n",
              "       vusage_offnet_stddev  number_of_fixed_bb_accounts  \\\n",
              "0                 34.759221                          0.0   \n",
              "1                  6.779644                          0.0   \n",
              "2                  0.000000                          0.0   \n",
              "3                  0.000000                          0.0   \n",
              "4                 16.224071                          0.0   \n",
              "...                     ...                          ...   \n",
              "10495              8.017054                          0.0   \n",
              "10496              5.151029                          0.0   \n",
              "10497              0.000000                          0.0   \n",
              "10498              4.956822                          0.0   \n",
              "10499              1.096541                          0.0   \n",
              "\n",
              "       number_of_iptv_accounts  add_on_tot_rental  add_on_count  \n",
              "0                          1.0                NaN           NaN  \n",
              "1                          0.0              600.0           2.0  \n",
              "2                          0.0                0.0           1.0  \n",
              "3                          0.0             1110.0           2.0  \n",
              "4                          1.0             1350.0           2.0  \n",
              "...                        ...                ...           ...  \n",
              "10495                      0.0                NaN           NaN  \n",
              "10496                      0.0              580.0           3.0  \n",
              "10497                      1.0                NaN           NaN  \n",
              "10498                      1.0                NaN           NaN  \n",
              "10499                      0.0                NaN           NaN  \n",
              "\n",
              "[10500 rows x 30 columns]"
            ],
            "text/html": [
              "\n",
              "  <div id=\"df-ba046f8f-c802-4c1f-9c9e-d4b8c47ffad9\">\n",
              "    <div class=\"colab-df-container\">\n",
              "      <div>\n",
              "<style scoped>\n",
              "    .dataframe tbody tr th:only-of-type {\n",
              "        vertical-align: middle;\n",
              "    }\n",
              "\n",
              "    .dataframe tbody tr th {\n",
              "        vertical-align: top;\n",
              "    }\n",
              "\n",
              "    .dataframe thead th {\n",
              "        text-align: right;\n",
              "    }\n",
              "</style>\n",
              "<table border=\"1\" class=\"dataframe\">\n",
              "  <thead>\n",
              "    <tr style=\"text-align: right;\">\n",
              "      <th></th>\n",
              "      <th>primary_identifier</th>\n",
              "      <th>device_type</th>\n",
              "      <th>device_category</th>\n",
              "      <th>gender</th>\n",
              "      <th>district_name</th>\n",
              "      <th>age_group</th>\n",
              "      <th>network_stay</th>\n",
              "      <th>average_monthly_bill_amount</th>\n",
              "      <th>dusage_sum</th>\n",
              "      <th>dusage_min</th>\n",
              "      <th>...</th>\n",
              "      <th>vusage_offnet_sum</th>\n",
              "      <th>vusage_offnet_max</th>\n",
              "      <th>vusage_offnet_min</th>\n",
              "      <th>vusage_offnet_days</th>\n",
              "      <th>vusage_offnet_avg</th>\n",
              "      <th>vusage_offnet_stddev</th>\n",
              "      <th>number_of_fixed_bb_accounts</th>\n",
              "      <th>number_of_iptv_accounts</th>\n",
              "      <th>add_on_tot_rental</th>\n",
              "      <th>add_on_count</th>\n",
              "    </tr>\n",
              "  </thead>\n",
              "  <tbody>\n",
              "    <tr>\n",
              "      <th>0</th>\n",
              "      <td>6875768</td>\n",
              "      <td>4G</td>\n",
              "      <td>Smartphone</td>\n",
              "      <td>MALE</td>\n",
              "      <td>Kegalle</td>\n",
              "      <td>40-50</td>\n",
              "      <td>219</td>\n",
              "      <td>761.62</td>\n",
              "      <td>6317.0</td>\n",
              "      <td>2.773958</td>\n",
              "      <td>...</td>\n",
              "      <td>677.0</td>\n",
              "      <td>152.866667</td>\n",
              "      <td>0.0</td>\n",
              "      <td>27.0</td>\n",
              "      <td>25.099383</td>\n",
              "      <td>34.759221</td>\n",
              "      <td>0.0</td>\n",
              "      <td>1.0</td>\n",
              "      <td>NaN</td>\n",
              "      <td>NaN</td>\n",
              "    </tr>\n",
              "    <tr>\n",
              "      <th>1</th>\n",
              "      <td>6406277</td>\n",
              "      <td>4G</td>\n",
              "      <td>Smartphone</td>\n",
              "      <td>MALE</td>\n",
              "      <td>Galle</td>\n",
              "      <td>40-50</td>\n",
              "      <td>36</td>\n",
              "      <td>2482.52</td>\n",
              "      <td>28365.0</td>\n",
              "      <td>3.079438</td>\n",
              "      <td>...</td>\n",
              "      <td>76.0</td>\n",
              "      <td>35.433333</td>\n",
              "      <td>0.0</td>\n",
              "      <td>15.0</td>\n",
              "      <td>5.071111</td>\n",
              "      <td>6.779644</td>\n",
              "      <td>0.0</td>\n",
              "      <td>0.0</td>\n",
              "      <td>600.0</td>\n",
              "      <td>2.0</td>\n",
              "    </tr>\n",
              "    <tr>\n",
              "      <th>2</th>\n",
              "      <td>3563570</td>\n",
              "      <td>4G</td>\n",
              "      <td>Smartphone</td>\n",
              "      <td>MALE</td>\n",
              "      <td>Kandy</td>\n",
              "      <td>30-40</td>\n",
              "      <td>186</td>\n",
              "      <td>1565.55</td>\n",
              "      <td>18581.0</td>\n",
              "      <td>48.193713</td>\n",
              "      <td>...</td>\n",
              "      <td>0.0</td>\n",
              "      <td>0.000000</td>\n",
              "      <td>0.0</td>\n",
              "      <td>0.0</td>\n",
              "      <td>NaN</td>\n",
              "      <td>0.000000</td>\n",
              "      <td>0.0</td>\n",
              "      <td>0.0</td>\n",
              "      <td>0.0</td>\n",
              "      <td>1.0</td>\n",
              "    </tr>\n",
              "    <tr>\n",
              "      <th>3</th>\n",
              "      <td>1853666</td>\n",
              "      <td>4G</td>\n",
              "      <td>Smartphone</td>\n",
              "      <td>FEMALE</td>\n",
              "      <td>Colombo</td>\n",
              "      <td>40-50</td>\n",
              "      <td>24</td>\n",
              "      <td>2397.49</td>\n",
              "      <td>91071.0</td>\n",
              "      <td>22.437842</td>\n",
              "      <td>...</td>\n",
              "      <td>0.0</td>\n",
              "      <td>0.000000</td>\n",
              "      <td>0.0</td>\n",
              "      <td>0.0</td>\n",
              "      <td>NaN</td>\n",
              "      <td>0.000000</td>\n",
              "      <td>0.0</td>\n",
              "      <td>0.0</td>\n",
              "      <td>1110.0</td>\n",
              "      <td>2.0</td>\n",
              "    </tr>\n",
              "    <tr>\n",
              "      <th>4</th>\n",
              "      <td>2794331</td>\n",
              "      <td>4G</td>\n",
              "      <td>Smartphone</td>\n",
              "      <td>FEMALE</td>\n",
              "      <td>Kandy</td>\n",
              "      <td>50-60</td>\n",
              "      <td>37</td>\n",
              "      <td>2501.75</td>\n",
              "      <td>19736.0</td>\n",
              "      <td>53.302092</td>\n",
              "      <td>...</td>\n",
              "      <td>258.0</td>\n",
              "      <td>87.616667</td>\n",
              "      <td>0.0</td>\n",
              "      <td>23.0</td>\n",
              "      <td>11.256522</td>\n",
              "      <td>16.224071</td>\n",
              "      <td>0.0</td>\n",
              "      <td>1.0</td>\n",
              "      <td>1350.0</td>\n",
              "      <td>2.0</td>\n",
              "    </tr>\n",
              "    <tr>\n",
              "      <th>...</th>\n",
              "      <td>...</td>\n",
              "      <td>...</td>\n",
              "      <td>...</td>\n",
              "      <td>...</td>\n",
              "      <td>...</td>\n",
              "      <td>...</td>\n",
              "      <td>...</td>\n",
              "      <td>...</td>\n",
              "      <td>...</td>\n",
              "      <td>...</td>\n",
              "      <td>...</td>\n",
              "      <td>...</td>\n",
              "      <td>...</td>\n",
              "      <td>...</td>\n",
              "      <td>...</td>\n",
              "      <td>...</td>\n",
              "      <td>...</td>\n",
              "      <td>...</td>\n",
              "      <td>...</td>\n",
              "      <td>...</td>\n",
              "      <td>...</td>\n",
              "    </tr>\n",
              "    <tr>\n",
              "      <th>10495</th>\n",
              "      <td>1438655</td>\n",
              "      <td>4G</td>\n",
              "      <td>Smartphone</td>\n",
              "      <td>MALE</td>\n",
              "      <td>Kalutara</td>\n",
              "      <td>40-50</td>\n",
              "      <td>64</td>\n",
              "      <td>2088.13</td>\n",
              "      <td>479.0</td>\n",
              "      <td>0.346959</td>\n",
              "      <td>...</td>\n",
              "      <td>102.0</td>\n",
              "      <td>29.866667</td>\n",
              "      <td>0.0</td>\n",
              "      <td>7.0</td>\n",
              "      <td>14.571429</td>\n",
              "      <td>8.017054</td>\n",
              "      <td>0.0</td>\n",
              "      <td>0.0</td>\n",
              "      <td>NaN</td>\n",
              "      <td>NaN</td>\n",
              "    </tr>\n",
              "    <tr>\n",
              "      <th>10496</th>\n",
              "      <td>7827264</td>\n",
              "      <td>4G</td>\n",
              "      <td>Smartphone</td>\n",
              "      <td>FEMALE</td>\n",
              "      <td>Colombo</td>\n",
              "      <td>&lt;20</td>\n",
              "      <td>6</td>\n",
              "      <td>2053.50</td>\n",
              "      <td>23168.0</td>\n",
              "      <td>0.219985</td>\n",
              "      <td>...</td>\n",
              "      <td>32.0</td>\n",
              "      <td>25.366667</td>\n",
              "      <td>0.0</td>\n",
              "      <td>3.0</td>\n",
              "      <td>10.861111</td>\n",
              "      <td>5.151029</td>\n",
              "      <td>0.0</td>\n",
              "      <td>0.0</td>\n",
              "      <td>580.0</td>\n",
              "      <td>3.0</td>\n",
              "    </tr>\n",
              "    <tr>\n",
              "      <th>10497</th>\n",
              "      <td>1433957</td>\n",
              "      <td>4G</td>\n",
              "      <td>Smartphone</td>\n",
              "      <td>FEMALE</td>\n",
              "      <td>Colombo</td>\n",
              "      <td>30-40</td>\n",
              "      <td>69</td>\n",
              "      <td>2827.33</td>\n",
              "      <td>4553.0</td>\n",
              "      <td>4.831711</td>\n",
              "      <td>...</td>\n",
              "      <td>0.0</td>\n",
              "      <td>0.000000</td>\n",
              "      <td>0.0</td>\n",
              "      <td>0.0</td>\n",
              "      <td>NaN</td>\n",
              "      <td>0.000000</td>\n",
              "      <td>0.0</td>\n",
              "      <td>1.0</td>\n",
              "      <td>NaN</td>\n",
              "      <td>NaN</td>\n",
              "    </tr>\n",
              "    <tr>\n",
              "      <th>10498</th>\n",
              "      <td>8494507</td>\n",
              "      <td>4G</td>\n",
              "      <td>Smartphone</td>\n",
              "      <td>MALE</td>\n",
              "      <td>Kandy</td>\n",
              "      <td>60-70</td>\n",
              "      <td>233</td>\n",
              "      <td>645.43</td>\n",
              "      <td>2069.0</td>\n",
              "      <td>4.722031</td>\n",
              "      <td>...</td>\n",
              "      <td>105.0</td>\n",
              "      <td>18.650000</td>\n",
              "      <td>0.0</td>\n",
              "      <td>18.0</td>\n",
              "      <td>5.887963</td>\n",
              "      <td>4.956822</td>\n",
              "      <td>0.0</td>\n",
              "      <td>1.0</td>\n",
              "      <td>NaN</td>\n",
              "      <td>NaN</td>\n",
              "    </tr>\n",
              "    <tr>\n",
              "      <th>10499</th>\n",
              "      <td>3569439</td>\n",
              "      <td>3G</td>\n",
              "      <td>Smartphone</td>\n",
              "      <td>MALE</td>\n",
              "      <td>Puttalam</td>\n",
              "      <td>40-50</td>\n",
              "      <td>33</td>\n",
              "      <td>498.20</td>\n",
              "      <td>536.0</td>\n",
              "      <td>0.003048</td>\n",
              "      <td>...</td>\n",
              "      <td>15.0</td>\n",
              "      <td>4.366667</td>\n",
              "      <td>0.0</td>\n",
              "      <td>7.0</td>\n",
              "      <td>2.228571</td>\n",
              "      <td>1.096541</td>\n",
              "      <td>0.0</td>\n",
              "      <td>0.0</td>\n",
              "      <td>NaN</td>\n",
              "      <td>NaN</td>\n",
              "    </tr>\n",
              "  </tbody>\n",
              "</table>\n",
              "<p>10500 rows × 30 columns</p>\n",
              "</div>\n",
              "      <button class=\"colab-df-convert\" onclick=\"convertToInteractive('df-ba046f8f-c802-4c1f-9c9e-d4b8c47ffad9')\"\n",
              "              title=\"Convert this dataframe to an interactive table.\"\n",
              "              style=\"display:none;\">\n",
              "        \n",
              "  <svg xmlns=\"http://www.w3.org/2000/svg\" height=\"24px\"viewBox=\"0 0 24 24\"\n",
              "       width=\"24px\">\n",
              "    <path d=\"M0 0h24v24H0V0z\" fill=\"none\"/>\n",
              "    <path d=\"M18.56 5.44l.94 2.06.94-2.06 2.06-.94-2.06-.94-.94-2.06-.94 2.06-2.06.94zm-11 1L8.5 8.5l.94-2.06 2.06-.94-2.06-.94L8.5 2.5l-.94 2.06-2.06.94zm10 10l.94 2.06.94-2.06 2.06-.94-2.06-.94-.94-2.06-.94 2.06-2.06.94z\"/><path d=\"M17.41 7.96l-1.37-1.37c-.4-.4-.92-.59-1.43-.59-.52 0-1.04.2-1.43.59L10.3 9.45l-7.72 7.72c-.78.78-.78 2.05 0 2.83L4 21.41c.39.39.9.59 1.41.59.51 0 1.02-.2 1.41-.59l7.78-7.78 2.81-2.81c.8-.78.8-2.07 0-2.86zM5.41 20L4 18.59l7.72-7.72 1.47 1.35L5.41 20z\"/>\n",
              "  </svg>\n",
              "      </button>\n",
              "      \n",
              "  <style>\n",
              "    .colab-df-container {\n",
              "      display:flex;\n",
              "      flex-wrap:wrap;\n",
              "      gap: 12px;\n",
              "    }\n",
              "\n",
              "    .colab-df-convert {\n",
              "      background-color: #E8F0FE;\n",
              "      border: none;\n",
              "      border-radius: 50%;\n",
              "      cursor: pointer;\n",
              "      display: none;\n",
              "      fill: #1967D2;\n",
              "      height: 32px;\n",
              "      padding: 0 0 0 0;\n",
              "      width: 32px;\n",
              "    }\n",
              "\n",
              "    .colab-df-convert:hover {\n",
              "      background-color: #E2EBFA;\n",
              "      box-shadow: 0px 1px 2px rgba(60, 64, 67, 0.3), 0px 1px 3px 1px rgba(60, 64, 67, 0.15);\n",
              "      fill: #174EA6;\n",
              "    }\n",
              "\n",
              "    [theme=dark] .colab-df-convert {\n",
              "      background-color: #3B4455;\n",
              "      fill: #D2E3FC;\n",
              "    }\n",
              "\n",
              "    [theme=dark] .colab-df-convert:hover {\n",
              "      background-color: #434B5C;\n",
              "      box-shadow: 0px 1px 3px 1px rgba(0, 0, 0, 0.15);\n",
              "      filter: drop-shadow(0px 1px 2px rgba(0, 0, 0, 0.3));\n",
              "      fill: #FFFFFF;\n",
              "    }\n",
              "  </style>\n",
              "\n",
              "      <script>\n",
              "        const buttonEl =\n",
              "          document.querySelector('#df-ba046f8f-c802-4c1f-9c9e-d4b8c47ffad9 button.colab-df-convert');\n",
              "        buttonEl.style.display =\n",
              "          google.colab.kernel.accessAllowed ? 'block' : 'none';\n",
              "\n",
              "        async function convertToInteractive(key) {\n",
              "          const element = document.querySelector('#df-ba046f8f-c802-4c1f-9c9e-d4b8c47ffad9');\n",
              "          const dataTable =\n",
              "            await google.colab.kernel.invokeFunction('convertToInteractive',\n",
              "                                                     [key], {});\n",
              "          if (!dataTable) return;\n",
              "\n",
              "          const docLinkHtml = 'Like what you see? Visit the ' +\n",
              "            '<a target=\"_blank\" href=https://colab.research.google.com/notebooks/data_table.ipynb>data table notebook</a>'\n",
              "            + ' to learn more about interactive tables.';\n",
              "          element.innerHTML = '';\n",
              "          dataTable['output_type'] = 'display_data';\n",
              "          await google.colab.output.renderOutput(dataTable, element);\n",
              "          const docLink = document.createElement('div');\n",
              "          docLink.innerHTML = docLinkHtml;\n",
              "          element.appendChild(docLink);\n",
              "        }\n",
              "      </script>\n",
              "    </div>\n",
              "  </div>\n",
              "  "
            ]
          },
          "metadata": {},
          "execution_count": 268
        }
      ]
    },
    {
      "cell_type": "code",
      "source": [
        "# Object coloumns and Numeric cols\n",
        "numeric_cols = [cname for cname in X.columns if X[cname].dtype in ['int64', 'float64']]\n",
        "object_cols = [cname for cname in X.columns if X[cname].dtype in ['object']]"
      ],
      "metadata": {
        "id": "2Wpq0FMgtepk"
      },
      "execution_count": null,
      "outputs": []
    },
    {
      "cell_type": "code",
      "source": [
        "# Unique values of trainset\n",
        "for k in object_cols:\n",
        "  print(f\"{k} : \" ,X[f\"{k}\"].unique())"
      ],
      "metadata": {
        "colab": {
          "base_uri": "https://localhost:8080/"
        },
        "id": "GQZ6lfLen6NL",
        "outputId": "ae63a330-8c28-4da8-86c6-856dc4cffd9d"
      },
      "execution_count": null,
      "outputs": [
        {
          "output_type": "stream",
          "name": "stdout",
          "text": [
            "device_type :  ['4G' '2G' '3G' nan]\n",
            "device_category :  ['Smartphone' 'Basic' 'Feature phone' 'Pluggable card' 'Tablet' nan\n",
            " 'Modem']\n",
            "gender :  ['MALE' 'FEMALE' nan]\n",
            "district_name :  ['Kegalle' 'Galle' 'Kandy' 'Colombo' 'Gampaha' 'Kalutara' 'Kurunegala'\n",
            " 'Puttalam' 'Jaffna' 'Ampara' 'Matara' 'Matale' 'Anuradhapura' 'Ratnapura'\n",
            " 'Nuwara Eliya' 'Badulla' 'Unknown' 'Mannar' 'Monaragala' 'Trincomalee'\n",
            " 'Batticaloa' 'Hambantota' 'Polonnaruwa' 'Vavuniya' 'Kilinochchi'\n",
            " 'Mullaitivu']\n",
            "age_group :  ['40-50' '30-40' '50-60' '20-30' '>70' nan '60-70' '<20']\n"
          ]
        }
      ]
    },
    {
      "cell_type": "code",
      "source": [
        "# Unique values of testset\n",
        "for k in object_cols:\n",
        "  print(f\"{k} : \" ,testset[f\"{k}\"].unique())"
      ],
      "metadata": {
        "colab": {
          "base_uri": "https://localhost:8080/"
        },
        "id": "2m5TDSCejUgi",
        "outputId": "ac2dc2b2-8ab6-4006-9e27-6e33ede51465"
      },
      "execution_count": null,
      "outputs": [
        {
          "output_type": "stream",
          "name": "stdout",
          "text": [
            "device_type :  ['4G' '2G' '3G' nan]\n",
            "device_category :  ['Smartphone' 'Basic' 'Feature phone' 'M2M' nan 'Tablet' 'Pluggable card'\n",
            " 'Modem']\n",
            "gender :  ['MALE' 'FEMALE' nan]\n",
            "district_name :  ['Colombo' 'Matara' 'Kandy' 'Galle' 'Gampaha' 'Kurunegala' 'Kegalle'\n",
            " 'Matale' 'Kalutara' 'Anuradhapura' 'Puttalam' 'Trincomalee' 'Jaffna'\n",
            " 'Batticaloa' 'Hambantota' 'Monaragala' 'Nuwara Eliya' 'Ratnapura'\n",
            " 'Ampara' 'Badulla' 'Unknown' 'Mannar' 'Mullaitivu' 'Vavuniya'\n",
            " 'Kilinochchi' 'Polonnaruwa']\n",
            "age_group :  ['40-50' '20-30' '30-40' '>70' '50-60' '60-70' nan '<20']\n"
          ]
        }
      ]
    },
    {
      "cell_type": "markdown",
      "source": [
        "# Preprocessing"
      ],
      "metadata": {
        "id": "S29KMsYLhsvi"
      }
    },
    {
      "cell_type": "code",
      "source": [
        "X_drop_avgs = X.copy()\n",
        "X_drop_avgs.drop(['dusage_avg','vusage_onnet_avg','vusage_offnet_avg'], axis=1, inplace=True)\n",
        "testset.drop(['dusage_avg','vusage_onnet_avg','vusage_offnet_avg'], axis=1, inplace=True)"
      ],
      "metadata": {
        "id": "dJhmYqEshijL"
      },
      "execution_count": null,
      "outputs": []
    },
    {
      "cell_type": "code",
      "source": [
        "X_drop_avgs.isna().sum()"
      ],
      "metadata": {
        "colab": {
          "base_uri": "https://localhost:8080/"
        },
        "id": "iOV1yi_piM1y",
        "outputId": "44e6a261-4d50-4e9f-e02c-09e484584ea3"
      },
      "execution_count": null,
      "outputs": [
        {
          "output_type": "execute_result",
          "data": {
            "text/plain": [
              "primary_identifier                0\n",
              "device_type                      23\n",
              "device_category                  30\n",
              "gender                          135\n",
              "district_name                     0\n",
              "age_group                       135\n",
              "network_stay                      0\n",
              "average_monthly_bill_amount       0\n",
              "dusage_sum                        0\n",
              "dusage_min                        0\n",
              "dusage_max                        0\n",
              "dusage_days                       0\n",
              "dusage_stddev                     0\n",
              "vusage_onnet_sum                  0\n",
              "vusage_onnet_max                  0\n",
              "vusage_onnet_min                  0\n",
              "vusage_onnet_days                 0\n",
              "vusage_onnet_stddev               0\n",
              "vusage_offnet_sum                 0\n",
              "vusage_offnet_max                 0\n",
              "vusage_offnet_min                 0\n",
              "vusage_offnet_days                0\n",
              "vusage_offnet_stddev              0\n",
              "number_of_fixed_bb_accounts       0\n",
              "number_of_iptv_accounts           0\n",
              "add_on_tot_rental              3833\n",
              "add_on_count                   3833\n",
              "dtype: int64"
            ]
          },
          "metadata": {},
          "execution_count": 273
        }
      ]
    },
    {
      "cell_type": "code",
      "source": [
        "X_drop_avgs['add_on_count'].unique()"
      ],
      "metadata": {
        "colab": {
          "base_uri": "https://localhost:8080/"
        },
        "id": "rAR4pyIxiS6O",
        "outputId": "31d278eb-94c0-4dde-e28d-09e567256d0e"
      },
      "execution_count": null,
      "outputs": [
        {
          "output_type": "execute_result",
          "data": {
            "text/plain": [
              "array([nan,  2.,  1.,  5.,  3.,  6.,  4.,  8.,  9., 12., 24., 18., 10.])"
            ]
          },
          "metadata": {},
          "execution_count": 274
        }
      ]
    },
    {
      "cell_type": "code",
      "source": [
        "trainset['add_on_count'].unique()"
      ],
      "metadata": {
        "colab": {
          "base_uri": "https://localhost:8080/"
        },
        "id": "9xhtS7-giWJ6",
        "outputId": "fcf715b2-a2c9-4eba-eed3-c66da102c20e"
      },
      "execution_count": null,
      "outputs": [
        {
          "output_type": "execute_result",
          "data": {
            "text/plain": [
              "array([nan,  2.,  1.,  5.,  3.,  6.,  4.,  8.,  9., 12., 24., 18., 10.])"
            ]
          },
          "metadata": {},
          "execution_count": 275
        }
      ]
    },
    {
      "cell_type": "code",
      "source": [
        "X_drop_avgs.isna().sum()"
      ],
      "metadata": {
        "colab": {
          "base_uri": "https://localhost:8080/"
        },
        "id": "svGB6uOSwqGr",
        "outputId": "09216c97-1820-4692-eb6c-e2a5ec1634f1"
      },
      "execution_count": null,
      "outputs": [
        {
          "output_type": "execute_result",
          "data": {
            "text/plain": [
              "primary_identifier                0\n",
              "device_type                      23\n",
              "device_category                  30\n",
              "gender                          135\n",
              "district_name                     0\n",
              "age_group                       135\n",
              "network_stay                      0\n",
              "average_monthly_bill_amount       0\n",
              "dusage_sum                        0\n",
              "dusage_min                        0\n",
              "dusage_max                        0\n",
              "dusage_days                       0\n",
              "dusage_stddev                     0\n",
              "vusage_onnet_sum                  0\n",
              "vusage_onnet_max                  0\n",
              "vusage_onnet_min                  0\n",
              "vusage_onnet_days                 0\n",
              "vusage_onnet_stddev               0\n",
              "vusage_offnet_sum                 0\n",
              "vusage_offnet_max                 0\n",
              "vusage_offnet_min                 0\n",
              "vusage_offnet_days                0\n",
              "vusage_offnet_stddev              0\n",
              "number_of_fixed_bb_accounts       0\n",
              "number_of_iptv_accounts           0\n",
              "add_on_tot_rental              3833\n",
              "add_on_count                   3833\n",
              "dtype: int64"
            ]
          },
          "metadata": {},
          "execution_count": 276
        }
      ]
    },
    {
      "cell_type": "code",
      "source": [
        "testset.isna().sum()"
      ],
      "metadata": {
        "colab": {
          "base_uri": "https://localhost:8080/"
        },
        "id": "qxrG8Pt-w2AP",
        "outputId": "8c9bef3e-c3ec-4d5e-a946-4883029d9d80"
      },
      "execution_count": null,
      "outputs": [
        {
          "output_type": "execute_result",
          "data": {
            "text/plain": [
              "primary_identifier                0\n",
              "device_type                      13\n",
              "device_category                  16\n",
              "gender                           55\n",
              "district_name                     0\n",
              "age_group                        55\n",
              "network_stay                      0\n",
              "average_monthly_bill_amount       0\n",
              "dusage_sum                        0\n",
              "dusage_min                        0\n",
              "dusage_max                        0\n",
              "dusage_days                       0\n",
              "dusage_stddev                     0\n",
              "vusage_onnet_sum                  0\n",
              "vusage_onnet_max                  0\n",
              "vusage_onnet_min                  0\n",
              "vusage_onnet_days                 0\n",
              "vusage_onnet_stddev               0\n",
              "vusage_offnet_sum                 0\n",
              "vusage_offnet_max                 0\n",
              "vusage_offnet_min                 0\n",
              "vusage_offnet_days                0\n",
              "vusage_offnet_stddev              0\n",
              "number_of_fixed_bb_accounts       0\n",
              "number_of_iptv_accounts           0\n",
              "add_on_tot_rental              1712\n",
              "add_on_count                   1712\n",
              "dtype: int64"
            ]
          },
          "metadata": {},
          "execution_count": 277
        }
      ]
    },
    {
      "cell_type": "code",
      "source": [
        "## Fill nan columns one by one\n",
        "X_drop_avgs['device_type'] = X_drop_avgs['device_type'].fillna('NE')\n",
        "X_drop_avgs['device_category'] = X_drop_avgs['device_category'].fillna('NE')\n",
        "X_drop_avgs['gender'] = X_drop_avgs['gender'].fillna('NE')\n",
        "X_drop_avgs['age_group'] = X_drop_avgs['age_group'].fillna('NE')\n",
        "\n",
        "testset['device_type'] = testset['device_type'].fillna('NE')\n",
        "testset['device_category'] = testset['device_category'].fillna('NE')\n",
        "testset['gender'] = testset['gender'].fillna('NE')\n",
        "testset['age_group'] = testset['age_group'].fillna('NE')"
      ],
      "metadata": {
        "id": "D5WQ4iq5TpXZ"
      },
      "execution_count": null,
      "outputs": []
    },
    {
      "cell_type": "code",
      "source": [
        "testset.isna().sum()"
      ],
      "metadata": {
        "colab": {
          "base_uri": "https://localhost:8080/"
        },
        "id": "amwYynXlJqjs",
        "outputId": "369e7cb8-e726-4290-f851-8337f9a0fc39"
      },
      "execution_count": null,
      "outputs": [
        {
          "output_type": "execute_result",
          "data": {
            "text/plain": [
              "primary_identifier                0\n",
              "device_type                       0\n",
              "device_category                   0\n",
              "gender                            0\n",
              "district_name                     0\n",
              "age_group                         0\n",
              "network_stay                      0\n",
              "average_monthly_bill_amount       0\n",
              "dusage_sum                        0\n",
              "dusage_min                        0\n",
              "dusage_max                        0\n",
              "dusage_days                       0\n",
              "dusage_stddev                     0\n",
              "vusage_onnet_sum                  0\n",
              "vusage_onnet_max                  0\n",
              "vusage_onnet_min                  0\n",
              "vusage_onnet_days                 0\n",
              "vusage_onnet_stddev               0\n",
              "vusage_offnet_sum                 0\n",
              "vusage_offnet_max                 0\n",
              "vusage_offnet_min                 0\n",
              "vusage_offnet_days                0\n",
              "vusage_offnet_stddev              0\n",
              "number_of_fixed_bb_accounts       0\n",
              "number_of_iptv_accounts           0\n",
              "add_on_tot_rental              1712\n",
              "add_on_count                   1712\n",
              "dtype: int64"
            ]
          },
          "metadata": {},
          "execution_count": 279
        }
      ]
    },
    {
      "cell_type": "code",
      "source": [
        "## add-on nan entries are filled with 0s\n",
        "X_drop_avgs_fillna=X_drop_avgs.fillna(0)\n",
        "testset=testset.fillna(0)"
      ],
      "metadata": {
        "id": "Kg-vUy6giZkX"
      },
      "execution_count": null,
      "outputs": []
    },
    {
      "cell_type": "code",
      "source": [
        "## Cardinality\n",
        "cols = list(X_drop_avgs_fillna)\n",
        "for i in cols:\n",
        "  if (X_drop_avgs_fillna[f\"{i}\"].dtype == 'object'):\n",
        "    print(i,\" :\",X_drop_avgs_fillna[f\"{i}\"].nunique())"
      ],
      "metadata": {
        "colab": {
          "base_uri": "https://localhost:8080/"
        },
        "id": "S0AG_vXTi9i-",
        "outputId": "fc87d80f-3b7d-414a-ba92-9f91db2f98da"
      },
      "execution_count": null,
      "outputs": [
        {
          "output_type": "stream",
          "name": "stdout",
          "text": [
            "device_type  : 4\n",
            "device_category  : 7\n",
            "gender  : 3\n",
            "district_name  : 26\n",
            "age_group  : 8\n"
          ]
        }
      ]
    },
    {
      "cell_type": "code",
      "source": [
        "cols = list(testset)\n",
        "for i in cols:\n",
        "  if (testset[f\"{i}\"].dtype == 'object'):\n",
        "    print(i,\" :\",testset[f\"{i}\"].nunique())"
      ],
      "metadata": {
        "colab": {
          "base_uri": "https://localhost:8080/"
        },
        "id": "tM66lpVhjAjV",
        "outputId": "3c3e70c2-704d-425e-edad-c262c8091c44"
      },
      "execution_count": null,
      "outputs": [
        {
          "output_type": "stream",
          "name": "stdout",
          "text": [
            "device_type  : 4\n",
            "device_category  : 8\n",
            "gender  : 3\n",
            "district_name  : 26\n",
            "age_group  : 8\n"
          ]
        }
      ]
    },
    {
      "cell_type": "code",
      "source": [
        "X_drop_avgs_fillna"
      ],
      "metadata": {
        "id": "IvpcXKgaazbR",
        "outputId": "e5359b6b-1427-424a-e006-392c549fe157",
        "colab": {
          "base_uri": "https://localhost:8080/",
          "height": 488
        }
      },
      "execution_count": null,
      "outputs": [
        {
          "output_type": "execute_result",
          "data": {
            "text/plain": [
              "       primary_identifier device_type device_category  gender district_name  \\\n",
              "0                 6875768          4G      Smartphone    MALE       Kegalle   \n",
              "1                 6406277          4G      Smartphone    MALE         Galle   \n",
              "2                 3563570          4G      Smartphone    MALE         Kandy   \n",
              "3                 1853666          4G      Smartphone  FEMALE       Colombo   \n",
              "4                 2794331          4G      Smartphone  FEMALE         Kandy   \n",
              "...                   ...         ...             ...     ...           ...   \n",
              "10495             1438655          4G      Smartphone    MALE      Kalutara   \n",
              "10496             7827264          4G      Smartphone  FEMALE       Colombo   \n",
              "10497             1433957          4G      Smartphone  FEMALE       Colombo   \n",
              "10498             8494507          4G      Smartphone    MALE         Kandy   \n",
              "10499             3569439          3G      Smartphone    MALE      Puttalam   \n",
              "\n",
              "      age_group  network_stay  average_monthly_bill_amount  dusage_sum  \\\n",
              "0         40-50           219                       761.62      6317.0   \n",
              "1         40-50            36                      2482.52     28365.0   \n",
              "2         30-40           186                      1565.55     18581.0   \n",
              "3         40-50            24                      2397.49     91071.0   \n",
              "4         50-60            37                      2501.75     19736.0   \n",
              "...         ...           ...                          ...         ...   \n",
              "10495     40-50            64                      2088.13       479.0   \n",
              "10496       <20             6                      2053.50     23168.0   \n",
              "10497     30-40            69                      2827.33      4553.0   \n",
              "10498     60-70           233                       645.43      2069.0   \n",
              "10499     40-50            33                       498.20       536.0   \n",
              "\n",
              "       dusage_min  ...  vusage_onnet_stddev  vusage_offnet_sum  \\\n",
              "0        2.773958  ...             0.000000              677.0   \n",
              "1        3.079438  ...             0.000000               76.0   \n",
              "2       48.193713  ...             0.000000                0.0   \n",
              "3       22.437842  ...             0.000000                0.0   \n",
              "4       53.302092  ...             0.000000              258.0   \n",
              "...           ...  ...                  ...                ...   \n",
              "10495    0.346959  ...            16.035284              102.0   \n",
              "10496    0.219985  ...             0.000000               32.0   \n",
              "10497    4.831711  ...             0.000000                0.0   \n",
              "10498    4.722031  ...             0.000000              105.0   \n",
              "10499    0.003048  ...             0.000000               15.0   \n",
              "\n",
              "       vusage_offnet_max  vusage_offnet_min  vusage_offnet_days  \\\n",
              "0             152.866667                0.0                27.0   \n",
              "1              35.433333                0.0                15.0   \n",
              "2               0.000000                0.0                 0.0   \n",
              "3               0.000000                0.0                 0.0   \n",
              "4              87.616667                0.0                23.0   \n",
              "...                  ...                ...                 ...   \n",
              "10495          29.866667                0.0                 7.0   \n",
              "10496          25.366667                0.0                 3.0   \n",
              "10497           0.000000                0.0                 0.0   \n",
              "10498          18.650000                0.0                18.0   \n",
              "10499           4.366667                0.0                 7.0   \n",
              "\n",
              "       vusage_offnet_stddev  number_of_fixed_bb_accounts  \\\n",
              "0                 34.759221                          0.0   \n",
              "1                  6.779644                          0.0   \n",
              "2                  0.000000                          0.0   \n",
              "3                  0.000000                          0.0   \n",
              "4                 16.224071                          0.0   \n",
              "...                     ...                          ...   \n",
              "10495              8.017054                          0.0   \n",
              "10496              5.151029                          0.0   \n",
              "10497              0.000000                          0.0   \n",
              "10498              4.956822                          0.0   \n",
              "10499              1.096541                          0.0   \n",
              "\n",
              "       number_of_iptv_accounts  add_on_tot_rental  add_on_count  \n",
              "0                          1.0                0.0           0.0  \n",
              "1                          0.0              600.0           2.0  \n",
              "2                          0.0                0.0           1.0  \n",
              "3                          0.0             1110.0           2.0  \n",
              "4                          1.0             1350.0           2.0  \n",
              "...                        ...                ...           ...  \n",
              "10495                      0.0                0.0           0.0  \n",
              "10496                      0.0              580.0           3.0  \n",
              "10497                      1.0                0.0           0.0  \n",
              "10498                      1.0                0.0           0.0  \n",
              "10499                      0.0                0.0           0.0  \n",
              "\n",
              "[10500 rows x 27 columns]"
            ],
            "text/html": [
              "\n",
              "  <div id=\"df-1a0767a8-ad46-4845-8798-9570edc0578a\">\n",
              "    <div class=\"colab-df-container\">\n",
              "      <div>\n",
              "<style scoped>\n",
              "    .dataframe tbody tr th:only-of-type {\n",
              "        vertical-align: middle;\n",
              "    }\n",
              "\n",
              "    .dataframe tbody tr th {\n",
              "        vertical-align: top;\n",
              "    }\n",
              "\n",
              "    .dataframe thead th {\n",
              "        text-align: right;\n",
              "    }\n",
              "</style>\n",
              "<table border=\"1\" class=\"dataframe\">\n",
              "  <thead>\n",
              "    <tr style=\"text-align: right;\">\n",
              "      <th></th>\n",
              "      <th>primary_identifier</th>\n",
              "      <th>device_type</th>\n",
              "      <th>device_category</th>\n",
              "      <th>gender</th>\n",
              "      <th>district_name</th>\n",
              "      <th>age_group</th>\n",
              "      <th>network_stay</th>\n",
              "      <th>average_monthly_bill_amount</th>\n",
              "      <th>dusage_sum</th>\n",
              "      <th>dusage_min</th>\n",
              "      <th>...</th>\n",
              "      <th>vusage_onnet_stddev</th>\n",
              "      <th>vusage_offnet_sum</th>\n",
              "      <th>vusage_offnet_max</th>\n",
              "      <th>vusage_offnet_min</th>\n",
              "      <th>vusage_offnet_days</th>\n",
              "      <th>vusage_offnet_stddev</th>\n",
              "      <th>number_of_fixed_bb_accounts</th>\n",
              "      <th>number_of_iptv_accounts</th>\n",
              "      <th>add_on_tot_rental</th>\n",
              "      <th>add_on_count</th>\n",
              "    </tr>\n",
              "  </thead>\n",
              "  <tbody>\n",
              "    <tr>\n",
              "      <th>0</th>\n",
              "      <td>6875768</td>\n",
              "      <td>4G</td>\n",
              "      <td>Smartphone</td>\n",
              "      <td>MALE</td>\n",
              "      <td>Kegalle</td>\n",
              "      <td>40-50</td>\n",
              "      <td>219</td>\n",
              "      <td>761.62</td>\n",
              "      <td>6317.0</td>\n",
              "      <td>2.773958</td>\n",
              "      <td>...</td>\n",
              "      <td>0.000000</td>\n",
              "      <td>677.0</td>\n",
              "      <td>152.866667</td>\n",
              "      <td>0.0</td>\n",
              "      <td>27.0</td>\n",
              "      <td>34.759221</td>\n",
              "      <td>0.0</td>\n",
              "      <td>1.0</td>\n",
              "      <td>0.0</td>\n",
              "      <td>0.0</td>\n",
              "    </tr>\n",
              "    <tr>\n",
              "      <th>1</th>\n",
              "      <td>6406277</td>\n",
              "      <td>4G</td>\n",
              "      <td>Smartphone</td>\n",
              "      <td>MALE</td>\n",
              "      <td>Galle</td>\n",
              "      <td>40-50</td>\n",
              "      <td>36</td>\n",
              "      <td>2482.52</td>\n",
              "      <td>28365.0</td>\n",
              "      <td>3.079438</td>\n",
              "      <td>...</td>\n",
              "      <td>0.000000</td>\n",
              "      <td>76.0</td>\n",
              "      <td>35.433333</td>\n",
              "      <td>0.0</td>\n",
              "      <td>15.0</td>\n",
              "      <td>6.779644</td>\n",
              "      <td>0.0</td>\n",
              "      <td>0.0</td>\n",
              "      <td>600.0</td>\n",
              "      <td>2.0</td>\n",
              "    </tr>\n",
              "    <tr>\n",
              "      <th>2</th>\n",
              "      <td>3563570</td>\n",
              "      <td>4G</td>\n",
              "      <td>Smartphone</td>\n",
              "      <td>MALE</td>\n",
              "      <td>Kandy</td>\n",
              "      <td>30-40</td>\n",
              "      <td>186</td>\n",
              "      <td>1565.55</td>\n",
              "      <td>18581.0</td>\n",
              "      <td>48.193713</td>\n",
              "      <td>...</td>\n",
              "      <td>0.000000</td>\n",
              "      <td>0.0</td>\n",
              "      <td>0.000000</td>\n",
              "      <td>0.0</td>\n",
              "      <td>0.0</td>\n",
              "      <td>0.000000</td>\n",
              "      <td>0.0</td>\n",
              "      <td>0.0</td>\n",
              "      <td>0.0</td>\n",
              "      <td>1.0</td>\n",
              "    </tr>\n",
              "    <tr>\n",
              "      <th>3</th>\n",
              "      <td>1853666</td>\n",
              "      <td>4G</td>\n",
              "      <td>Smartphone</td>\n",
              "      <td>FEMALE</td>\n",
              "      <td>Colombo</td>\n",
              "      <td>40-50</td>\n",
              "      <td>24</td>\n",
              "      <td>2397.49</td>\n",
              "      <td>91071.0</td>\n",
              "      <td>22.437842</td>\n",
              "      <td>...</td>\n",
              "      <td>0.000000</td>\n",
              "      <td>0.0</td>\n",
              "      <td>0.000000</td>\n",
              "      <td>0.0</td>\n",
              "      <td>0.0</td>\n",
              "      <td>0.000000</td>\n",
              "      <td>0.0</td>\n",
              "      <td>0.0</td>\n",
              "      <td>1110.0</td>\n",
              "      <td>2.0</td>\n",
              "    </tr>\n",
              "    <tr>\n",
              "      <th>4</th>\n",
              "      <td>2794331</td>\n",
              "      <td>4G</td>\n",
              "      <td>Smartphone</td>\n",
              "      <td>FEMALE</td>\n",
              "      <td>Kandy</td>\n",
              "      <td>50-60</td>\n",
              "      <td>37</td>\n",
              "      <td>2501.75</td>\n",
              "      <td>19736.0</td>\n",
              "      <td>53.302092</td>\n",
              "      <td>...</td>\n",
              "      <td>0.000000</td>\n",
              "      <td>258.0</td>\n",
              "      <td>87.616667</td>\n",
              "      <td>0.0</td>\n",
              "      <td>23.0</td>\n",
              "      <td>16.224071</td>\n",
              "      <td>0.0</td>\n",
              "      <td>1.0</td>\n",
              "      <td>1350.0</td>\n",
              "      <td>2.0</td>\n",
              "    </tr>\n",
              "    <tr>\n",
              "      <th>...</th>\n",
              "      <td>...</td>\n",
              "      <td>...</td>\n",
              "      <td>...</td>\n",
              "      <td>...</td>\n",
              "      <td>...</td>\n",
              "      <td>...</td>\n",
              "      <td>...</td>\n",
              "      <td>...</td>\n",
              "      <td>...</td>\n",
              "      <td>...</td>\n",
              "      <td>...</td>\n",
              "      <td>...</td>\n",
              "      <td>...</td>\n",
              "      <td>...</td>\n",
              "      <td>...</td>\n",
              "      <td>...</td>\n",
              "      <td>...</td>\n",
              "      <td>...</td>\n",
              "      <td>...</td>\n",
              "      <td>...</td>\n",
              "      <td>...</td>\n",
              "    </tr>\n",
              "    <tr>\n",
              "      <th>10495</th>\n",
              "      <td>1438655</td>\n",
              "      <td>4G</td>\n",
              "      <td>Smartphone</td>\n",
              "      <td>MALE</td>\n",
              "      <td>Kalutara</td>\n",
              "      <td>40-50</td>\n",
              "      <td>64</td>\n",
              "      <td>2088.13</td>\n",
              "      <td>479.0</td>\n",
              "      <td>0.346959</td>\n",
              "      <td>...</td>\n",
              "      <td>16.035284</td>\n",
              "      <td>102.0</td>\n",
              "      <td>29.866667</td>\n",
              "      <td>0.0</td>\n",
              "      <td>7.0</td>\n",
              "      <td>8.017054</td>\n",
              "      <td>0.0</td>\n",
              "      <td>0.0</td>\n",
              "      <td>0.0</td>\n",
              "      <td>0.0</td>\n",
              "    </tr>\n",
              "    <tr>\n",
              "      <th>10496</th>\n",
              "      <td>7827264</td>\n",
              "      <td>4G</td>\n",
              "      <td>Smartphone</td>\n",
              "      <td>FEMALE</td>\n",
              "      <td>Colombo</td>\n",
              "      <td>&lt;20</td>\n",
              "      <td>6</td>\n",
              "      <td>2053.50</td>\n",
              "      <td>23168.0</td>\n",
              "      <td>0.219985</td>\n",
              "      <td>...</td>\n",
              "      <td>0.000000</td>\n",
              "      <td>32.0</td>\n",
              "      <td>25.366667</td>\n",
              "      <td>0.0</td>\n",
              "      <td>3.0</td>\n",
              "      <td>5.151029</td>\n",
              "      <td>0.0</td>\n",
              "      <td>0.0</td>\n",
              "      <td>580.0</td>\n",
              "      <td>3.0</td>\n",
              "    </tr>\n",
              "    <tr>\n",
              "      <th>10497</th>\n",
              "      <td>1433957</td>\n",
              "      <td>4G</td>\n",
              "      <td>Smartphone</td>\n",
              "      <td>FEMALE</td>\n",
              "      <td>Colombo</td>\n",
              "      <td>30-40</td>\n",
              "      <td>69</td>\n",
              "      <td>2827.33</td>\n",
              "      <td>4553.0</td>\n",
              "      <td>4.831711</td>\n",
              "      <td>...</td>\n",
              "      <td>0.000000</td>\n",
              "      <td>0.0</td>\n",
              "      <td>0.000000</td>\n",
              "      <td>0.0</td>\n",
              "      <td>0.0</td>\n",
              "      <td>0.000000</td>\n",
              "      <td>0.0</td>\n",
              "      <td>1.0</td>\n",
              "      <td>0.0</td>\n",
              "      <td>0.0</td>\n",
              "    </tr>\n",
              "    <tr>\n",
              "      <th>10498</th>\n",
              "      <td>8494507</td>\n",
              "      <td>4G</td>\n",
              "      <td>Smartphone</td>\n",
              "      <td>MALE</td>\n",
              "      <td>Kandy</td>\n",
              "      <td>60-70</td>\n",
              "      <td>233</td>\n",
              "      <td>645.43</td>\n",
              "      <td>2069.0</td>\n",
              "      <td>4.722031</td>\n",
              "      <td>...</td>\n",
              "      <td>0.000000</td>\n",
              "      <td>105.0</td>\n",
              "      <td>18.650000</td>\n",
              "      <td>0.0</td>\n",
              "      <td>18.0</td>\n",
              "      <td>4.956822</td>\n",
              "      <td>0.0</td>\n",
              "      <td>1.0</td>\n",
              "      <td>0.0</td>\n",
              "      <td>0.0</td>\n",
              "    </tr>\n",
              "    <tr>\n",
              "      <th>10499</th>\n",
              "      <td>3569439</td>\n",
              "      <td>3G</td>\n",
              "      <td>Smartphone</td>\n",
              "      <td>MALE</td>\n",
              "      <td>Puttalam</td>\n",
              "      <td>40-50</td>\n",
              "      <td>33</td>\n",
              "      <td>498.20</td>\n",
              "      <td>536.0</td>\n",
              "      <td>0.003048</td>\n",
              "      <td>...</td>\n",
              "      <td>0.000000</td>\n",
              "      <td>15.0</td>\n",
              "      <td>4.366667</td>\n",
              "      <td>0.0</td>\n",
              "      <td>7.0</td>\n",
              "      <td>1.096541</td>\n",
              "      <td>0.0</td>\n",
              "      <td>0.0</td>\n",
              "      <td>0.0</td>\n",
              "      <td>0.0</td>\n",
              "    </tr>\n",
              "  </tbody>\n",
              "</table>\n",
              "<p>10500 rows × 27 columns</p>\n",
              "</div>\n",
              "      <button class=\"colab-df-convert\" onclick=\"convertToInteractive('df-1a0767a8-ad46-4845-8798-9570edc0578a')\"\n",
              "              title=\"Convert this dataframe to an interactive table.\"\n",
              "              style=\"display:none;\">\n",
              "        \n",
              "  <svg xmlns=\"http://www.w3.org/2000/svg\" height=\"24px\"viewBox=\"0 0 24 24\"\n",
              "       width=\"24px\">\n",
              "    <path d=\"M0 0h24v24H0V0z\" fill=\"none\"/>\n",
              "    <path d=\"M18.56 5.44l.94 2.06.94-2.06 2.06-.94-2.06-.94-.94-2.06-.94 2.06-2.06.94zm-11 1L8.5 8.5l.94-2.06 2.06-.94-2.06-.94L8.5 2.5l-.94 2.06-2.06.94zm10 10l.94 2.06.94-2.06 2.06-.94-2.06-.94-.94-2.06-.94 2.06-2.06.94z\"/><path d=\"M17.41 7.96l-1.37-1.37c-.4-.4-.92-.59-1.43-.59-.52 0-1.04.2-1.43.59L10.3 9.45l-7.72 7.72c-.78.78-.78 2.05 0 2.83L4 21.41c.39.39.9.59 1.41.59.51 0 1.02-.2 1.41-.59l7.78-7.78 2.81-2.81c.8-.78.8-2.07 0-2.86zM5.41 20L4 18.59l7.72-7.72 1.47 1.35L5.41 20z\"/>\n",
              "  </svg>\n",
              "      </button>\n",
              "      \n",
              "  <style>\n",
              "    .colab-df-container {\n",
              "      display:flex;\n",
              "      flex-wrap:wrap;\n",
              "      gap: 12px;\n",
              "    }\n",
              "\n",
              "    .colab-df-convert {\n",
              "      background-color: #E8F0FE;\n",
              "      border: none;\n",
              "      border-radius: 50%;\n",
              "      cursor: pointer;\n",
              "      display: none;\n",
              "      fill: #1967D2;\n",
              "      height: 32px;\n",
              "      padding: 0 0 0 0;\n",
              "      width: 32px;\n",
              "    }\n",
              "\n",
              "    .colab-df-convert:hover {\n",
              "      background-color: #E2EBFA;\n",
              "      box-shadow: 0px 1px 2px rgba(60, 64, 67, 0.3), 0px 1px 3px 1px rgba(60, 64, 67, 0.15);\n",
              "      fill: #174EA6;\n",
              "    }\n",
              "\n",
              "    [theme=dark] .colab-df-convert {\n",
              "      background-color: #3B4455;\n",
              "      fill: #D2E3FC;\n",
              "    }\n",
              "\n",
              "    [theme=dark] .colab-df-convert:hover {\n",
              "      background-color: #434B5C;\n",
              "      box-shadow: 0px 1px 3px 1px rgba(0, 0, 0, 0.15);\n",
              "      filter: drop-shadow(0px 1px 2px rgba(0, 0, 0, 0.3));\n",
              "      fill: #FFFFFF;\n",
              "    }\n",
              "  </style>\n",
              "\n",
              "      <script>\n",
              "        const buttonEl =\n",
              "          document.querySelector('#df-1a0767a8-ad46-4845-8798-9570edc0578a button.colab-df-convert');\n",
              "        buttonEl.style.display =\n",
              "          google.colab.kernel.accessAllowed ? 'block' : 'none';\n",
              "\n",
              "        async function convertToInteractive(key) {\n",
              "          const element = document.querySelector('#df-1a0767a8-ad46-4845-8798-9570edc0578a');\n",
              "          const dataTable =\n",
              "            await google.colab.kernel.invokeFunction('convertToInteractive',\n",
              "                                                     [key], {});\n",
              "          if (!dataTable) return;\n",
              "\n",
              "          const docLinkHtml = 'Like what you see? Visit the ' +\n",
              "            '<a target=\"_blank\" href=https://colab.research.google.com/notebooks/data_table.ipynb>data table notebook</a>'\n",
              "            + ' to learn more about interactive tables.';\n",
              "          element.innerHTML = '';\n",
              "          dataTable['output_type'] = 'display_data';\n",
              "          await google.colab.output.renderOutput(dataTable, element);\n",
              "          const docLink = document.createElement('div');\n",
              "          docLink.innerHTML = docLinkHtml;\n",
              "          element.appendChild(docLink);\n",
              "        }\n",
              "      </script>\n",
              "    </div>\n",
              "  </div>\n",
              "  "
            ]
          },
          "metadata": {},
          "execution_count": 283
        }
      ]
    },
    {
      "cell_type": "code",
      "source": [
        "X_drop_avgs_fillna.isna().sum()"
      ],
      "metadata": {
        "colab": {
          "base_uri": "https://localhost:8080/"
        },
        "id": "fX5kpfu-jKso",
        "outputId": "b110ed9e-2184-4f3a-8b24-54a9ca48faf1"
      },
      "execution_count": null,
      "outputs": [
        {
          "output_type": "execute_result",
          "data": {
            "text/plain": [
              "primary_identifier             0\n",
              "device_type                    0\n",
              "device_category                0\n",
              "gender                         0\n",
              "district_name                  0\n",
              "age_group                      0\n",
              "network_stay                   0\n",
              "average_monthly_bill_amount    0\n",
              "dusage_sum                     0\n",
              "dusage_min                     0\n",
              "dusage_max                     0\n",
              "dusage_days                    0\n",
              "dusage_stddev                  0\n",
              "vusage_onnet_sum               0\n",
              "vusage_onnet_max               0\n",
              "vusage_onnet_min               0\n",
              "vusage_onnet_days              0\n",
              "vusage_onnet_stddev            0\n",
              "vusage_offnet_sum              0\n",
              "vusage_offnet_max              0\n",
              "vusage_offnet_min              0\n",
              "vusage_offnet_days             0\n",
              "vusage_offnet_stddev           0\n",
              "number_of_fixed_bb_accounts    0\n",
              "number_of_iptv_accounts        0\n",
              "add_on_tot_rental              0\n",
              "add_on_count                   0\n",
              "dtype: int64"
            ]
          },
          "metadata": {},
          "execution_count": 284
        }
      ]
    },
    {
      "cell_type": "code",
      "source": [
        "testset.isna().sum()"
      ],
      "metadata": {
        "colab": {
          "base_uri": "https://localhost:8080/"
        },
        "id": "bQwH0VM8wEzB",
        "outputId": "a0ed7859-8afe-497d-e83b-9c351fa8952f"
      },
      "execution_count": null,
      "outputs": [
        {
          "output_type": "execute_result",
          "data": {
            "text/plain": [
              "primary_identifier             0\n",
              "device_type                    0\n",
              "device_category                0\n",
              "gender                         0\n",
              "district_name                  0\n",
              "age_group                      0\n",
              "network_stay                   0\n",
              "average_monthly_bill_amount    0\n",
              "dusage_sum                     0\n",
              "dusage_min                     0\n",
              "dusage_max                     0\n",
              "dusage_days                    0\n",
              "dusage_stddev                  0\n",
              "vusage_onnet_sum               0\n",
              "vusage_onnet_max               0\n",
              "vusage_onnet_min               0\n",
              "vusage_onnet_days              0\n",
              "vusage_onnet_stddev            0\n",
              "vusage_offnet_sum              0\n",
              "vusage_offnet_max              0\n",
              "vusage_offnet_min              0\n",
              "vusage_offnet_days             0\n",
              "vusage_offnet_stddev           0\n",
              "number_of_fixed_bb_accounts    0\n",
              "number_of_iptv_accounts        0\n",
              "add_on_tot_rental              0\n",
              "add_on_count                   0\n",
              "dtype: int64"
            ]
          },
          "metadata": {},
          "execution_count": 285
        }
      ]
    },
    {
      "cell_type": "code",
      "source": [
        "# Object coloumns and Numeric cols\n",
        "numeric_cols = [cname for cname in X.columns if X[cname].dtype in ['int64', 'float64']]\n",
        "object_cols = [cname for cname in X.columns if X[cname].dtype in ['object']]\n",
        "\n",
        "# Unique values of trainset\n",
        "for k in object_cols:\n",
        "  print(f\"{k} : \" ,X_drop_avgs_fillna[f\"{k}\"].unique())"
      ],
      "metadata": {
        "id": "4o_5KU0MwGNd",
        "colab": {
          "base_uri": "https://localhost:8080/"
        },
        "outputId": "8a304771-00d6-4e3f-efc9-bb68710a29e1"
      },
      "execution_count": null,
      "outputs": [
        {
          "output_type": "stream",
          "name": "stdout",
          "text": [
            "device_type :  ['4G' '2G' '3G' 'NE']\n",
            "device_category :  ['Smartphone' 'Basic' 'Feature phone' 'Pluggable card' 'Tablet' 'NE'\n",
            " 'Modem']\n",
            "gender :  ['MALE' 'FEMALE' 'NE']\n",
            "district_name :  ['Kegalle' 'Galle' 'Kandy' 'Colombo' 'Gampaha' 'Kalutara' 'Kurunegala'\n",
            " 'Puttalam' 'Jaffna' 'Ampara' 'Matara' 'Matale' 'Anuradhapura' 'Ratnapura'\n",
            " 'Nuwara Eliya' 'Badulla' 'Unknown' 'Mannar' 'Monaragala' 'Trincomalee'\n",
            " 'Batticaloa' 'Hambantota' 'Polonnaruwa' 'Vavuniya' 'Kilinochchi'\n",
            " 'Mullaitivu']\n",
            "age_group :  ['40-50' '30-40' '50-60' '20-30' '>70' 'NE' '60-70' '<20']\n"
          ]
        }
      ]
    },
    {
      "cell_type": "code",
      "source": [
        "# Object coloumns and Numeric cols\n",
        "numeric_cols = [cname for cname in X.columns if X[cname].dtype in ['int64', 'float64']]\n",
        "object_cols = [cname for cname in X.columns if X[cname].dtype in ['object']]\n",
        "\n",
        "# Unique values of trainset\n",
        "for k in object_cols:\n",
        "  print(f\"{k} : \" ,testset[f\"{k}\"].unique())"
      ],
      "metadata": {
        "colab": {
          "base_uri": "https://localhost:8080/"
        },
        "id": "mzT-4sn8KWxA",
        "outputId": "51efd564-f30f-49d7-950d-f0c19bbb0064"
      },
      "execution_count": null,
      "outputs": [
        {
          "output_type": "stream",
          "name": "stdout",
          "text": [
            "device_type :  ['4G' '2G' '3G' 'NE']\n",
            "device_category :  ['Smartphone' 'Basic' 'Feature phone' 'M2M' 'NE' 'Tablet' 'Pluggable card'\n",
            " 'Modem']\n",
            "gender :  ['MALE' 'FEMALE' 'NE']\n",
            "district_name :  ['Colombo' 'Matara' 'Kandy' 'Galle' 'Gampaha' 'Kurunegala' 'Kegalle'\n",
            " 'Matale' 'Kalutara' 'Anuradhapura' 'Puttalam' 'Trincomalee' 'Jaffna'\n",
            " 'Batticaloa' 'Hambantota' 'Monaragala' 'Nuwara Eliya' 'Ratnapura'\n",
            " 'Ampara' 'Badulla' 'Unknown' 'Mannar' 'Mullaitivu' 'Vavuniya'\n",
            " 'Kilinochchi' 'Polonnaruwa']\n",
            "age_group :  ['40-50' '20-30' '30-40' '>70' '50-60' '60-70' 'NE' '<20']\n"
          ]
        }
      ]
    },
    {
      "cell_type": "code",
      "source": [],
      "metadata": {
        "id": "U_pfqnIZVeQS"
      },
      "execution_count": null,
      "outputs": []
    },
    {
      "cell_type": "markdown",
      "source": [
        "## Encoding"
      ],
      "metadata": {
        "id": "8h7fOnZkLpwr"
      }
    },
    {
      "cell_type": "code",
      "source": [
        "# Object coloumns and Numeric cols\n",
        "## Datasets are X_drop_avgs_fillna and testset\n",
        "numeric_cols = [cname for cname in X_drop_avgs_fillna.columns if X_drop_avgs_fillna[cname].dtype in ['int64', 'float64']]\n",
        "object_cols = [cname for cname in X_drop_avgs_fillna.columns if X_drop_avgs_fillna[cname].dtype in ['object']]"
      ],
      "metadata": {
        "id": "tjjhf6JvLMGl"
      },
      "execution_count": null,
      "outputs": []
    },
    {
      "cell_type": "code",
      "source": [
        "## For object columns ordinal encoding is used\n",
        "## Ordinal Encoding\n",
        "from sklearn.preprocessing import OrdinalEncoder\n",
        "\n",
        "# Apply ordinal encoder to each column with categorical data\n",
        "ordinal_encoder = OrdinalEncoder()\n",
        "\n",
        "# Train set\n",
        "X_drop_avgs_fillna[object_cols] = pd.DataFrame(ordinal_encoder.fit_transform(X_drop_avgs_fillna[object_cols]))\n",
        "\n",
        "# Test set\n",
        "testset[object_cols] = pd.DataFrame(ordinal_encoder.fit_transform(testset[object_cols]))"
      ],
      "metadata": {
        "id": "xWUD6OKWlGZN"
      },
      "execution_count": null,
      "outputs": []
    },
    {
      "cell_type": "code",
      "source": [
        "## Drop primary_identifier\n",
        "pri_ID = testset['primary_identifier']\n",
        "X_drop_avgs_fillna = X_drop_avgs_fillna.drop(['primary_identifier'],axis=1)\n",
        "testset = testset.drop(['primary_identifier'],axis=1)"
      ],
      "metadata": {
        "id": "xL1nW2uekJDU"
      },
      "execution_count": null,
      "outputs": []
    },
    {
      "cell_type": "code",
      "source": [],
      "metadata": {
        "id": "3sfi7dIIqw9b"
      },
      "execution_count": null,
      "outputs": []
    },
    {
      "cell_type": "code",
      "source": [],
      "metadata": {
        "id": "GR_p4fzZqw21"
      },
      "execution_count": null,
      "outputs": []
    },
    {
      "cell_type": "code",
      "source": [],
      "metadata": {
        "id": "tMVmHgiXqwvr"
      },
      "execution_count": null,
      "outputs": []
    },
    {
      "cell_type": "code",
      "source": [
        "X_train = X_drop_avgs_fillna.copy()\n",
        "y_train=y_train.astype('int')\n",
        "\n",
        "X_test = testset.copy()"
      ],
      "metadata": {
        "id": "8mAlZZ7sWii_"
      },
      "execution_count": null,
      "outputs": []
    },
    {
      "cell_type": "markdown",
      "source": [
        "## Analyzing\n",
        "#### Ada-Boost Classifier"
      ],
      "metadata": {
        "id": "Qv69bWWNWjJF"
      }
    },
    {
      "cell_type": "code",
      "source": [
        "from sklearn.ensemble import AdaBoostClassifier\n",
        "from sklearn.tree import DecisionTreeClassifier\n",
        "\n",
        "bdt_real = AdaBoostClassifier(\n",
        "    DecisionTreeClassifier(max_depth=2), n_estimators=300, learning_rate=1\n",
        ")\n",
        "bdt_real.fit(X_train, y_train)\n",
        "\n",
        "## predictions made here\n",
        "y_pred = bdt_real.predict(X_test)"
      ],
      "metadata": {
        "id": "fciDxTEGWm5X"
      },
      "execution_count": null,
      "outputs": []
    },
    {
      "cell_type": "markdown",
      "source": [],
      "metadata": {
        "id": "JjaUiR-KjJWs"
      }
    },
    {
      "cell_type": "code",
      "source": [
        "## Make CSV output\n",
        "pri_ID = pri_ID.to_list()\n",
        "print(type(pri_ID))\n",
        "print(len(pri_ID))\n",
        "\n",
        "submission1 = list(zip(pri_ID, y_pred))"
      ],
      "metadata": {
        "id": "qFPOMt4wlyWK"
      },
      "execution_count": null,
      "outputs": []
    },
    {
      "cell_type": "code",
      "source": [
        "# submission1 = list(zip(pri_ID, y_pred))"
      ],
      "metadata": {
        "id": "hvUw0RM-mp-9"
      },
      "execution_count": null,
      "outputs": []
    },
    {
      "cell_type": "code",
      "source": [
        "import csv\n",
        "cols = ['primary_identifier','next_month_plan']\n",
        "rows = submission1\n",
        "with open('submission1.csv', 'w') as f:\n",
        "\n",
        "    # using csv.writer method from CSV package\n",
        "    write = csv.writer(f)\n",
        "\n",
        "    write.writerow(cols)\n",
        "    write.writerows(rows)"
      ],
      "metadata": {
        "id": "hos4yBvenKaZ"
      },
      "execution_count": null,
      "outputs": []
    }
  ]
}