{
  "nbformat": 4,
  "nbformat_minor": 0,
  "metadata": {
    "colab": {
      "provenance": [],
      "authorship_tag": "ABX9TyN+15LB4B6Dtdv3FKrBzDCq",
      "include_colab_link": true
    },
    "kernelspec": {
      "name": "python3",
      "display_name": "Python 3"
    },
    "language_info": {
      "name": "python"
    }
  },
  "cells": [
    {
      "cell_type": "markdown",
      "metadata": {
        "id": "view-in-github",
        "colab_type": "text"
      },
      "source": [
        "<a href=\"https://colab.research.google.com/github/pawara101/notebooks/blob/main/pytorch_workflow.ipynb\" target=\"_parent\"><img src=\"https://colab.research.google.com/assets/colab-badge.svg\" alt=\"Open In Colab\"/></a>"
      ]
    },
    {
      "cell_type": "markdown",
      "source": [
        "# pyTorch Workflow\n",
        "* explore an example\n"
      ],
      "metadata": {
        "id": "ClA_OZQkUiSi"
      }
    },
    {
      "cell_type": "code",
      "source": [
        "covering = {1:\"data (prepare and load)\",\n",
        "            2: \"build the model\",\n",
        "            3:\"fitting the mode to data(trainning)\",\n",
        "            4:\"make preditions and evaluate\",\n",
        "            5:\"saving and loading the model\",\n",
        "            6:\"putting all together\"}\n",
        "\n",
        "print(covering)"
      ],
      "metadata": {
        "colab": {
          "base_uri": "https://localhost:8080/"
        },
        "id": "vwKf6s_FUf0v",
        "outputId": "cf67b25a-317f-4035-df0a-3145bde90d58"
      },
      "execution_count": 2,
      "outputs": [
        {
          "output_type": "stream",
          "name": "stdout",
          "text": [
            "{1: 'data (prepare and load)', 2: 'build the model', 3: 'fitting the mode to data(trainning)', 4: 'make preditions and evaluate', 5: 'saving and loading the model', 6: 'putting all together'}\n"
          ]
        }
      ]
    },
    {
      "cell_type": "code",
      "source": [
        "import torch\n",
        "from torch import nn\n",
        "import matplotlib.pyplot as plt\n"
      ],
      "metadata": {
        "id": "vQINZlpjVp81"
      },
      "execution_count": 3,
      "outputs": []
    },
    {
      "cell_type": "code",
      "source": [
        "## check pytorch version\n",
        "torch.__version__"
      ],
      "metadata": {
        "colab": {
          "base_uri": "https://localhost:8080/",
          "height": 36
        },
        "id": "KsFIP_bHWVKt",
        "outputId": "d91dbd8b-5597-43c8-8977-f460b1c5d12d"
      },
      "execution_count": null,
      "outputs": [
        {
          "output_type": "execute_result",
          "data": {
            "text/plain": [
              "'2.1.0+cu121'"
            ],
            "application/vnd.google.colaboratory.intrinsic+json": {
              "type": "string"
            }
          },
          "metadata": {},
          "execution_count": 6
        }
      ]
    },
    {
      "cell_type": "markdown",
      "source": [
        "## Data prepare and load"
      ],
      "metadata": {
        "id": "_R6f3sR7W4DN"
      }
    },
    {
      "cell_type": "code",
      "source": [
        "## create known parameters\n",
        "weight = 0.7\n",
        "bias = 0.3\n",
        "\n",
        "start =0\n",
        "end =1\n",
        "step =0.02\n",
        "\n",
        "X = torch.arange(start,end,step).unsqueeze(dim=1)\n",
        "\n",
        "y = weight*X + bias\n",
        "\n",
        "X[:10],y[:10]"
      ],
      "metadata": {
        "colab": {
          "base_uri": "https://localhost:8080/"
        },
        "id": "j19vwsa7WwIE",
        "outputId": "ad9d253d-109f-4eff-df23-bdfca79dbc25"
      },
      "execution_count": 4,
      "outputs": [
        {
          "output_type": "execute_result",
          "data": {
            "text/plain": [
              "(tensor([[0.0000],\n",
              "         [0.0200],\n",
              "         [0.0400],\n",
              "         [0.0600],\n",
              "         [0.0800],\n",
              "         [0.1000],\n",
              "         [0.1200],\n",
              "         [0.1400],\n",
              "         [0.1600],\n",
              "         [0.1800]]),\n",
              " tensor([[0.3000],\n",
              "         [0.3140],\n",
              "         [0.3280],\n",
              "         [0.3420],\n",
              "         [0.3560],\n",
              "         [0.3700],\n",
              "         [0.3840],\n",
              "         [0.3980],\n",
              "         [0.4120],\n",
              "         [0.4260]]))"
            ]
          },
          "metadata": {},
          "execution_count": 4
        }
      ]
    },
    {
      "cell_type": "markdown",
      "source": [
        "## Splitting Data"
      ],
      "metadata": {
        "id": "u-nCfmZaYp3X"
      }
    },
    {
      "cell_type": "code",
      "source": [
        "## Create train test split\n",
        "train_split = int(0.8*len(X))\n",
        "X_train,y_train = X[:train_split],y[:train_split]\n",
        "X_test,y_test = X[train_split:],y[train_split:]\n",
        "\n",
        "len(X_train), len(y_train), len(X_test), len(y_test)"
      ],
      "metadata": {
        "colab": {
          "base_uri": "https://localhost:8080/"
        },
        "id": "SRacPVt1X2NY",
        "outputId": "53dde3c5-f5f9-4ebf-92e4-d56cc342972b"
      },
      "execution_count": 7,
      "outputs": [
        {
          "output_type": "execute_result",
          "data": {
            "text/plain": [
              "(40, 40, 10, 10)"
            ]
          },
          "metadata": {},
          "execution_count": 7
        }
      ]
    },
    {
      "cell_type": "code",
      "source": [
        "plt.scatter(X,y,s=4)"
      ],
      "metadata": {
        "colab": {
          "base_uri": "https://localhost:8080/",
          "height": 447
        },
        "id": "3rwBIwYZZMN8",
        "outputId": "e5cf7c78-6dca-4098-da96-7b5cfc0605c6"
      },
      "execution_count": 5,
      "outputs": [
        {
          "output_type": "execute_result",
          "data": {
            "text/plain": [
              "<matplotlib.collections.PathCollection at 0x7c77f7abceb0>"
            ]
          },
          "metadata": {},
          "execution_count": 5
        },
        {
          "output_type": "display_data",
          "data": {
            "text/plain": [
              "<Figure size 640x480 with 1 Axes>"
            ],
            "image/png": "[encoded data removed]"
          },
          "metadata": {}
        }
      ]
    },
    {
      "cell_type": "code",
      "source": [
        "def plot_predictions(train_data=X_train,\n",
        "                     train_labels=y_train,\n",
        "                     test_data=X_test,\n",
        "                     test_labels=y_test,\n",
        "                     predictions=None):\n",
        "  plt.figure(figsize=(10,7))\n",
        "\n",
        "  plt.scatter(train_data,train_labels,c=\"b\",s=4,label=\"Trainning Data\")\n",
        "  plt.scatter(test_data,test_labels,c='g',s=4,label=\"Testing Data\")\n",
        "\n",
        "  if predictions is not None:\n",
        "    plt.scatter(test_data,predictions,c=\"r\",s=4,label=\"Predictions\")\n",
        "\n",
        "  plt.legend(prop={\"size\" :14})\n",
        "\n",
        "\n",
        "\n",
        "plot_predictions()"
      ],
      "metadata": {
        "id": "QCyURLLnbX5B",
        "colab": {
          "base_uri": "https://localhost:8080/",
          "height": 599
        },
        "outputId": "94af8f3d-c47b-414b-817a-70fbace0511f"
      },
      "execution_count": 10,
      "outputs": [
        {
          "output_type": "display_data",
          "data": {
            "text/plain": [
              "<Figure size 1000x700 with 1 Axes>"
            ],
            "image/png": "[encoded data removed]"
          },
          "metadata": {}
        }
      ]
    },
    {
      "cell_type": "markdown",
      "source": [
        "## 2.Build the pytorch Model\n",
        "* Linear regression model"
      ],
      "metadata": {
        "id": "GH0x68Ew_swI"
      }
    },
    {
      "cell_type": "code",
      "source": [
        "## Create liner regression model class\n",
        "class LinearRegressionModel(nn.Module):\n",
        "  def __init__(self):\n",
        "    pass\n",
        "\n",
        "\n",
        "\n"
      ],
      "metadata": {
        "id": "i1srJcI8-W0Y"
      },
      "execution_count": null,
      "outputs": []
    }
  ]
}