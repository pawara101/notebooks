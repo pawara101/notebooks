{
 "cells": [
  {
   "cell_type": "markdown",
   "id": "bae8bb97",
   "metadata": {
    "papermill": {
     "duration": 0.008445,
     "end_time": "2022-12-22T19:41:34.375450",
     "exception": false,
     "start_time": "2022-12-22T19:41:34.367005",
     "status": "completed"
    },
    "tags": []
   },
   "source": [
    "**This notebook is an exercise in the [SQL](https://www.kaggle.com/learn/intro-to-sql) course.  You can reference the tutorial at [this link](https://www.kaggle.com/dansbecker/as-with).**\n",
    "\n",
    "---\n"
   ]
  },
  {
   "cell_type": "markdown",
   "id": "78251116",
   "metadata": {
    "papermill": {
     "duration": 0.006813,
     "end_time": "2022-12-22T19:41:34.389368",
     "exception": false,
     "start_time": "2022-12-22T19:41:34.382555",
     "status": "completed"
    },
    "tags": []
   },
   "source": [
    "# Introduction\n",
    "\n",
    "You are getting to the point where you can own an analysis from beginning to end. So you'll do more data exploration in this exercise than you've done before.  Before you get started, run the following set-up code as usual. "
   ]
  },
  {
   "cell_type": "code",
   "execution_count": 1,
   "id": "0aa140be",
   "metadata": {
    "execution": {
     "iopub.execute_input": "2022-12-22T19:41:34.405834Z",
     "iopub.status.busy": "2022-12-22T19:41:34.405084Z",
     "iopub.status.idle": "2022-12-22T19:41:39.038490Z",
     "shell.execute_reply": "2022-12-22T19:41:39.037248Z"
    },
    "papermill": {
     "duration": 4.645401,
     "end_time": "2022-12-22T19:41:39.041814",
     "exception": false,
     "start_time": "2022-12-22T19:41:34.396413",
     "status": "completed"
    },
    "tags": []
   },
   "outputs": [
    {
     "name": "stdout",
     "output_type": "stream",
     "text": [
      "Using Kaggle's public dataset BigQuery integration.\n"
     ]
    },
    {
     "name": "stderr",
     "output_type": "stream",
     "text": [
      "/opt/conda/lib/python3.7/site-packages/google/cloud/bigquery/client.py:440: UserWarning: Cannot create BigQuery Storage client, the dependency google-cloud-bigquery-storage is not installed.\n",
      "  \"Cannot create BigQuery Storage client, the dependency \"\n"
     ]
    },
    {
     "name": "stdout",
     "output_type": "stream",
     "text": [
      "Setup Complete\n"
     ]
    }
   ],
   "source": [
    "# Set up feedback system\n",
    "from learntools.core import binder\n",
    "binder.bind(globals())\n",
    "from learntools.sql.ex5 import *\n",
    "print(\"Setup Complete\")"
   ]
  },
  {
   "cell_type": "markdown",
   "id": "e69079db",
   "metadata": {
    "papermill": {
     "duration": 0.007084,
     "end_time": "2022-12-22T19:41:39.056385",
     "exception": false,
     "start_time": "2022-12-22T19:41:39.049301",
     "status": "completed"
    },
    "tags": []
   },
   "source": [
    "You'll work with a dataset about taxi trips in the city of Chicago. Run the cell below to fetch the `chicago_taxi_trips` dataset."
   ]
  },
  {
   "cell_type": "code",
   "execution_count": 2,
   "id": "a8b14424",
   "metadata": {
    "execution": {
     "iopub.execute_input": "2022-12-22T19:41:39.073625Z",
     "iopub.status.busy": "2022-12-22T19:41:39.072829Z",
     "iopub.status.idle": "2022-12-22T19:41:39.528729Z",
     "shell.execute_reply": "2022-12-22T19:41:39.527472Z"
    },
    "papermill": {
     "duration": 0.467747,
     "end_time": "2022-12-22T19:41:39.531495",
     "exception": false,
     "start_time": "2022-12-22T19:41:39.063748",
     "status": "completed"
    },
    "tags": []
   },
   "outputs": [
    {
     "name": "stdout",
     "output_type": "stream",
     "text": [
      "Using Kaggle's public dataset BigQuery integration.\n"
     ]
    }
   ],
   "source": [
    "from google.cloud import bigquery\n",
    "\n",
    "# Create a \"Client\" object\n",
    "client = bigquery.Client()\n",
    "\n",
    "# Construct a reference to the \"chicago_taxi_trips\" dataset\n",
    "dataset_ref = client.dataset(\"chicago_taxi_trips\", project=\"bigquery-public-data\")\n",
    "\n",
    "# API request - fetch the dataset\n",
    "dataset = client.get_dataset(dataset_ref)"
   ]
  },
  {
   "cell_type": "markdown",
   "id": "7d4f35c8",
   "metadata": {
    "papermill": {
     "duration": 0.008444,
     "end_time": "2022-12-22T19:41:39.547869",
     "exception": false,
     "start_time": "2022-12-22T19:41:39.539425",
     "status": "completed"
    },
    "tags": []
   },
   "source": [
    "# Exercises\n",
    "\n",
    "You are curious how much slower traffic moves when traffic volume is high. This involves a few steps.\n",
    "\n",
    "### 1) Find the data\n",
    "Before you can access the data, you need to find the table name with the data.\n",
    "\n",
    "*Hint*: Tab completion is helpful whenever you can't remember a command. Type `client.` and then hit the tab key. Don't forget the period before hitting tab."
   ]
  },
  {
   "cell_type": "code",
   "execution_count": 3,
   "id": "d189014d",
   "metadata": {
    "execution": {
     "iopub.execute_input": "2022-12-22T19:41:39.564188Z",
     "iopub.status.busy": "2022-12-22T19:41:39.563478Z",
     "iopub.status.idle": "2022-12-22T19:41:39.913897Z",
     "shell.execute_reply": "2022-12-22T19:41:39.912725Z"
    },
    "papermill": {
     "duration": 0.361398,
     "end_time": "2022-12-22T19:41:39.916268",
     "exception": false,
     "start_time": "2022-12-22T19:41:39.554870",
     "status": "completed"
    },
    "tags": []
   },
   "outputs": [
    {
     "name": "stdout",
     "output_type": "stream",
     "text": [
      "taxi_trips\n"
     ]
    }
   ],
   "source": [
    "# Your code here to find the table name\n",
    "tables = list(client.list_tables(dataset))\n",
    "for i in tables:\n",
    "    print(i.table_id)"
   ]
  },
  {
   "cell_type": "code",
   "execution_count": 4,
   "id": "f8b884b0",
   "metadata": {
    "execution": {
     "iopub.execute_input": "2022-12-22T19:41:39.932914Z",
     "iopub.status.busy": "2022-12-22T19:41:39.932069Z",
     "iopub.status.idle": "2022-12-22T19:41:39.942236Z",
     "shell.execute_reply": "2022-12-22T19:41:39.941312Z"
    },
    "papermill": {
     "duration": 0.020761,
     "end_time": "2022-12-22T19:41:39.944409",
     "exception": false,
     "start_time": "2022-12-22T19:41:39.923648",
     "status": "completed"
    },
    "tags": []
   },
   "outputs": [
    {
     "data": {
      "application/javascript": [
       "parent.postMessage({\"jupyterEvent\": \"custom.exercise_interaction\", \"data\": {\"outcomeType\": 1, \"valueTowardsCompletion\": 0.16666666666666666, \"interactionType\": 1, \"questionType\": 1, \"questionId\": \"1_GetTableName\", \"learnToolsVersion\": \"0.3.4\", \"failureMessage\": \"\", \"exceptionClass\": \"\", \"trace\": \"\"}}, \"*\")"
      ],
      "text/plain": [
       "<IPython.core.display.Javascript object>"
      ]
     },
     "metadata": {},
     "output_type": "display_data"
    },
    {
     "data": {
      "text/markdown": [
       "<span style=\"color:#33cc33\">Correct</span>"
      ],
      "text/plain": [
       "Correct"
      ]
     },
     "metadata": {},
     "output_type": "display_data"
    }
   ],
   "source": [
    "# Write the table name as a string below\n",
    "table_name = 'taxi_trips'\n",
    "\n",
    "# Check your answer\n",
    "q_1.check()"
   ]
  },
  {
   "cell_type": "markdown",
   "id": "637d717d",
   "metadata": {
    "papermill": {
     "duration": 0.00708,
     "end_time": "2022-12-22T19:41:39.959073",
     "exception": false,
     "start_time": "2022-12-22T19:41:39.951993",
     "status": "completed"
    },
    "tags": []
   },
   "source": [
    "For the solution, uncomment the line below."
   ]
  },
  {
   "cell_type": "code",
   "execution_count": 5,
   "id": "f733f984",
   "metadata": {
    "execution": {
     "iopub.execute_input": "2022-12-22T19:41:39.976153Z",
     "iopub.status.busy": "2022-12-22T19:41:39.975362Z",
     "iopub.status.idle": "2022-12-22T19:41:39.986101Z",
     "shell.execute_reply": "2022-12-22T19:41:39.984953Z"
    },
    "papermill": {
     "duration": 0.021969,
     "end_time": "2022-12-22T19:41:39.988655",
     "exception": false,
     "start_time": "2022-12-22T19:41:39.966686",
     "status": "completed"
    },
    "tags": []
   },
   "outputs": [
    {
     "data": {
      "application/javascript": [
       "parent.postMessage({\"jupyterEvent\": \"custom.exercise_interaction\", \"data\": {\"interactionType\": 3, \"questionType\": 1, \"questionId\": \"1_GetTableName\", \"learnToolsVersion\": \"0.3.4\", \"valueTowardsCompletion\": 0.0, \"failureMessage\": \"\", \"exceptionClass\": \"\", \"trace\": \"\", \"outcomeType\": 4}}, \"*\")"
      ],
      "text/plain": [
       "<IPython.core.display.Javascript object>"
      ]
     },
     "metadata": {},
     "output_type": "display_data"
    },
    {
     "data": {
      "text/markdown": [
       "<span style=\"color:#33cc99\">Solution:</span> \n",
       "```python\n",
       "\n",
       "# List all the tables in the dataset\n",
       "tables = list(client.list_tables(dataset))\n",
       "\n",
       "# Print names of all tables in the dataset (there is only one!)\n",
       "for table in tables:  \n",
       "    print(table.table_id)\n",
       "\n",
       "table_name = 'taxi_trips'\n",
       "    \n",
       "```"
      ],
      "text/plain": [
       "Solution: \n",
       "```python\n",
       "\n",
       "# List all the tables in the dataset\n",
       "tables = list(client.list_tables(dataset))\n",
       "\n",
       "# Print names of all tables in the dataset (there is only one!)\n",
       "for table in tables:  \n",
       "    print(table.table_id)\n",
       "\n",
       "table_name = 'taxi_trips'\n",
       "    \n",
       "```"
      ]
     },
     "metadata": {},
     "output_type": "display_data"
    }
   ],
   "source": [
    "q_1.solution()"
   ]
  },
  {
   "cell_type": "markdown",
   "id": "906aeccd",
   "metadata": {
    "papermill": {
     "duration": 0.007108,
     "end_time": "2022-12-22T19:41:40.003775",
     "exception": false,
     "start_time": "2022-12-22T19:41:39.996667",
     "status": "completed"
    },
    "tags": []
   },
   "source": [
    "### 2) Peek at the data\n",
    "\n",
    "Use the next code cell to peek at the top few rows of the data. Inspect the data and see if any issues with data quality are immediately obvious. "
   ]
  },
  {
   "cell_type": "code",
   "execution_count": 6,
   "id": "24d1a783",
   "metadata": {
    "execution": {
     "iopub.execute_input": "2022-12-22T19:41:40.021393Z",
     "iopub.status.busy": "2022-12-22T19:41:40.020624Z",
     "iopub.status.idle": "2022-12-22T19:41:41.861244Z",
     "shell.execute_reply": "2022-12-22T19:41:41.860318Z"
    },
    "papermill": {
     "duration": 1.85214,
     "end_time": "2022-12-22T19:41:41.863457",
     "exception": false,
     "start_time": "2022-12-22T19:41:40.011317",
     "status": "completed"
    },
    "tags": []
   },
   "outputs": [
    {
     "name": "stderr",
     "output_type": "stream",
     "text": [
      "/opt/conda/lib/python3.7/site-packages/ipykernel_launcher.py:7: UserWarning: Cannot use bqstorage_client if max_results is set, reverting to fetching data with the tabledata.list endpoint.\n",
      "  import sys\n"
     ]
    },
    {
     "data": {
      "text/html": [
       "<div>\n",
       "<style scoped>\n",
       "    .dataframe tbody tr th:only-of-type {\n",
       "        vertical-align: middle;\n",
       "    }\n",
       "\n",
       "    .dataframe tbody tr th {\n",
       "        vertical-align: top;\n",
       "    }\n",
       "\n",
       "    .dataframe thead th {\n",
       "        text-align: right;\n",
       "    }\n",
       "</style>\n",
       "<table border=\"1\" class=\"dataframe\">\n",
       "  <thead>\n",
       "    <tr style=\"text-align: right;\">\n",
       "      <th></th>\n",
       "      <th>unique_key</th>\n",
       "      <th>taxi_id</th>\n",
       "      <th>trip_start_timestamp</th>\n",
       "      <th>trip_end_timestamp</th>\n",
       "      <th>trip_seconds</th>\n",
       "      <th>trip_miles</th>\n",
       "      <th>pickup_census_tract</th>\n",
       "      <th>dropoff_census_tract</th>\n",
       "      <th>pickup_community_area</th>\n",
       "      <th>dropoff_community_area</th>\n",
       "      <th>...</th>\n",
       "      <th>extras</th>\n",
       "      <th>trip_total</th>\n",
       "      <th>payment_type</th>\n",
       "      <th>company</th>\n",
       "      <th>pickup_latitude</th>\n",
       "      <th>pickup_longitude</th>\n",
       "      <th>pickup_location</th>\n",
       "      <th>dropoff_latitude</th>\n",
       "      <th>dropoff_longitude</th>\n",
       "      <th>dropoff_location</th>\n",
       "    </tr>\n",
       "  </thead>\n",
       "  <tbody>\n",
       "    <tr>\n",
       "      <th>0</th>\n",
       "      <td>120907d76d6be693a817c90fb49275a4bc810d3c</td>\n",
       "      <td>43aa40841edf3eb3e6112114f39cbd9cae2f45cee24f66...</td>\n",
       "      <td>2013-01-26 01:15:00+00:00</td>\n",
       "      <td>2013-01-26 01:45:00+00:00</td>\n",
       "      <td>1440</td>\n",
       "      <td>11.7</td>\n",
       "      <td>NaN</td>\n",
       "      <td>NaN</td>\n",
       "      <td>NaN</td>\n",
       "      <td>NaN</td>\n",
       "      <td>...</td>\n",
       "      <td>3.0</td>\n",
       "      <td>30.45</td>\n",
       "      <td>Credit Card</td>\n",
       "      <td>None</td>\n",
       "      <td>NaN</td>\n",
       "      <td>NaN</td>\n",
       "      <td>None</td>\n",
       "      <td>NaN</td>\n",
       "      <td>NaN</td>\n",
       "      <td>None</td>\n",
       "    </tr>\n",
       "    <tr>\n",
       "      <th>1</th>\n",
       "      <td>83a55fcd28ba983a71b8c734f0942ac8fa4f39b0</td>\n",
       "      <td>43aa40841edf3eb3e6112114f39cbd9cae2f45cee24f66...</td>\n",
       "      <td>2013-01-26 00:45:00+00:00</td>\n",
       "      <td>2013-01-26 01:00:00+00:00</td>\n",
       "      <td>660</td>\n",
       "      <td>5.0</td>\n",
       "      <td>NaN</td>\n",
       "      <td>NaN</td>\n",
       "      <td>NaN</td>\n",
       "      <td>NaN</td>\n",
       "      <td>...</td>\n",
       "      <td>0.0</td>\n",
       "      <td>12.85</td>\n",
       "      <td>Cash</td>\n",
       "      <td>None</td>\n",
       "      <td>NaN</td>\n",
       "      <td>NaN</td>\n",
       "      <td>None</td>\n",
       "      <td>NaN</td>\n",
       "      <td>NaN</td>\n",
       "      <td>None</td>\n",
       "    </tr>\n",
       "    <tr>\n",
       "      <th>2</th>\n",
       "      <td>bf57a60f41e67dd3ad0d37aac50e085ed73f6bb7</td>\n",
       "      <td>43aa40841edf3eb3e6112114f39cbd9cae2f45cee24f66...</td>\n",
       "      <td>2013-01-25 21:15:00+00:00</td>\n",
       "      <td>2013-01-25 21:15:00+00:00</td>\n",
       "      <td>420</td>\n",
       "      <td>1.4</td>\n",
       "      <td>NaN</td>\n",
       "      <td>NaN</td>\n",
       "      <td>NaN</td>\n",
       "      <td>NaN</td>\n",
       "      <td>...</td>\n",
       "      <td>1.0</td>\n",
       "      <td>7.25</td>\n",
       "      <td>Cash</td>\n",
       "      <td>None</td>\n",
       "      <td>NaN</td>\n",
       "      <td>NaN</td>\n",
       "      <td>None</td>\n",
       "      <td>NaN</td>\n",
       "      <td>NaN</td>\n",
       "      <td>None</td>\n",
       "    </tr>\n",
       "    <tr>\n",
       "      <th>3</th>\n",
       "      <td>b2d7dac3c35f224ff80e0abb025103e99d480083</td>\n",
       "      <td>43aa40841edf3eb3e6112114f39cbd9cae2f45cee24f66...</td>\n",
       "      <td>2013-01-25 21:30:00+00:00</td>\n",
       "      <td>2013-01-25 21:45:00+00:00</td>\n",
       "      <td>720</td>\n",
       "      <td>3.1</td>\n",
       "      <td>NaN</td>\n",
       "      <td>NaN</td>\n",
       "      <td>NaN</td>\n",
       "      <td>NaN</td>\n",
       "      <td>...</td>\n",
       "      <td>0.0</td>\n",
       "      <td>10.25</td>\n",
       "      <td>Cash</td>\n",
       "      <td>None</td>\n",
       "      <td>NaN</td>\n",
       "      <td>NaN</td>\n",
       "      <td>None</td>\n",
       "      <td>NaN</td>\n",
       "      <td>NaN</td>\n",
       "      <td>None</td>\n",
       "    </tr>\n",
       "    <tr>\n",
       "      <th>4</th>\n",
       "      <td>89e44c0e9c1db59fa9707e84b6fd3ea4d248125b</td>\n",
       "      <td>43aa40841edf3eb3e6112114f39cbd9cae2f45cee24f66...</td>\n",
       "      <td>2013-01-25 22:30:00+00:00</td>\n",
       "      <td>2013-01-25 22:45:00+00:00</td>\n",
       "      <td>1140</td>\n",
       "      <td>7.5</td>\n",
       "      <td>NaN</td>\n",
       "      <td>NaN</td>\n",
       "      <td>NaN</td>\n",
       "      <td>NaN</td>\n",
       "      <td>...</td>\n",
       "      <td>1.0</td>\n",
       "      <td>19.45</td>\n",
       "      <td>Cash</td>\n",
       "      <td>None</td>\n",
       "      <td>NaN</td>\n",
       "      <td>NaN</td>\n",
       "      <td>None</td>\n",
       "      <td>NaN</td>\n",
       "      <td>NaN</td>\n",
       "      <td>None</td>\n",
       "    </tr>\n",
       "  </tbody>\n",
       "</table>\n",
       "<p>5 rows × 23 columns</p>\n",
       "</div>"
      ],
      "text/plain": [
       "                                 unique_key  \\\n",
       "0  120907d76d6be693a817c90fb49275a4bc810d3c   \n",
       "1  83a55fcd28ba983a71b8c734f0942ac8fa4f39b0   \n",
       "2  bf57a60f41e67dd3ad0d37aac50e085ed73f6bb7   \n",
       "3  b2d7dac3c35f224ff80e0abb025103e99d480083   \n",
       "4  89e44c0e9c1db59fa9707e84b6fd3ea4d248125b   \n",
       "\n",
       "                                             taxi_id  \\\n",
       "0  43aa40841edf3eb3e6112114f39cbd9cae2f45cee24f66...   \n",
       "1  43aa40841edf3eb3e6112114f39cbd9cae2f45cee24f66...   \n",
       "2  43aa40841edf3eb3e6112114f39cbd9cae2f45cee24f66...   \n",
       "3  43aa40841edf3eb3e6112114f39cbd9cae2f45cee24f66...   \n",
       "4  43aa40841edf3eb3e6112114f39cbd9cae2f45cee24f66...   \n",
       "\n",
       "       trip_start_timestamp        trip_end_timestamp  trip_seconds  \\\n",
       "0 2013-01-26 01:15:00+00:00 2013-01-26 01:45:00+00:00          1440   \n",
       "1 2013-01-26 00:45:00+00:00 2013-01-26 01:00:00+00:00           660   \n",
       "2 2013-01-25 21:15:00+00:00 2013-01-25 21:15:00+00:00           420   \n",
       "3 2013-01-25 21:30:00+00:00 2013-01-25 21:45:00+00:00           720   \n",
       "4 2013-01-25 22:30:00+00:00 2013-01-25 22:45:00+00:00          1140   \n",
       "\n",
       "   trip_miles  pickup_census_tract  dropoff_census_tract  \\\n",
       "0        11.7                  NaN                   NaN   \n",
       "1         5.0                  NaN                   NaN   \n",
       "2         1.4                  NaN                   NaN   \n",
       "3         3.1                  NaN                   NaN   \n",
       "4         7.5                  NaN                   NaN   \n",
       "\n",
       "   pickup_community_area  dropoff_community_area  ...  extras  trip_total  \\\n",
       "0                    NaN                     NaN  ...     3.0       30.45   \n",
       "1                    NaN                     NaN  ...     0.0       12.85   \n",
       "2                    NaN                     NaN  ...     1.0        7.25   \n",
       "3                    NaN                     NaN  ...     0.0       10.25   \n",
       "4                    NaN                     NaN  ...     1.0       19.45   \n",
       "\n",
       "   payment_type  company  pickup_latitude pickup_longitude pickup_location  \\\n",
       "0   Credit Card     None              NaN              NaN            None   \n",
       "1          Cash     None              NaN              NaN            None   \n",
       "2          Cash     None              NaN              NaN            None   \n",
       "3          Cash     None              NaN              NaN            None   \n",
       "4          Cash     None              NaN              NaN            None   \n",
       "\n",
       "   dropoff_latitude  dropoff_longitude dropoff_location  \n",
       "0               NaN                NaN             None  \n",
       "1               NaN                NaN             None  \n",
       "2               NaN                NaN             None  \n",
       "3               NaN                NaN             None  \n",
       "4               NaN                NaN             None  \n",
       "\n",
       "[5 rows x 23 columns]"
      ]
     },
     "execution_count": 6,
     "metadata": {},
     "output_type": "execute_result"
    }
   ],
   "source": [
    "# Your code here\n",
    "table_ref = dataset_ref.table(table_name)\n",
    "\n",
    "# API request - fetch the table\n",
    "table = client.get_table(table_ref)\n",
    "\n",
    "client.list_rows(table, max_results=5).to_dataframe()"
   ]
  },
  {
   "cell_type": "code",
   "execution_count": 7,
   "id": "cc3639e6",
   "metadata": {
    "execution": {
     "iopub.execute_input": "2022-12-22T19:41:41.882092Z",
     "iopub.status.busy": "2022-12-22T19:41:41.881463Z",
     "iopub.status.idle": "2022-12-22T19:41:42.367353Z",
     "shell.execute_reply": "2022-12-22T19:41:42.366185Z"
    },
    "papermill": {
     "duration": 0.498981,
     "end_time": "2022-12-22T19:41:42.370830",
     "exception": false,
     "start_time": "2022-12-22T19:41:41.871849",
     "status": "completed"
    },
    "tags": []
   },
   "outputs": [
    {
     "name": "stderr",
     "output_type": "stream",
     "text": [
      "/opt/conda/lib/python3.7/site-packages/ipykernel_launcher.py:1: UserWarning: Cannot use bqstorage_client if max_results is set, reverting to fetching data with the tabledata.list endpoint.\n",
      "  \"\"\"Entry point for launching an IPython kernel.\n"
     ]
    },
    {
     "name": "stdout",
     "output_type": "stream",
     "text": [
      "['unique_key', 'taxi_id', 'trip_start_timestamp', 'trip_end_timestamp', 'trip_seconds', 'trip_miles', 'pickup_census_tract', 'dropoff_census_tract', 'pickup_community_area', 'dropoff_community_area', 'fare', 'tips', 'tolls', 'extras', 'trip_total', 'payment_type', 'company', 'pickup_latitude', 'pickup_longitude', 'pickup_location', 'dropoff_latitude', 'dropoff_longitude', 'dropoff_location']\n"
     ]
    }
   ],
   "source": [
    "print(list(client.list_rows(table, max_results=5).to_dataframe()))"
   ]
  },
  {
   "cell_type": "markdown",
   "id": "0ceb40bd",
   "metadata": {
    "papermill": {
     "duration": 0.008524,
     "end_time": "2022-12-22T19:41:42.388409",
     "exception": false,
     "start_time": "2022-12-22T19:41:42.379885",
     "status": "completed"
    },
    "tags": []
   },
   "source": [
    "After deciding whether you see any important issues, run the code cell below."
   ]
  },
  {
   "cell_type": "code",
   "execution_count": 8,
   "id": "1c1488a7",
   "metadata": {
    "execution": {
     "iopub.execute_input": "2022-12-22T19:41:42.408631Z",
     "iopub.status.busy": "2022-12-22T19:41:42.407537Z",
     "iopub.status.idle": "2022-12-22T19:41:42.417596Z",
     "shell.execute_reply": "2022-12-22T19:41:42.416214Z"
    },
    "papermill": {
     "duration": 0.0228,
     "end_time": "2022-12-22T19:41:42.420108",
     "exception": false,
     "start_time": "2022-12-22T19:41:42.397308",
     "status": "completed"
    },
    "tags": []
   },
   "outputs": [
    {
     "data": {
      "application/javascript": [
       "parent.postMessage({\"jupyterEvent\": \"custom.exercise_interaction\", \"data\": {\"interactionType\": 3, \"questionType\": 4, \"questionId\": \"2_WhatsWrongWithData\", \"learnToolsVersion\": \"0.3.4\", \"valueTowardsCompletion\": 0.0, \"failureMessage\": \"\", \"exceptionClass\": \"\", \"trace\": \"\", \"outcomeType\": 4}}, \"*\")"
      ],
      "text/plain": [
       "<IPython.core.display.Javascript object>"
      ]
     },
     "metadata": {},
     "output_type": "display_data"
    },
    {
     "data": {
      "text/markdown": [
       "<span style=\"color:#33cc99\">Solution:</span> \n",
       "You can see the data by calling: \n",
       "```python\n",
       "# Construct a reference to the \"taxi_trips\" table\n",
       "table_ref = dataset_ref.table(\"taxi_trips\")\n",
       "\n",
       "# API request - fetch the table\n",
       "table = client.get_table(table_ref)\n",
       "\n",
       "# Preview the first five lines of the \"taxi_trips\" table\n",
       "client.list_rows(table, max_results=5).to_dataframe()\n",
       "```\n",
       "\n",
       "Some trips in the top few rows have `trip_seconds` or `trip_miles` values of 0. \n",
       "Other location fields have values of `None`. That is a problem if we want to use those fields.\n"
      ],
      "text/plain": [
       "Solution: \n",
       "You can see the data by calling: \n",
       "```python\n",
       "# Construct a reference to the \"taxi_trips\" table\n",
       "table_ref = dataset_ref.table(\"taxi_trips\")\n",
       "\n",
       "# API request - fetch the table\n",
       "table = client.get_table(table_ref)\n",
       "\n",
       "# Preview the first five lines of the \"taxi_trips\" table\n",
       "client.list_rows(table, max_results=5).to_dataframe()\n",
       "```\n",
       "\n",
       "Some trips in the top few rows have `trip_seconds` or `trip_miles` values of 0. \n",
       "Other location fields have values of `None`. That is a problem if we want to use those fields."
      ]
     },
     "metadata": {},
     "output_type": "display_data"
    }
   ],
   "source": [
    "# Check your answer (Run this code cell to receive credit!)\n",
    "q_2.solution()"
   ]
  },
  {
   "cell_type": "markdown",
   "id": "98afc8d6",
   "metadata": {
    "papermill": {
     "duration": 0.008714,
     "end_time": "2022-12-22T19:41:42.437897",
     "exception": false,
     "start_time": "2022-12-22T19:41:42.429183",
     "status": "completed"
    },
    "tags": []
   },
   "source": [
    "### 3) Determine when this data is from\n",
    "\n",
    "If the data is sufficiently old, we might be careful before assuming the data is still relevant to traffic patterns today. Write a query that counts the number of trips in each year.  \n",
    "\n",
    "Your results should have two columns:\n",
    "- `year` - the year of the trips\n",
    "- `num_trips` - the number of trips in that year\n",
    "\n",
    "Hints:\n",
    "- When using **GROUP BY** and **ORDER BY**, you should refer to the columns by the alias `year` that you set at the top of the **SELECT** query.\n",
    "- The SQL code to **SELECT** the year from `trip_start_timestamp` is <code>SELECT EXTRACT(YEAR FROM trip_start_timestamp)</code>\n",
    "- The **FROM** field can be a little tricky until you are used to it.  The format is:\n",
    "    1. A backick (the symbol \\`).\n",
    "    2. The project name. In this case it is `bigquery-public-data`.\n",
    "    3. A period.\n",
    "    4. The dataset name. In this case, it is `chicago_taxi_trips`.\n",
    "    5. A period.\n",
    "    6. The table name. You used this as your answer in **1) Find the data**.\n",
    "    7. A backtick (the symbol \\`)."
   ]
  },
  {
   "cell_type": "code",
   "execution_count": 9,
   "id": "335d29a0",
   "metadata": {
    "execution": {
     "iopub.execute_input": "2022-12-22T19:41:42.458617Z",
     "iopub.status.busy": "2022-12-22T19:41:42.457734Z",
     "iopub.status.idle": "2022-12-22T19:41:43.837605Z",
     "shell.execute_reply": "2022-12-22T19:41:43.836117Z"
    },
    "papermill": {
     "duration": 1.39329,
     "end_time": "2022-12-22T19:41:43.840325",
     "exception": false,
     "start_time": "2022-12-22T19:41:42.447035",
     "status": "completed"
    },
    "tags": []
   },
   "outputs": [
    {
     "name": "stderr",
     "output_type": "stream",
     "text": [
      "/opt/conda/lib/python3.7/site-packages/google/cloud/bigquery/client.py:440: UserWarning: Cannot create BigQuery Storage client, the dependency google-cloud-bigquery-storage is not installed.\n",
      "  \"Cannot create BigQuery Storage client, the dependency \"\n"
     ]
    },
    {
     "name": "stdout",
     "output_type": "stream",
     "text": [
      "   year  num_trips\n",
      "0  2013   27217300\n",
      "1  2016   31756403\n",
      "2  2014   37395079\n",
      "3  2015   32385527\n",
      "4  2019   16476440\n",
      "5  2020    3888831\n",
      "6  2018   20731105\n",
      "7  2017   24979611\n",
      "8  2022    5868516\n",
      "9  2021    3947677\n"
     ]
    },
    {
     "data": {
      "application/javascript": [
       "parent.postMessage({\"jupyterEvent\": \"custom.exercise_interaction\", \"data\": {\"outcomeType\": 1, \"valueTowardsCompletion\": 0.16666666666666666, \"interactionType\": 1, \"questionType\": 2, \"questionId\": \"3_YearDistrib\", \"learnToolsVersion\": \"0.3.4\", \"failureMessage\": \"\", \"exceptionClass\": \"\", \"trace\": \"\"}}, \"*\")"
      ],
      "text/plain": [
       "<IPython.core.display.Javascript object>"
      ]
     },
     "metadata": {},
     "output_type": "display_data"
    },
    {
     "data": {
      "text/markdown": [
       "<span style=\"color:#33cc33\">Correct</span>"
      ],
      "text/plain": [
       "Correct"
      ]
     },
     "metadata": {},
     "output_type": "display_data"
    }
   ],
   "source": [
    "# Your code goes here\n",
    "rides_per_year_query = \"\"\"SELECT EXTRACT(YEAR FROM trip_start_timestamp) AS year, COUNT(1) AS num_trips\n",
    "                            FROM `bigquery-public-data.chicago_taxi_trips.taxi_trips` \n",
    "                            GROUP BY year\"\"\"\n",
    "\n",
    "# Set up the query (cancel the query if it would use too much of \n",
    "# your quota)\n",
    "safe_config = bigquery.QueryJobConfig(maximum_bytes_billed=10**10)\n",
    "\n",
    "rides_per_year_query_job = client.query(rides_per_year_query, job_config=safe_config) # Your code goes here\n",
    "\n",
    "# API request - run the query, and return a pandas DataFrame\n",
    "rides_per_year_result = rides_per_year_query_job.to_dataframe() # Your code goes here\n",
    "\n",
    "# View results\n",
    "print(rides_per_year_result)\n",
    "\n",
    "# Check your answer\n",
    "q_3.check()"
   ]
  },
  {
   "cell_type": "markdown",
   "id": "83119182",
   "metadata": {
    "papermill": {
     "duration": 0.009036,
     "end_time": "2022-12-22T19:41:43.858780",
     "exception": false,
     "start_time": "2022-12-22T19:41:43.849744",
     "status": "completed"
    },
    "tags": []
   },
   "source": [
    "For a hint or the solution, uncomment the appropriate line below."
   ]
  },
  {
   "cell_type": "code",
   "execution_count": 10,
   "id": "6c4f80b7",
   "metadata": {
    "execution": {
     "iopub.execute_input": "2022-12-22T19:41:43.879037Z",
     "iopub.status.busy": "2022-12-22T19:41:43.878577Z",
     "iopub.status.idle": "2022-12-22T19:41:43.888415Z",
     "shell.execute_reply": "2022-12-22T19:41:43.887019Z"
    },
    "papermill": {
     "duration": 0.023196,
     "end_time": "2022-12-22T19:41:43.891221",
     "exception": false,
     "start_time": "2022-12-22T19:41:43.868025",
     "status": "completed"
    },
    "tags": []
   },
   "outputs": [
    {
     "data": {
      "application/javascript": [
       "parent.postMessage({\"jupyterEvent\": \"custom.exercise_interaction\", \"data\": {\"interactionType\": 2, \"questionType\": 2, \"questionId\": \"3_YearDistrib\", \"learnToolsVersion\": \"0.3.4\", \"valueTowardsCompletion\": 0.0, \"failureMessage\": \"\", \"exceptionClass\": \"\", \"trace\": \"\", \"outcomeType\": 4}}, \"*\")"
      ],
      "text/plain": [
       "<IPython.core.display.Javascript object>"
      ]
     },
     "metadata": {},
     "output_type": "display_data"
    },
    {
     "data": {
      "text/markdown": [
       "<span style=\"color:#3366cc\">Hint:</span> Start your query with `SELECT EXTRACT(YEAR FROM trip_start_timestamp) AS year, COUNT(1) AS num_trips`."
      ],
      "text/plain": [
       "Hint: Start your query with `SELECT EXTRACT(YEAR FROM trip_start_timestamp) AS year, COUNT(1) AS num_trips`."
      ]
     },
     "metadata": {},
     "output_type": "display_data"
    }
   ],
   "source": [
    "q_3.hint()\n",
    "#q_3.solution()"
   ]
  },
  {
   "cell_type": "markdown",
   "id": "d90bb3b1",
   "metadata": {
    "papermill": {
     "duration": 0.009342,
     "end_time": "2022-12-22T19:41:43.910442",
     "exception": false,
     "start_time": "2022-12-22T19:41:43.901100",
     "status": "completed"
    },
    "tags": []
   },
   "source": [
    "### 4) Dive slightly deeper\n",
    "\n",
    "You'd like to take a closer look at rides from 2017.  Copy the query you used above in `rides_per_year_query` into the cell below for `rides_per_month_query`.  Then modify it in two ways:\n",
    "1. Use a **WHERE** clause to limit the query to data from 2017.\n",
    "2. Modify the query to extract the month rather than the year."
   ]
  },
  {
   "cell_type": "code",
   "execution_count": 11,
   "id": "c720273d",
   "metadata": {
    "execution": {
     "iopub.execute_input": "2022-12-22T19:41:43.931395Z",
     "iopub.status.busy": "2022-12-22T19:41:43.930990Z",
     "iopub.status.idle": "2022-12-22T19:41:45.493236Z",
     "shell.execute_reply": "2022-12-22T19:41:45.491127Z"
    },
    "papermill": {
     "duration": 1.576023,
     "end_time": "2022-12-22T19:41:45.495890",
     "exception": false,
     "start_time": "2022-12-22T19:41:43.919867",
     "status": "completed"
    },
    "tags": []
   },
   "outputs": [
    {
     "name": "stderr",
     "output_type": "stream",
     "text": [
      "/opt/conda/lib/python3.7/site-packages/google/cloud/bigquery/client.py:440: UserWarning: Cannot create BigQuery Storage client, the dependency google-cloud-bigquery-storage is not installed.\n",
      "  \"Cannot create BigQuery Storage client, the dependency \"\n"
     ]
    },
    {
     "name": "stdout",
     "output_type": "stream",
     "text": [
      "    Month  num_trips\n",
      "0       8    2078623\n",
      "1       2    1909479\n",
      "2       7    2053471\n",
      "3       1    1971708\n",
      "4       4    2194344\n",
      "5      10    2140326\n",
      "6       6    2323672\n",
      "7       9    1949427\n",
      "8      12    1767412\n",
      "9      11    1906884\n",
      "10      5    2322631\n",
      "11      3    2361634\n"
     ]
    },
    {
     "data": {
      "application/javascript": [
       "parent.postMessage({\"jupyterEvent\": \"custom.exercise_interaction\", \"data\": {\"outcomeType\": 1, \"valueTowardsCompletion\": 0.16666666666666666, \"interactionType\": 1, \"questionType\": 2, \"questionId\": \"4_MonthDistrib\", \"learnToolsVersion\": \"0.3.4\", \"failureMessage\": \"\", \"exceptionClass\": \"\", \"trace\": \"\"}}, \"*\")"
      ],
      "text/plain": [
       "<IPython.core.display.Javascript object>"
      ]
     },
     "metadata": {},
     "output_type": "display_data"
    },
    {
     "data": {
      "text/markdown": [
       "<span style=\"color:#33cc33\">Correct</span>"
      ],
      "text/plain": [
       "Correct"
      ]
     },
     "metadata": {},
     "output_type": "display_data"
    }
   ],
   "source": [
    "# Your code goes here\n",
    "rides_per_month_query = \"\"\"SELECT EXTRACT(MONTH FROM trip_start_timestamp) AS Month, COUNT(1) AS num_trips\n",
    "                            FROM `bigquery-public-data.chicago_taxi_trips.taxi_trips` \n",
    "                            WHERE EXTRACT(YEAR FROM trip_start_timestamp)=2017\n",
    "                            GROUP BY Month\n",
    "                            \"\"\"\n",
    "\n",
    "# Set up the query\n",
    "safe_config = bigquery.QueryJobConfig(maximum_bytes_billed=10**10)\n",
    "rides_per_month_query_job = client.query(rides_per_month_query, job_config=safe_config) # Your code goes here\n",
    "\n",
    "# API request - run the query, and return a pandas DataFrame\n",
    "rides_per_month_result = rides_per_month_query_job.to_dataframe() # Your code goes here\n",
    "\n",
    "# View results\n",
    "print(rides_per_month_result)\n",
    "\n",
    "# Check your answer\n",
    "q_4.check()"
   ]
  },
  {
   "cell_type": "markdown",
   "id": "5a090a5b",
   "metadata": {
    "papermill": {
     "duration": 0.00973,
     "end_time": "2022-12-22T19:41:45.516055",
     "exception": false,
     "start_time": "2022-12-22T19:41:45.506325",
     "status": "completed"
    },
    "tags": []
   },
   "source": [
    "For a hint or the solution, uncomment the appropriate line below."
   ]
  },
  {
   "cell_type": "code",
   "execution_count": 12,
   "id": "9795a68d",
   "metadata": {
    "execution": {
     "iopub.execute_input": "2022-12-22T19:41:45.537920Z",
     "iopub.status.busy": "2022-12-22T19:41:45.537481Z",
     "iopub.status.idle": "2022-12-22T19:41:45.547030Z",
     "shell.execute_reply": "2022-12-22T19:41:45.545806Z"
    },
    "papermill": {
     "duration": 0.023637,
     "end_time": "2022-12-22T19:41:45.549644",
     "exception": false,
     "start_time": "2022-12-22T19:41:45.526007",
     "status": "completed"
    },
    "tags": []
   },
   "outputs": [
    {
     "data": {
      "application/javascript": [
       "parent.postMessage({\"jupyterEvent\": \"custom.exercise_interaction\", \"data\": {\"interactionType\": 2, \"questionType\": 2, \"questionId\": \"4_MonthDistrib\", \"learnToolsVersion\": \"0.3.4\", \"valueTowardsCompletion\": 0.0, \"failureMessage\": \"\", \"exceptionClass\": \"\", \"trace\": \"\", \"outcomeType\": 4}}, \"*\")"
      ],
      "text/plain": [
       "<IPython.core.display.Javascript object>"
      ]
     },
     "metadata": {},
     "output_type": "display_data"
    },
    {
     "data": {
      "text/markdown": [
       "<span style=\"color:#3366cc\">Hint:</span> Start your query with `SELECT EXTRACT(MONTH FROM trip_start_timestamp) AS month, COUNT(1) AS num_trips`."
      ],
      "text/plain": [
       "Hint: Start your query with `SELECT EXTRACT(MONTH FROM trip_start_timestamp) AS month, COUNT(1) AS num_trips`."
      ]
     },
     "metadata": {},
     "output_type": "display_data"
    }
   ],
   "source": [
    "q_4.hint()\n",
    "#q_4.solution()"
   ]
  },
  {
   "cell_type": "markdown",
   "id": "a828f48e",
   "metadata": {
    "papermill": {
     "duration": 0.009585,
     "end_time": "2022-12-22T19:41:45.569395",
     "exception": false,
     "start_time": "2022-12-22T19:41:45.559810",
     "status": "completed"
    },
    "tags": []
   },
   "source": [
    "### 5) Write the query\n",
    "\n",
    "It's time to step up the sophistication of your queries.  Write a query that shows, for each hour of the day in the dataset, the corresponding number of trips and average speed.\n",
    "\n",
    "Your results should have three columns:\n",
    "- `hour_of_day` - sort by this column, which holds the result of extracting the hour from `trip_start_timestamp`.\n",
    "- `num_trips` - the count of the total number of trips in each hour of the day (e.g. how many trips were started between 6AM and 7AM, independent of which day it occurred on).\n",
    "- `avg_mph` - the average speed, measured in miles per hour, for trips that started in that hour of the day.  Average speed in miles per hour is calculated as `3600 * SUM(trip_miles) / SUM(trip_seconds)`. (The value 3600 is used to convert from seconds to hours.)\n",
    "\n",
    "Restrict your query to data meeting the following criteria:\n",
    "- a `trip_start_timestamp` between **2017-01-01** and **2017-07-01**\n",
    "- `trip_seconds` > 0 and `trip_miles` > 0\n",
    "\n",
    "You will use a common table expression (CTE) to select just the relevant rides.  Because this dataset is very big, this CTE should select only the columns you'll need to create the final output (though you won't actually create those in the CTE -- instead you'll create those in the later **SELECT** statement below the CTE).\n",
    "\n",
    "This is a much harder query than anything you've written so far.  Good luck!"
   ]
  },
  {
   "cell_type": "code",
   "execution_count": 13,
   "id": "c3eb99a4",
   "metadata": {
    "execution": {
     "iopub.execute_input": "2022-12-22T19:41:45.591576Z",
     "iopub.status.busy": "2022-12-22T19:41:45.591133Z",
     "iopub.status.idle": "2022-12-22T19:41:47.654975Z",
     "shell.execute_reply": "2022-12-22T19:41:47.653312Z"
    },
    "papermill": {
     "duration": 2.077825,
     "end_time": "2022-12-22T19:41:47.657625",
     "exception": false,
     "start_time": "2022-12-22T19:41:45.579800",
     "status": "completed"
    },
    "tags": []
   },
   "outputs": [
    {
     "name": "stderr",
     "output_type": "stream",
     "text": [
      "/opt/conda/lib/python3.7/site-packages/google/cloud/bigquery/client.py:440: UserWarning: Cannot create BigQuery Storage client, the dependency google-cloud-bigquery-storage is not installed.\n",
      "  \"Cannot create BigQuery Storage client, the dependency \"\n"
     ]
    },
    {
     "name": "stdout",
     "output_type": "stream",
     "text": [
      "   hour_of_day  trip_miles  trip_seconds\n",
      "0           16         0.8           474\n",
      "1           12         0.0             1\n",
      "2           21         0.0             2\n",
      "3            3        10.4           896\n",
      "4           18         1.8          1390\n",
      "5           20        10.4          1243\n",
      "6            1         0.0             1\n",
      "7           11        17.3          2076\n",
      "8           14         3.4          1346\n",
      "9            7        24.1          1911\n"
     ]
    }
   ],
   "source": [
    "test_query = '''\n",
    "                 SELECT EXTRACT(HOUR from trip_start_timestamp) AS hour_of_day,trip_miles,trip_seconds\n",
    "                   FROM `bigquery-public-data.chicago_taxi_trips.taxi_trips` \n",
    "                   WHERE DATE(trip_start_timestamp) >= '2017-01-01' and DATE(trip_start_timestamp) <= '2017-07-01' limit 10\n",
    "                   '''\n",
    "# Set up the query\n",
    "safe_config = bigquery.QueryJobConfig(maximum_bytes_billed=10**10)\n",
    "test_query_job = client.query(test_query, job_config=safe_config) # Your code goes here\n",
    "\n",
    "\n",
    "\n",
    "# API request - run the query, and return a pandas DataFrame\n",
    "test_result = test_query_job.to_dataframe() # Your code here\n",
    "\n",
    "# View results\n",
    "print(test_result)"
   ]
  },
  {
   "cell_type": "code",
   "execution_count": 14,
   "id": "eaf1ee3d",
   "metadata": {
    "execution": {
     "iopub.execute_input": "2022-12-22T19:41:47.679468Z",
     "iopub.status.busy": "2022-12-22T19:41:47.679059Z",
     "iopub.status.idle": "2022-12-22T19:41:49.086430Z",
     "shell.execute_reply": "2022-12-22T19:41:49.084632Z"
    },
    "papermill": {
     "duration": 1.421148,
     "end_time": "2022-12-22T19:41:49.089005",
     "exception": false,
     "start_time": "2022-12-22T19:41:47.667857",
     "status": "completed"
    },
    "tags": []
   },
   "outputs": [
    {
     "name": "stderr",
     "output_type": "stream",
     "text": [
      "/opt/conda/lib/python3.7/site-packages/google/cloud/bigquery/client.py:440: UserWarning: Cannot create BigQuery Storage client, the dependency google-cloud-bigquery-storage is not installed.\n",
      "  \"Cannot create BigQuery Storage client, the dependency \"\n"
     ]
    },
    {
     "name": "stdout",
     "output_type": "stream",
     "text": [
      "    hour_of_day  num_trips    avg_mph\n",
      "0             0     319326  20.231735\n",
      "1             1     266525  18.937962\n",
      "2             2     210147  18.777070\n",
      "3             3     159666  20.158374\n",
      "4             4     122183  26.736014\n",
      "5             5     119311  30.769411\n",
      "6             6     182736  24.588560\n",
      "7             7     358403  17.736209\n",
      "8             8     541745  15.081015\n",
      "9             9     565455  16.547683\n",
      "10           10     525030  18.543678\n",
      "11           11     594522  18.931559\n",
      "12           12     622249  17.841610\n",
      "13           13     630109  17.673604\n",
      "14           14     622402  16.976330\n",
      "15           15     640348  15.691071\n",
      "16           16     701345  14.286536\n",
      "17           17     756535  12.464977\n",
      "18           18     768159  13.648912\n",
      "19           19     700962  16.646259\n",
      "20           20     598536  19.540297\n",
      "21           21     552658  20.436899\n",
      "22           22     501059  19.533171\n",
      "23           23     399573  19.878003\n"
     ]
    },
    {
     "data": {
      "application/javascript": [
       "parent.postMessage({\"jupyterEvent\": \"custom.exercise_interaction\", \"data\": {\"outcomeType\": 1, \"valueTowardsCompletion\": 0.16666666666666666, \"interactionType\": 1, \"questionType\": 2, \"questionId\": \"5_TheLongQuery\", \"learnToolsVersion\": \"0.3.4\", \"failureMessage\": \"\", \"exceptionClass\": \"\", \"trace\": \"\"}}, \"*\")"
      ],
      "text/plain": [
       "<IPython.core.display.Javascript object>"
      ]
     },
     "metadata": {},
     "output_type": "display_data"
    },
    {
     "data": {
      "text/markdown": [
       "<span style=\"color:#33cc33\">Correct</span>"
      ],
      "text/plain": [
       "Correct"
      ]
     },
     "metadata": {},
     "output_type": "display_data"
    }
   ],
   "source": [
    "# Your code goes here\n",
    "speeds_query = \"\"\"\n",
    "               WITH RelevantRides AS\n",
    "               (\n",
    "                SELECT EXTRACT(HOUR from trip_start_timestamp) AS hour_of_day,trip_miles,trip_seconds\n",
    "                   FROM `bigquery-public-data.chicago_taxi_trips.taxi_trips` \n",
    "                   WHERE trip_start_timestamp > '2017-01-01' AND trip_start_timestamp < '2017-07-01' AND trip_seconds > 0 AND trip_miles > 0\n",
    "               )\n",
    "               SELECT hour_of_day,\n",
    "               COUNT(1) AS num_trips, \n",
    "               3600 * SUM(trip_miles) / SUM(trip_seconds) AS avg_mph\n",
    "               \n",
    "               FROM RelevantRides\n",
    "               GROUP BY hour_of_day\n",
    "               ORDER BY hour_of_day\n",
    "               \"\"\"\n",
    "\n",
    "\n",
    "# Set up the query\n",
    "safe_config = bigquery.QueryJobConfig(maximum_bytes_billed=10**10)\n",
    "speeds_query_job = client.query(speeds_query, job_config=safe_config) # Your code here\n",
    "\n",
    "# API request - run the query, and return a pandas DataFrame\n",
    "speeds_result = speeds_query_job.to_dataframe() # Your code here\n",
    "\n",
    "# View results\n",
    "print(speeds_result)\n",
    "\n",
    "# Check your answer\n",
    "q_5.check()"
   ]
  },
  {
   "cell_type": "markdown",
   "id": "ee7a2fa7",
   "metadata": {
    "papermill": {
     "duration": 0.010331,
     "end_time": "2022-12-22T19:41:49.109800",
     "exception": false,
     "start_time": "2022-12-22T19:41:49.099469",
     "status": "completed"
    },
    "tags": []
   },
   "source": [
    "For the solution, uncomment the appropriate line below."
   ]
  },
  {
   "cell_type": "code",
   "execution_count": 15,
   "id": "0548c104",
   "metadata": {
    "execution": {
     "iopub.execute_input": "2022-12-22T19:41:49.132673Z",
     "iopub.status.busy": "2022-12-22T19:41:49.132264Z",
     "iopub.status.idle": "2022-12-22T19:41:49.141970Z",
     "shell.execute_reply": "2022-12-22T19:41:49.140503Z"
    },
    "papermill": {
     "duration": 0.023559,
     "end_time": "2022-12-22T19:41:49.144294",
     "exception": false,
     "start_time": "2022-12-22T19:41:49.120735",
     "status": "completed"
    },
    "tags": []
   },
   "outputs": [
    {
     "data": {
      "application/javascript": [
       "parent.postMessage({\"jupyterEvent\": \"custom.exercise_interaction\", \"data\": {\"failureMessage\": \"Sorry, no hints available for this question.\", \"interactionType\": 2, \"questionType\": 2, \"questionId\": \"5_TheLongQuery\", \"learnToolsVersion\": \"0.3.4\", \"valueTowardsCompletion\": 0.0, \"exceptionClass\": \"\", \"trace\": \"\", \"outcomeType\": 4}}, \"*\")"
      ],
      "text/plain": [
       "<IPython.core.display.Javascript object>"
      ]
     },
     "metadata": {},
     "output_type": "display_data"
    },
    {
     "data": {
      "text/markdown": [
       "<span style=\"color:#cc5533\">Sorry, no hints available for this question.</span>"
      ],
      "text/plain": [
       "Sorry, no hints available for this question."
      ]
     },
     "metadata": {},
     "output_type": "display_data"
    }
   ],
   "source": [
    "q_5.hint()"
   ]
  },
  {
   "cell_type": "code",
   "execution_count": 16,
   "id": "3be558cc",
   "metadata": {
    "execution": {
     "iopub.execute_input": "2022-12-22T19:41:49.166810Z",
     "iopub.status.busy": "2022-12-22T19:41:49.166391Z",
     "iopub.status.idle": "2022-12-22T19:41:49.178012Z",
     "shell.execute_reply": "2022-12-22T19:41:49.176765Z"
    },
    "papermill": {
     "duration": 0.025695,
     "end_time": "2022-12-22T19:41:49.180492",
     "exception": false,
     "start_time": "2022-12-22T19:41:49.154797",
     "status": "completed"
    },
    "tags": []
   },
   "outputs": [
    {
     "data": {
      "application/javascript": [
       "parent.postMessage({\"jupyterEvent\": \"custom.exercise_interaction\", \"data\": {\"interactionType\": 3, \"questionType\": 2, \"questionId\": \"5_TheLongQuery\", \"learnToolsVersion\": \"0.3.4\", \"valueTowardsCompletion\": 0.0, \"failureMessage\": \"\", \"exceptionClass\": \"\", \"trace\": \"\", \"outcomeType\": 4}}, \"*\")"
      ],
      "text/plain": [
       "<IPython.core.display.Javascript object>"
      ]
     },
     "metadata": {},
     "output_type": "display_data"
    },
    {
     "data": {
      "text/markdown": [
       "<span style=\"color:#33cc99\">Solution:</span> \n",
       "```python\n",
       "\n",
       "speeds_query = \"\"\"\n",
       "               WITH RelevantRides AS\n",
       "               (\n",
       "                   SELECT EXTRACT(HOUR FROM trip_start_timestamp) AS hour_of_day, \n",
       "                          trip_miles, \n",
       "                          trip_seconds\n",
       "                   FROM `bigquery-public-data.chicago_taxi_trips.taxi_trips`\n",
       "                   WHERE trip_start_timestamp > '2017-01-01' AND \n",
       "                         trip_start_timestamp < '2017-07-01' AND \n",
       "                         trip_seconds > 0 AND \n",
       "                         trip_miles > 0\n",
       "               )\n",
       "               SELECT hour_of_day, \n",
       "                      COUNT(1) AS num_trips, \n",
       "                      3600 * SUM(trip_miles) / SUM(trip_seconds) AS avg_mph\n",
       "               FROM RelevantRides\n",
       "               GROUP BY hour_of_day\n",
       "               ORDER BY hour_of_day\n",
       "               \"\"\"\n",
       "\n",
       "# Set up the query (cancel the query if it would use too much of \n",
       "# your quota)\n",
       "safe_config = bigquery.QueryJobConfig(maximum_bytes_billed=10**10)\n",
       "speeds_query_job = client.query(speeds_query, job_config=safe_config)\n",
       "\n",
       "# API request - run the query, and return a pandas DataFrame\n",
       "speeds_result = speeds_query_job.to_dataframe()\n",
       "\n",
       "# View results\n",
       "print(speeds_result)\n",
       "\n",
       "```"
      ],
      "text/plain": [
       "Solution: \n",
       "```python\n",
       "\n",
       "speeds_query = \"\"\"\n",
       "               WITH RelevantRides AS\n",
       "               (\n",
       "                   SELECT EXTRACT(HOUR FROM trip_start_timestamp) AS hour_of_day, \n",
       "                          trip_miles, \n",
       "                          trip_seconds\n",
       "                   FROM `bigquery-public-data.chicago_taxi_trips.taxi_trips`\n",
       "                   WHERE trip_start_timestamp > '2017-01-01' AND \n",
       "                         trip_start_timestamp < '2017-07-01' AND \n",
       "                         trip_seconds > 0 AND \n",
       "                         trip_miles > 0\n",
       "               )\n",
       "               SELECT hour_of_day, \n",
       "                      COUNT(1) AS num_trips, \n",
       "                      3600 * SUM(trip_miles) / SUM(trip_seconds) AS avg_mph\n",
       "               FROM RelevantRides\n",
       "               GROUP BY hour_of_day\n",
       "               ORDER BY hour_of_day\n",
       "               \"\"\"\n",
       "\n",
       "# Set up the query (cancel the query if it would use too much of \n",
       "# your quota)\n",
       "safe_config = bigquery.QueryJobConfig(maximum_bytes_billed=10**10)\n",
       "speeds_query_job = client.query(speeds_query, job_config=safe_config)\n",
       "\n",
       "# API request - run the query, and return a pandas DataFrame\n",
       "speeds_result = speeds_query_job.to_dataframe()\n",
       "\n",
       "# View results\n",
       "print(speeds_result)\n",
       "\n",
       "```"
      ]
     },
     "metadata": {},
     "output_type": "display_data"
    }
   ],
   "source": [
    "q_5.solution()"
   ]
  },
  {
   "cell_type": "markdown",
   "id": "29e954cc",
   "metadata": {
    "papermill": {
     "duration": 0.01043,
     "end_time": "2022-12-22T19:41:49.202019",
     "exception": false,
     "start_time": "2022-12-22T19:41:49.191589",
     "status": "completed"
    },
    "tags": []
   },
   "source": [
    "That's a hard query. If you made good progress towards the solution, congratulations!"
   ]
  },
  {
   "cell_type": "markdown",
   "id": "f6d7ad84",
   "metadata": {
    "papermill": {
     "duration": 0.010409,
     "end_time": "2022-12-22T19:41:49.223612",
     "exception": false,
     "start_time": "2022-12-22T19:41:49.213203",
     "status": "completed"
    },
    "tags": []
   },
   "source": [
    "# Keep going\n",
    "\n",
    "You can write very complex queries now with a single data source. But nothing expands the horizons of SQL as much as the ability to combine or **JOIN** tables.\n",
    "\n",
    "**[Click here](https://www.kaggle.com/dansbecker/joining-data)** to start the last lesson in the Intro to SQL micro-course."
   ]
  },
  {
   "cell_type": "markdown",
   "id": "22d70418",
   "metadata": {
    "papermill": {
     "duration": 0.010388,
     "end_time": "2022-12-22T19:41:49.244910",
     "exception": false,
     "start_time": "2022-12-22T19:41:49.234522",
     "status": "completed"
    },
    "tags": []
   },
   "source": [
    "---\n",
    "\n",
    "\n",
    "\n",
    "\n",
    "*Have questions or comments? Visit the [course discussion forum](https://www.kaggle.com/learn/intro-to-sql/discussion) to chat with other learners.*"
   ]
  }
 ],
 "metadata": {
  "kernelspec": {
   "display_name": "Python 3",
   "language": "python",
   "name": "python3"
  },
  "language_info": {
   "codemirror_mode": {
    "name": "ipython",
    "version": 3
   },
   "file_extension": ".py",
   "mimetype": "text/x-python",
   "name": "python",
   "nbconvert_exporter": "python",
   "pygments_lexer": "ipython3",
   "version": "3.7.12"
  },
  "papermill": {
   "default_parameters": {},
   "duration": 24.582494,
   "end_time": "2022-12-22T19:41:49.977995",
   "environment_variables": {},
   "exception": null,
   "input_path": "__notebook__.ipynb",
   "output_path": "__notebook__.ipynb",
   "parameters": {},
   "start_time": "2022-12-22T19:41:25.395501",
   "version": "2.3.4"
  }
 },
 "nbformat": 4,
 "nbformat_minor": 5
}
