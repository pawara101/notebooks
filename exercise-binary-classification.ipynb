{
 "cells": [
  {
   "cell_type": "markdown",
   "id": "5fcbd75c",
   "metadata": {
    "papermill": {
     "duration": 0.004434,
     "end_time": "2022-12-10T14:04:33.355209",
     "exception": false,
     "start_time": "2022-12-10T14:04:33.350775",
     "status": "completed"
    },
    "tags": []
   },
   "source": [
    "**This notebook is an exercise in the [Intro to Deep Learning](https://www.kaggle.com/learn/intro-to-deep-learning) course.  You can reference the tutorial at [this link](https://www.kaggle.com/ryanholbrook/binary-classification).**\n",
    "\n",
    "---\n"
   ]
  },
  {
   "cell_type": "markdown",
   "id": "54d881b5",
   "metadata": {
    "papermill": {
     "duration": 0.003102,
     "end_time": "2022-12-10T14:04:33.361710",
     "exception": false,
     "start_time": "2022-12-10T14:04:33.358608",
     "status": "completed"
    },
    "tags": []
   },
   "source": [
    "# Introduction #\n",
    "\n",
    "In this exercise, you'll build a model to predict hotel cancellations with a binary classifier."
   ]
  },
  {
   "cell_type": "code",
   "execution_count": 1,
   "id": "8cfae36d",
   "metadata": {
    "execution": {
     "iopub.execute_input": "2022-12-10T14:04:33.370428Z",
     "iopub.status.busy": "2022-12-10T14:04:33.369716Z",
     "iopub.status.idle": "2022-12-10T14:04:33.400148Z",
     "shell.execute_reply": "2022-12-10T14:04:33.399315Z"
    },
    "lines_to_next_cell": 0,
    "papermill": {
     "duration": 0.037239,
     "end_time": "2022-12-10T14:04:33.402215",
     "exception": false,
     "start_time": "2022-12-10T14:04:33.364976",
     "status": "completed"
    },
    "tags": []
   },
   "outputs": [],
   "source": [
    "# Setup plotting\n",
    "import matplotlib.pyplot as plt\n",
    "plt.style.use('seaborn-whitegrid')\n",
    "# Set Matplotlib defaults\n",
    "plt.rc('figure', autolayout=True)\n",
    "plt.rc('axes', labelweight='bold', labelsize='large',\n",
    "       titleweight='bold', titlesize=18, titlepad=10)\n",
    "plt.rc('animation', html='html5')\n",
    "\n",
    "# Setup feedback system\n",
    "from learntools.core import binder\n",
    "binder.bind(globals())\n",
    "from learntools.deep_learning_intro.ex6 import *"
   ]
  },
  {
   "cell_type": "markdown",
   "id": "00de6a9a",
   "metadata": {
    "papermill": {
     "duration": 0.00348,
     "end_time": "2022-12-10T14:04:33.408996",
     "exception": false,
     "start_time": "2022-12-10T14:04:33.405516",
     "status": "completed"
    },
    "tags": []
   },
   "source": [
    "First, load the *Hotel Cancellations* dataset."
   ]
  },
  {
   "cell_type": "code",
   "execution_count": 2,
   "id": "7a87d8d6",
   "metadata": {
    "execution": {
     "iopub.execute_input": "2022-12-10T14:04:33.416860Z",
     "iopub.status.busy": "2022-12-10T14:04:33.416607Z",
     "iopub.status.idle": "2022-12-10T14:04:35.486967Z",
     "shell.execute_reply": "2022-12-10T14:04:35.485821Z"
    },
    "lines_to_next_cell": 2,
    "papermill": {
     "duration": 2.077318,
     "end_time": "2022-12-10T14:04:35.489576",
     "exception": false,
     "start_time": "2022-12-10T14:04:33.412258",
     "status": "completed"
    },
    "tags": []
   },
   "outputs": [],
   "source": [
    "import pandas as pd\n",
    "\n",
    "from sklearn.model_selection import train_test_split\n",
    "from sklearn.preprocessing import StandardScaler, OneHotEncoder\n",
    "from sklearn.impute import SimpleImputer\n",
    "from sklearn.pipeline import make_pipeline\n",
    "from sklearn.compose import make_column_transformer\n",
    "\n",
    "hotel = pd.read_csv('../input/dl-course-data/hotel.csv')\n",
    "\n",
    "X = hotel.copy()\n",
    "y = X.pop('is_canceled')\n",
    "\n",
    "X['arrival_date_month'] = \\\n",
    "    X['arrival_date_month'].map(\n",
    "        {'January':1, 'February': 2, 'March':3,\n",
    "         'April':4, 'May':5, 'June':6, 'July':7,\n",
    "         'August':8, 'September':9, 'October':10,\n",
    "         'November':11, 'December':12}\n",
    "    )\n",
    "\n",
    "features_num = [\n",
    "    \"lead_time\", \"arrival_date_week_number\",\n",
    "    \"arrival_date_day_of_month\", \"stays_in_weekend_nights\",\n",
    "    \"stays_in_week_nights\", \"adults\", \"children\", \"babies\",\n",
    "    \"is_repeated_guest\", \"previous_cancellations\",\n",
    "    \"previous_bookings_not_canceled\", \"required_car_parking_spaces\",\n",
    "    \"total_of_special_requests\", \"adr\",\n",
    "]\n",
    "features_cat = [\n",
    "    \"hotel\", \"arrival_date_month\", \"meal\",\n",
    "    \"market_segment\", \"distribution_channel\",\n",
    "    \"reserved_room_type\", \"deposit_type\", \"customer_type\",\n",
    "]\n",
    "\n",
    "transformer_num = make_pipeline(\n",
    "    SimpleImputer(strategy=\"constant\"), # there are a few missing values\n",
    "    StandardScaler(),\n",
    ")\n",
    "transformer_cat = make_pipeline(\n",
    "    SimpleImputer(strategy=\"constant\", fill_value=\"NA\"),\n",
    "    OneHotEncoder(handle_unknown='ignore'),\n",
    ")\n",
    "\n",
    "preprocessor = make_column_transformer(\n",
    "    (transformer_num, features_num),\n",
    "    (transformer_cat, features_cat),\n",
    ")\n",
    "\n",
    "# stratify - make sure classes are evenlly represented across splits\n",
    "X_train, X_valid, y_train, y_valid = \\\n",
    "    train_test_split(X, y, stratify=y, train_size=0.75)\n",
    "\n",
    "X_train = preprocessor.fit_transform(X_train)\n",
    "X_valid = preprocessor.transform(X_valid)\n",
    "\n",
    "input_shape = [X_train.shape[1]]"
   ]
  },
  {
   "cell_type": "markdown",
   "id": "3a7d03e3",
   "metadata": {
    "papermill": {
     "duration": 0.003304,
     "end_time": "2022-12-10T14:04:35.496539",
     "exception": false,
     "start_time": "2022-12-10T14:04:35.493235",
     "status": "completed"
    },
    "tags": []
   },
   "source": [
    "# 1) Define Model #\n",
    "\n",
    "The model we'll use this time will have both batch normalization and dropout layers. To ease reading we've broken the diagram into blocks, but you can define it layer by layer as usual.\n",
    "\n",
    "Define a model with an architecture given by this diagram:\n",
    "\n",
    "<figure style=\"padding: 1em;\">\n",
    "<img src=\"https://i.imgur.com/V04o59Z.png\" width=\"400\" alt=\"Diagram of network architecture: BatchNorm, Dense, BatchNorm, Dropout, Dense, BatchNorm, Dropout, Dense.\">\n",
    "<figcaption style=\"textalign: center; font-style: italic\"><center>Diagram of a binary classifier.</center></figcaption>\n",
    "</figure>\n"
   ]
  },
  {
   "cell_type": "code",
   "execution_count": 3,
   "id": "4eaa9adb",
   "metadata": {
    "execution": {
     "iopub.execute_input": "2022-12-10T14:04:35.504430Z",
     "iopub.status.busy": "2022-12-10T14:04:35.504134Z",
     "iopub.status.idle": "2022-12-10T14:04:42.961411Z",
     "shell.execute_reply": "2022-12-10T14:04:42.960420Z"
    },
    "lines_to_next_cell": 2,
    "papermill": {
     "duration": 7.46372,
     "end_time": "2022-12-10T14:04:42.963560",
     "exception": false,
     "start_time": "2022-12-10T14:04:35.499840",
     "status": "completed"
    },
    "tags": []
   },
   "outputs": [
    {
     "name": "stderr",
     "output_type": "stream",
     "text": [
      "2022-12-10 14:04:40.229012: I tensorflow/stream_executor/cuda/cuda_gpu_executor.cc:937] successful NUMA node read from SysFS had negative value (-1), but there must be at least one NUMA node, so returning NUMA node zero\n",
      "2022-12-10 14:04:40.337690: I tensorflow/stream_executor/cuda/cuda_gpu_executor.cc:937] successful NUMA node read from SysFS had negative value (-1), but there must be at least one NUMA node, so returning NUMA node zero\n",
      "2022-12-10 14:04:40.338495: I tensorflow/stream_executor/cuda/cuda_gpu_executor.cc:937] successful NUMA node read from SysFS had negative value (-1), but there must be at least one NUMA node, so returning NUMA node zero\n",
      "2022-12-10 14:04:40.339918: I tensorflow/core/platform/cpu_feature_guard.cc:142] This TensorFlow binary is optimized with oneAPI Deep Neural Network Library (oneDNN) to use the following CPU instructions in performance-critical operations:  AVX2 AVX512F FMA\n",
      "To enable them in other operations, rebuild TensorFlow with the appropriate compiler flags.\n",
      "2022-12-10 14:04:40.345962: I tensorflow/stream_executor/cuda/cuda_gpu_executor.cc:937] successful NUMA node read from SysFS had negative value (-1), but there must be at least one NUMA node, so returning NUMA node zero\n",
      "2022-12-10 14:04:40.346665: I tensorflow/stream_executor/cuda/cuda_gpu_executor.cc:937] successful NUMA node read from SysFS had negative value (-1), but there must be at least one NUMA node, so returning NUMA node zero\n",
      "2022-12-10 14:04:40.347341: I tensorflow/stream_executor/cuda/cuda_gpu_executor.cc:937] successful NUMA node read from SysFS had negative value (-1), but there must be at least one NUMA node, so returning NUMA node zero\n",
      "2022-12-10 14:04:42.508530: I tensorflow/stream_executor/cuda/cuda_gpu_executor.cc:937] successful NUMA node read from SysFS had negative value (-1), but there must be at least one NUMA node, so returning NUMA node zero\n",
      "2022-12-10 14:04:42.509517: I tensorflow/stream_executor/cuda/cuda_gpu_executor.cc:937] successful NUMA node read from SysFS had negative value (-1), but there must be at least one NUMA node, so returning NUMA node zero\n",
      "2022-12-10 14:04:42.510200: I tensorflow/stream_executor/cuda/cuda_gpu_executor.cc:937] successful NUMA node read from SysFS had negative value (-1), but there must be at least one NUMA node, so returning NUMA node zero\n",
      "2022-12-10 14:04:42.510807: I tensorflow/core/common_runtime/gpu/gpu_device.cc:1510] Created device /job:localhost/replica:0/task:0/device:GPU:0 with 15401 MB memory:  -> device: 0, name: Tesla P100-PCIE-16GB, pci bus id: 0000:00:04.0, compute capability: 6.0\n"
     ]
    },
    {
     "data": {
      "application/javascript": [
       "parent.postMessage({\"jupyterEvent\": \"custom.exercise_interaction\", \"data\": {\"outcomeType\": 1, \"valueTowardsCompletion\": 0.3333333333333333, \"interactionType\": 1, \"questionType\": 2, \"questionId\": \"1_Q1\", \"learnToolsVersion\": \"0.3.4\", \"failureMessage\": \"\", \"exceptionClass\": \"\", \"trace\": \"\"}}, \"*\")"
      ],
      "text/plain": [
       "<IPython.core.display.Javascript object>"
      ]
     },
     "metadata": {},
     "output_type": "display_data"
    },
    {
     "data": {
      "text/markdown": [
       "<span style=\"color:#33cc33\">Correct</span>"
      ],
      "text/plain": [
       "Correct"
      ]
     },
     "metadata": {},
     "output_type": "display_data"
    }
   ],
   "source": [
    "from tensorflow import keras\n",
    "from tensorflow.keras import layers\n",
    "\n",
    "# YOUR CODE HERE: define the model given in the diagram\n",
    "model = keras.Sequential(\n",
    "                [layers.BatchNormalization(input_shape=input_shape),\n",
    "                layers.Dense(256,activation='relu'),\n",
    "                layers.BatchNormalization(),\n",
    "                layers.Dropout(rate=0.3),\n",
    "                layers.Dense(256,activation='relu'),\n",
    "                layers.BatchNormalization(),\n",
    "                layers.Dropout(rate=0.3),\n",
    "                layers.Dense(1, activation='sigmoid'),]\n",
    ")\n",
    "\n",
    "# Check your answer\n",
    "q_1.check()"
   ]
  },
  {
   "cell_type": "code",
   "execution_count": 4,
   "id": "7376505b",
   "metadata": {
    "execution": {
     "iopub.execute_input": "2022-12-10T14:04:42.973452Z",
     "iopub.status.busy": "2022-12-10T14:04:42.971992Z",
     "iopub.status.idle": "2022-12-10T14:04:42.982473Z",
     "shell.execute_reply": "2022-12-10T14:04:42.981489Z"
    },
    "papermill": {
     "duration": 0.016987,
     "end_time": "2022-12-10T14:04:42.984373",
     "exception": false,
     "start_time": "2022-12-10T14:04:42.967386",
     "status": "completed"
    },
    "tags": []
   },
   "outputs": [
    {
     "data": {
      "application/javascript": [
       "parent.postMessage({\"jupyterEvent\": \"custom.exercise_interaction\", \"data\": {\"interactionType\": 3, \"questionType\": 2, \"questionId\": \"1_Q1\", \"learnToolsVersion\": \"0.3.4\", \"valueTowardsCompletion\": 0.0, \"failureMessage\": \"\", \"exceptionClass\": \"\", \"trace\": \"\", \"outcomeType\": 4}}, \"*\")"
      ],
      "text/plain": [
       "<IPython.core.display.Javascript object>"
      ]
     },
     "metadata": {},
     "output_type": "display_data"
    },
    {
     "data": {
      "text/markdown": [
       "<span style=\"color:#33cc99\">Solution:</span> \n",
       "```python\n",
       "\n",
       "from tensorflow import keras\n",
       "from tensorflow.keras import layers\n",
       "\n",
       "model = keras.Sequential([\n",
       "    layers.BatchNormalization(input_shape=input_shape),\n",
       "    layers.Dense(256, activation='relu'),\n",
       "    layers.BatchNormalization(),\n",
       "    layers.Dropout(0.3),\n",
       "    layers.Dense(256, activation='relu'),\n",
       "    layers.BatchNormalization(),\n",
       "    layers.Dropout(0.3),\n",
       "    layers.Dense(1, activation='sigmoid'),\n",
       "])\n",
       "q_1.assert_check_passed()\n",
       "\n",
       "```"
      ],
      "text/plain": [
       "Solution: \n",
       "```python\n",
       "\n",
       "from tensorflow import keras\n",
       "from tensorflow.keras import layers\n",
       "\n",
       "model = keras.Sequential([\n",
       "    layers.BatchNormalization(input_shape=input_shape),\n",
       "    layers.Dense(256, activation='relu'),\n",
       "    layers.BatchNormalization(),\n",
       "    layers.Dropout(0.3),\n",
       "    layers.Dense(256, activation='relu'),\n",
       "    layers.BatchNormalization(),\n",
       "    layers.Dropout(0.3),\n",
       "    layers.Dense(1, activation='sigmoid'),\n",
       "])\n",
       "q_1.assert_check_passed()\n",
       "\n",
       "```"
      ]
     },
     "metadata": {},
     "output_type": "display_data"
    }
   ],
   "source": [
    "q_1.solution()"
   ]
  },
  {
   "cell_type": "markdown",
   "id": "fdd61de6",
   "metadata": {
    "papermill": {
     "duration": 0.003735,
     "end_time": "2022-12-10T14:04:42.992020",
     "exception": false,
     "start_time": "2022-12-10T14:04:42.988285",
     "status": "completed"
    },
    "tags": []
   },
   "source": [
    "# 2) Add Optimizer, Loss, and Metric #\n",
    "\n",
    "Now compile the model with the Adam optimizer and binary versions of the cross-entropy loss and accuracy metric."
   ]
  },
  {
   "cell_type": "code",
   "execution_count": 5,
   "id": "bcfc27a7",
   "metadata": {
    "execution": {
     "iopub.execute_input": "2022-12-10T14:04:43.001260Z",
     "iopub.status.busy": "2022-12-10T14:04:43.000479Z",
     "iopub.status.idle": "2022-12-10T14:04:43.014877Z",
     "shell.execute_reply": "2022-12-10T14:04:43.013971Z"
    },
    "lines_to_next_cell": 0,
    "papermill": {
     "duration": 0.021029,
     "end_time": "2022-12-10T14:04:43.016816",
     "exception": false,
     "start_time": "2022-12-10T14:04:42.995787",
     "status": "completed"
    },
    "tags": []
   },
   "outputs": [
    {
     "data": {
      "application/javascript": [
       "parent.postMessage({\"jupyterEvent\": \"custom.exercise_interaction\", \"data\": {\"outcomeType\": 1, \"valueTowardsCompletion\": 0.3333333333333333, \"interactionType\": 1, \"questionType\": 2, \"questionId\": \"2_Q2\", \"learnToolsVersion\": \"0.3.4\", \"failureMessage\": \"\", \"exceptionClass\": \"\", \"trace\": \"\"}}, \"*\")"
      ],
      "text/plain": [
       "<IPython.core.display.Javascript object>"
      ]
     },
     "metadata": {},
     "output_type": "display_data"
    },
    {
     "data": {
      "text/markdown": [
       "<span style=\"color:#33cc33\">Correct</span>"
      ],
      "text/plain": [
       "Correct"
      ]
     },
     "metadata": {},
     "output_type": "display_data"
    }
   ],
   "source": [
    "# YOUR CODE HERE\n",
    "model.compile(\n",
    "    optimizer='adam',\n",
    "    loss='binary_crossentropy',\n",
    "    metrics=['binary_accuracy'],)\n",
    "\n",
    "# Check your answer\n",
    "q_2.check()"
   ]
  },
  {
   "cell_type": "code",
   "execution_count": 6,
   "id": "817b4fc9",
   "metadata": {
    "execution": {
     "iopub.execute_input": "2022-12-10T14:04:43.026180Z",
     "iopub.status.busy": "2022-12-10T14:04:43.025887Z",
     "iopub.status.idle": "2022-12-10T14:04:43.029526Z",
     "shell.execute_reply": "2022-12-10T14:04:43.028648Z"
    },
    "lines_to_next_cell": 0,
    "papermill": {
     "duration": 0.010675,
     "end_time": "2022-12-10T14:04:43.031527",
     "exception": false,
     "start_time": "2022-12-10T14:04:43.020852",
     "status": "completed"
    },
    "tags": []
   },
   "outputs": [],
   "source": [
    "# Lines below will give you a hint or solution code\n",
    "#q_2.hint()\n",
    "#q_2.solution()"
   ]
  },
  {
   "cell_type": "markdown",
   "id": "756a33fe",
   "metadata": {
    "papermill": {
     "duration": 0.00378,
     "end_time": "2022-12-10T14:04:43.039302",
     "exception": false,
     "start_time": "2022-12-10T14:04:43.035522",
     "status": "completed"
    },
    "tags": []
   },
   "source": [
    "Finally, run this cell to train the model and view the learning curves. It may run for around 60 to 70 epochs, which could take a minute or two."
   ]
  },
  {
   "cell_type": "code",
   "execution_count": 7,
   "id": "1890e1c7",
   "metadata": {
    "execution": {
     "iopub.execute_input": "2022-12-10T14:04:43.048411Z",
     "iopub.status.busy": "2022-12-10T14:04:43.048159Z",
     "iopub.status.idle": "2022-12-10T14:05:25.486352Z",
     "shell.execute_reply": "2022-12-10T14:05:25.485439Z"
    },
    "papermill": {
     "duration": 42.44505,
     "end_time": "2022-12-10T14:05:25.488302",
     "exception": false,
     "start_time": "2022-12-10T14:04:43.043252",
     "status": "completed"
    },
    "tags": []
   },
   "outputs": [
    {
     "name": "stderr",
     "output_type": "stream",
     "text": [
      "2022-12-10 14:04:43.164467: I tensorflow/compiler/mlir/mlir_graph_optimization_pass.cc:185] None of the MLIR Optimization Passes are enabled (registered 2)\n"
     ]
    },
    {
     "name": "stdout",
     "output_type": "stream",
     "text": [
      "Epoch 1/200\n",
      "175/175 [==============================] - 3s 6ms/step - loss: 0.4921 - binary_accuracy: 0.7655 - val_loss: 0.4460 - val_binary_accuracy: 0.8113\n",
      "Epoch 2/200\n",
      "175/175 [==============================] - 1s 4ms/step - loss: 0.4281 - binary_accuracy: 0.7973 - val_loss: 0.4006 - val_binary_accuracy: 0.8177\n",
      "Epoch 3/200\n",
      "175/175 [==============================] - 1s 5ms/step - loss: 0.4124 - binary_accuracy: 0.8056 - val_loss: 0.3927 - val_binary_accuracy: 0.8207\n",
      "Epoch 4/200\n",
      "175/175 [==============================] - 1s 5ms/step - loss: 0.4042 - binary_accuracy: 0.8109 - val_loss: 0.3870 - val_binary_accuracy: 0.8223\n",
      "Epoch 5/200\n",
      "175/175 [==============================] - 1s 4ms/step - loss: 0.3974 - binary_accuracy: 0.8140 - val_loss: 0.3823 - val_binary_accuracy: 0.8240\n",
      "Epoch 6/200\n",
      "175/175 [==============================] - 1s 4ms/step - loss: 0.3940 - binary_accuracy: 0.8153 - val_loss: 0.3833 - val_binary_accuracy: 0.8246\n",
      "Epoch 7/200\n",
      "175/175 [==============================] - 1s 5ms/step - loss: 0.3898 - binary_accuracy: 0.8185 - val_loss: 0.3767 - val_binary_accuracy: 0.8268\n",
      "Epoch 8/200\n",
      "175/175 [==============================] - 1s 4ms/step - loss: 0.3864 - binary_accuracy: 0.8193 - val_loss: 0.3765 - val_binary_accuracy: 0.8274\n",
      "Epoch 9/200\n",
      "175/175 [==============================] - 1s 4ms/step - loss: 0.3834 - binary_accuracy: 0.8221 - val_loss: 0.3768 - val_binary_accuracy: 0.8276\n",
      "Epoch 10/200\n",
      "175/175 [==============================] - 1s 4ms/step - loss: 0.3811 - binary_accuracy: 0.8232 - val_loss: 0.3717 - val_binary_accuracy: 0.8308\n",
      "Epoch 11/200\n",
      "175/175 [==============================] - 1s 5ms/step - loss: 0.3787 - binary_accuracy: 0.8252 - val_loss: 0.3702 - val_binary_accuracy: 0.8283\n",
      "Epoch 12/200\n",
      "175/175 [==============================] - 1s 4ms/step - loss: 0.3764 - binary_accuracy: 0.8256 - val_loss: 0.3740 - val_binary_accuracy: 0.8280\n",
      "Epoch 13/200\n",
      "175/175 [==============================] - 1s 4ms/step - loss: 0.3737 - binary_accuracy: 0.8269 - val_loss: 0.3673 - val_binary_accuracy: 0.8333\n",
      "Epoch 14/200\n",
      "175/175 [==============================] - 1s 5ms/step - loss: 0.3724 - binary_accuracy: 0.8277 - val_loss: 0.3659 - val_binary_accuracy: 0.8318\n",
      "Epoch 15/200\n",
      "175/175 [==============================] - 1s 4ms/step - loss: 0.3707 - binary_accuracy: 0.8282 - val_loss: 0.3627 - val_binary_accuracy: 0.8345\n",
      "Epoch 16/200\n",
      "175/175 [==============================] - 1s 4ms/step - loss: 0.3691 - binary_accuracy: 0.8292 - val_loss: 0.3671 - val_binary_accuracy: 0.8312\n",
      "Epoch 17/200\n",
      "175/175 [==============================] - 1s 7ms/step - loss: 0.3668 - binary_accuracy: 0.8306 - val_loss: 0.3631 - val_binary_accuracy: 0.8330\n",
      "Epoch 18/200\n",
      "175/175 [==============================] - 1s 6ms/step - loss: 0.3658 - binary_accuracy: 0.8318 - val_loss: 0.3618 - val_binary_accuracy: 0.8330\n",
      "Epoch 19/200\n",
      "175/175 [==============================] - 1s 5ms/step - loss: 0.3643 - binary_accuracy: 0.8315 - val_loss: 0.3645 - val_binary_accuracy: 0.8327\n",
      "Epoch 20/200\n",
      "175/175 [==============================] - 1s 4ms/step - loss: 0.3637 - binary_accuracy: 0.8322 - val_loss: 0.3611 - val_binary_accuracy: 0.8343\n",
      "Epoch 21/200\n",
      "175/175 [==============================] - 1s 4ms/step - loss: 0.3623 - binary_accuracy: 0.8340 - val_loss: 0.3603 - val_binary_accuracy: 0.8348\n",
      "Epoch 22/200\n",
      "175/175 [==============================] - 1s 5ms/step - loss: 0.3602 - binary_accuracy: 0.8339 - val_loss: 0.3576 - val_binary_accuracy: 0.8375\n",
      "Epoch 23/200\n",
      "175/175 [==============================] - 1s 4ms/step - loss: 0.3593 - binary_accuracy: 0.8338 - val_loss: 0.3565 - val_binary_accuracy: 0.8366\n",
      "Epoch 24/200\n",
      "175/175 [==============================] - 1s 4ms/step - loss: 0.3571 - binary_accuracy: 0.8360 - val_loss: 0.3579 - val_binary_accuracy: 0.8358\n",
      "Epoch 25/200\n",
      "175/175 [==============================] - 1s 4ms/step - loss: 0.3565 - binary_accuracy: 0.8365 - val_loss: 0.3594 - val_binary_accuracy: 0.8350\n",
      "Epoch 26/200\n",
      "175/175 [==============================] - 1s 4ms/step - loss: 0.3550 - binary_accuracy: 0.8362 - val_loss: 0.3600 - val_binary_accuracy: 0.8354\n",
      "Epoch 27/200\n",
      "175/175 [==============================] - 1s 4ms/step - loss: 0.3541 - binary_accuracy: 0.8368 - val_loss: 0.3576 - val_binary_accuracy: 0.8358\n",
      "Epoch 28/200\n",
      "175/175 [==============================] - 1s 4ms/step - loss: 0.3530 - binary_accuracy: 0.8370 - val_loss: 0.3531 - val_binary_accuracy: 0.8386\n",
      "Epoch 29/200\n",
      "175/175 [==============================] - 1s 5ms/step - loss: 0.3521 - binary_accuracy: 0.8376 - val_loss: 0.3557 - val_binary_accuracy: 0.8372\n",
      "Epoch 30/200\n",
      "175/175 [==============================] - 1s 4ms/step - loss: 0.3502 - binary_accuracy: 0.8382 - val_loss: 0.3560 - val_binary_accuracy: 0.8367\n",
      "Epoch 31/200\n",
      "175/175 [==============================] - 1s 6ms/step - loss: 0.3503 - binary_accuracy: 0.8382 - val_loss: 0.3551 - val_binary_accuracy: 0.8372\n",
      "Epoch 32/200\n",
      "175/175 [==============================] - 1s 5ms/step - loss: 0.3493 - binary_accuracy: 0.8375 - val_loss: 0.3519 - val_binary_accuracy: 0.8391\n",
      "Epoch 33/200\n",
      "175/175 [==============================] - 1s 4ms/step - loss: 0.3481 - binary_accuracy: 0.8388 - val_loss: 0.3512 - val_binary_accuracy: 0.8397\n",
      "Epoch 34/200\n",
      "175/175 [==============================] - 1s 5ms/step - loss: 0.3474 - binary_accuracy: 0.8408 - val_loss: 0.3502 - val_binary_accuracy: 0.8391\n",
      "Epoch 35/200\n",
      "175/175 [==============================] - 1s 4ms/step - loss: 0.3451 - binary_accuracy: 0.8405 - val_loss: 0.3529 - val_binary_accuracy: 0.8385\n",
      "Epoch 36/200\n",
      "175/175 [==============================] - 1s 4ms/step - loss: 0.3455 - binary_accuracy: 0.8401 - val_loss: 0.3514 - val_binary_accuracy: 0.8385\n",
      "Epoch 37/200\n",
      "175/175 [==============================] - 1s 4ms/step - loss: 0.3447 - binary_accuracy: 0.8417 - val_loss: 0.3530 - val_binary_accuracy: 0.8371\n",
      "Epoch 38/200\n",
      "175/175 [==============================] - 1s 4ms/step - loss: 0.3444 - binary_accuracy: 0.8401 - val_loss: 0.3518 - val_binary_accuracy: 0.8411\n",
      "Epoch 39/200\n",
      "175/175 [==============================] - 1s 4ms/step - loss: 0.3421 - binary_accuracy: 0.8422 - val_loss: 0.3485 - val_binary_accuracy: 0.8415\n",
      "Epoch 40/200\n",
      "175/175 [==============================] - 1s 4ms/step - loss: 0.3425 - binary_accuracy: 0.8423 - val_loss: 0.3520 - val_binary_accuracy: 0.8382\n",
      "Epoch 41/200\n",
      "175/175 [==============================] - 1s 4ms/step - loss: 0.3426 - binary_accuracy: 0.8422 - val_loss: 0.3508 - val_binary_accuracy: 0.8406\n",
      "Epoch 42/200\n",
      "175/175 [==============================] - 1s 4ms/step - loss: 0.3403 - binary_accuracy: 0.8433 - val_loss: 0.3488 - val_binary_accuracy: 0.8410\n",
      "Epoch 43/200\n",
      "175/175 [==============================] - 1s 4ms/step - loss: 0.3411 - binary_accuracy: 0.8425 - val_loss: 0.3488 - val_binary_accuracy: 0.8425\n",
      "Epoch 44/200\n",
      "175/175 [==============================] - 1s 4ms/step - loss: 0.3380 - binary_accuracy: 0.8438 - val_loss: 0.3503 - val_binary_accuracy: 0.8423\n"
     ]
    },
    {
     "data": {
      "text/plain": [
       "<AxesSubplot:title={'center':'Accuracy'}>"
      ]
     },
     "execution_count": 7,
     "metadata": {},
     "output_type": "execute_result"
    },
    {
     "data": {
      "image/png": "[encoded data removed]",
      "text/plain": [
       "<Figure size 432x288 with 1 Axes>"
      ]
     },
     "metadata": {},
     "output_type": "display_data"
    },
    {
     "data": {
      "image/png": "[encoded data removed]",
      "text/plain": [
       "<Figure size 432x288 with 1 Axes>"
      ]
     },
     "metadata": {},
     "output_type": "display_data"
    }
   ],
   "source": [
    "early_stopping = keras.callbacks.EarlyStopping(\n",
    "    patience=5,\n",
    "    min_delta=0.001,\n",
    "    restore_best_weights=True,\n",
    ")\n",
    "history = model.fit(\n",
    "    X_train, y_train,\n",
    "    validation_data=(X_valid, y_valid),\n",
    "    batch_size=512,\n",
    "    epochs=200,\n",
    "    callbacks=[early_stopping],\n",
    ")\n",
    "\n",
    "history_df = pd.DataFrame(history.history)\n",
    "history_df.loc[:, ['loss', 'val_loss']].plot(title=\"Cross-entropy\")\n",
    "history_df.loc[:, ['binary_accuracy', 'val_binary_accuracy']].plot(title=\"Accuracy\")"
   ]
  },
  {
   "cell_type": "markdown",
   "id": "69f27a2c",
   "metadata": {
    "papermill": {
     "duration": 0.036073,
     "end_time": "2022-12-10T14:05:25.560962",
     "exception": false,
     "start_time": "2022-12-10T14:05:25.524889",
     "status": "completed"
    },
    "tags": []
   },
   "source": [
    "# 3) Train and Evaluate #\n",
    "\n",
    "\n",
    "What do you think about the learning curves? Does it look like the model underfit or overfit? Was the cross-entropy loss a good stand-in for accuracy?"
   ]
  },
  {
   "cell_type": "code",
   "execution_count": 8,
   "id": "c6a4c964",
   "metadata": {
    "execution": {
     "iopub.execute_input": "2022-12-10T14:05:25.634670Z",
     "iopub.status.busy": "2022-12-10T14:05:25.633251Z",
     "iopub.status.idle": "2022-12-10T14:05:25.643248Z",
     "shell.execute_reply": "2022-12-10T14:05:25.642423Z"
    },
    "papermill": {
     "duration": 0.048524,
     "end_time": "2022-12-10T14:05:25.645218",
     "exception": false,
     "start_time": "2022-12-10T14:05:25.596694",
     "status": "completed"
    },
    "tags": []
   },
   "outputs": [
    {
     "data": {
      "application/javascript": [
       "parent.postMessage({\"jupyterEvent\": \"custom.exercise_interaction\", \"data\": {\"outcomeType\": 1, \"valueTowardsCompletion\": 0.3333333333333333, \"interactionType\": 1, \"questionType\": 4, \"questionId\": \"3_Q3\", \"learnToolsVersion\": \"0.3.4\", \"failureMessage\": \"\", \"exceptionClass\": \"\", \"trace\": \"\"}}, \"*\")"
      ],
      "text/plain": [
       "<IPython.core.display.Javascript object>"
      ]
     },
     "metadata": {},
     "output_type": "display_data"
    },
    {
     "data": {
      "text/markdown": [
       "<span style=\"color:#33cc33\">Correct:</span> \n",
       "\n",
       "Though we can see the training loss continuing to fall, the early stopping callback prevented any overfitting. Moreover, the accuracy rose at the same rate as the cross-entropy fell, so it appears that minimizing cross-entropy was a good stand-in. All in all, it looks like this training was a success!"
      ],
      "text/plain": [
       "Correct: \n",
       "\n",
       "Though we can see the training loss continuing to fall, the early stopping callback prevented any overfitting. Moreover, the accuracy rose at the same rate as the cross-entropy fell, so it appears that minimizing cross-entropy was a good stand-in. All in all, it looks like this training was a success!"
      ]
     },
     "metadata": {},
     "output_type": "display_data"
    }
   ],
   "source": [
    "# View the solution (Run this cell to receive credit!)\n",
    "q_3.check()"
   ]
  },
  {
   "cell_type": "markdown",
   "id": "9a3c5f8e",
   "metadata": {
    "papermill": {
     "duration": 0.035834,
     "end_time": "2022-12-10T14:05:25.717103",
     "exception": false,
     "start_time": "2022-12-10T14:05:25.681269",
     "status": "completed"
    },
    "tags": []
   },
   "source": [
    "# Conclusion #\n",
    "\n",
    "Congratulations! You've completed Kaggle's *Introduction to Deep Learning* course!\n",
    "\n",
    "With your new skills you're ready to take on more advanced applications like computer vision and sentiment classification. What would you like to do next?\n",
    "\n",
    "Why not try one of our *Getting Started* competitions?\n",
    "\n",
    "- Classify images with TPUs in [**Petals to the Metal**](https://www.kaggle.com/c/tpu-getting-started)\n",
    "- Create art with GANs in [**I'm Something of a Painter Myself**](https://www.kaggle.com/c/gan-getting-started)\n",
    "- Classify Tweets in [**Real or Not? NLP with Disaster Tweets**](https://www.kaggle.com/c/nlp-getting-started)\n",
    "- Detect contradiction and entailment in [**Contradictory, My Dear Watson**](https://www.kaggle.com/c/contradictory-my-dear-watson)\n",
    "\n",
    "Until next time, Kagglers!"
   ]
  },
  {
   "cell_type": "markdown",
   "id": "0a273716",
   "metadata": {
    "papermill": {
     "duration": 0.03649,
     "end_time": "2022-12-10T14:05:25.790355",
     "exception": false,
     "start_time": "2022-12-10T14:05:25.753865",
     "status": "completed"
    },
    "tags": []
   },
   "source": [
    "---\n",
    "\n",
    "\n",
    "\n",
    "\n",
    "*Have questions or comments? Visit the [course discussion forum](https://www.kaggle.com/learn/intro-to-deep-learning/discussion) to chat with other learners.*"
   ]
  }
 ],
 "metadata": {
  "kernelspec": {
   "display_name": "Python 3",
   "language": "python",
   "name": "python3"
  },
  "language_info": {
   "codemirror_mode": {
    "name": "ipython",
    "version": 3
   },
   "file_extension": ".py",
   "mimetype": "text/x-python",
   "name": "python",
   "nbconvert_exporter": "python",
   "pygments_lexer": "ipython3",
   "version": "3.7.12"
  },
  "papermill": {
   "default_parameters": {},
   "duration": 63.531319,
   "end_time": "2022-12-10T14:05:29.003377",
   "environment_variables": {},
   "exception": null,
   "input_path": "__notebook__.ipynb",
   "output_path": "__notebook__.ipynb",
   "parameters": {},
   "start_time": "2022-12-10T14:04:25.472058",
   "version": "2.3.4"
  }
 },
 "nbformat": 4,
 "nbformat_minor": 5
}
