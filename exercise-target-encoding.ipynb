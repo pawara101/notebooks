{
 "cells": [
  {
   "cell_type": "markdown",
   "id": "3af67033",
   "metadata": {
    "papermill": {
     "duration": 0.007544,
     "end_time": "2022-11-27T16:50:15.360781",
     "exception": false,
     "start_time": "2022-11-27T16:50:15.353237",
     "status": "completed"
    },
    "tags": []
   },
   "source": [
    "**This notebook is an exercise in the [Feature Engineering](https://www.kaggle.com/learn/feature-engineering) course.  You can reference the tutorial at [this link](https://www.kaggle.com/ryanholbrook/target-encoding).**\n",
    "\n",
    "---\n"
   ]
  },
  {
   "cell_type": "markdown",
   "id": "d07436b9",
   "metadata": {
    "papermill": {
     "duration": 0.006633,
     "end_time": "2022-11-27T16:50:15.374134",
     "exception": false,
     "start_time": "2022-11-27T16:50:15.367501",
     "status": "completed"
    },
    "tags": []
   },
   "source": [
    "# Introduction #\n",
    "\n",
    "In this exercise, you'll apply target encoding to features in the [*Ames*](https://www.kaggle.com/c/house-prices-advanced-regression-techniques/data) dataset.\n",
    "\n",
    "Run this cell to set everything up!"
   ]
  },
  {
   "cell_type": "code",
   "execution_count": 1,
   "id": "7577fe55",
   "metadata": {
    "execution": {
     "iopub.execute_input": "2022-11-27T16:50:15.390174Z",
     "iopub.status.busy": "2022-11-27T16:50:15.389335Z",
     "iopub.status.idle": "2022-11-27T16:50:17.150023Z",
     "shell.execute_reply": "2022-11-27T16:50:17.148601Z"
    },
    "papermill": {
     "duration": 1.771702,
     "end_time": "2022-11-27T16:50:17.152834",
     "exception": false,
     "start_time": "2022-11-27T16:50:15.381132",
     "status": "completed"
    },
    "tags": []
   },
   "outputs": [],
   "source": [
    "# Setup feedback system\n",
    "from learntools.core import binder\n",
    "binder.bind(globals())\n",
    "from learntools.feature_engineering_new.ex6 import *\n",
    "\n",
    "import matplotlib.pyplot as plt\n",
    "import numpy as np\n",
    "import pandas as pd\n",
    "import seaborn as sns\n",
    "import warnings\n",
    "from category_encoders import MEstimateEncoder\n",
    "from sklearn.model_selection import cross_val_score\n",
    "from xgboost import XGBRegressor\n",
    "\n",
    "# Set Matplotlib defaults\n",
    "plt.style.use(\"seaborn-whitegrid\")\n",
    "plt.rc(\"figure\", autolayout=True)\n",
    "plt.rc(\n",
    "    \"axes\",\n",
    "    labelweight=\"bold\",\n",
    "    labelsize=\"large\",\n",
    "    titleweight=\"bold\",\n",
    "    titlesize=14,\n",
    "    titlepad=10,\n",
    ")\n",
    "warnings.filterwarnings('ignore')\n",
    "\n",
    "\n",
    "def score_dataset(X, y, model=XGBRegressor()):\n",
    "    # Label encoding for categoricals\n",
    "    for colname in X.select_dtypes([\"category\", \"object\"]):\n",
    "        X[colname], _ = X[colname].factorize()\n",
    "    # Metric for Housing competition is RMSLE (Root Mean Squared Log Error)\n",
    "    score = cross_val_score(\n",
    "        model, X, y, cv=5, scoring=\"neg_mean_squared_log_error\",\n",
    "    )\n",
    "    score = -1 * score.mean()\n",
    "    score = np.sqrt(score)\n",
    "    return score\n",
    "\n",
    "\n",
    "df = pd.read_csv(\"../input/fe-course-data/ames.csv\")"
   ]
  },
  {
   "cell_type": "markdown",
   "id": "5b3fbff5",
   "metadata": {
    "papermill": {
     "duration": 0.005939,
     "end_time": "2022-11-27T16:50:17.165425",
     "exception": false,
     "start_time": "2022-11-27T16:50:17.159486",
     "status": "completed"
    },
    "tags": []
   },
   "source": [
    "-------------------------------------------------------------------------------\n",
    "\n",
    "First you'll need to choose which features you want to apply a target encoding to. Categorical features with a large number of categories are often good candidates. Run this cell to see how many categories each categorical feature in the *Ames* dataset has."
   ]
  },
  {
   "cell_type": "code",
   "execution_count": 2,
   "id": "50f9f122",
   "metadata": {
    "execution": {
     "iopub.execute_input": "2022-11-27T16:50:17.181786Z",
     "iopub.status.busy": "2022-11-27T16:50:17.179415Z",
     "iopub.status.idle": "2022-11-27T16:50:17.217974Z",
     "shell.execute_reply": "2022-11-27T16:50:17.216791Z"
    },
    "papermill": {
     "duration": 0.04897,
     "end_time": "2022-11-27T16:50:17.220628",
     "exception": false,
     "start_time": "2022-11-27T16:50:17.171658",
     "status": "completed"
    },
    "tags": []
   },
   "outputs": [
    {
     "data": {
      "text/plain": [
       "MSSubClass       16\n",
       "MSZoning          7\n",
       "Street            2\n",
       "Alley             3\n",
       "LotShape          4\n",
       "LandContour       4\n",
       "Utilities         3\n",
       "LotConfig         5\n",
       "LandSlope         3\n",
       "Neighborhood     28\n",
       "Condition1        9\n",
       "Condition2        8\n",
       "BldgType          5\n",
       "HouseStyle        8\n",
       "OverallQual      10\n",
       "OverallCond       9\n",
       "RoofStyle         6\n",
       "RoofMatl          8\n",
       "Exterior1st      16\n",
       "Exterior2nd      17\n",
       "MasVnrType        5\n",
       "ExterQual         4\n",
       "ExterCond         5\n",
       "Foundation        6\n",
       "BsmtQual          6\n",
       "BsmtCond          6\n",
       "BsmtExposure      5\n",
       "BsmtFinType1      7\n",
       "BsmtFinType2      7\n",
       "Heating           6\n",
       "HeatingQC         5\n",
       "CentralAir        2\n",
       "Electrical        6\n",
       "KitchenQual       5\n",
       "Functional        8\n",
       "FireplaceQu       6\n",
       "GarageType        7\n",
       "GarageFinish      4\n",
       "GarageQual        6\n",
       "GarageCond        6\n",
       "PavedDrive        3\n",
       "PoolQC            5\n",
       "Fence             5\n",
       "MiscFeature       6\n",
       "SaleType         10\n",
       "SaleCondition     6\n",
       "dtype: int64"
      ]
     },
     "execution_count": 2,
     "metadata": {},
     "output_type": "execute_result"
    }
   ],
   "source": [
    "df.select_dtypes([\"object\"]).nunique()"
   ]
  },
  {
   "cell_type": "markdown",
   "id": "cb2549a1",
   "metadata": {
    "papermill": {
     "duration": 0.006246,
     "end_time": "2022-11-27T16:50:17.233748",
     "exception": false,
     "start_time": "2022-11-27T16:50:17.227502",
     "status": "completed"
    },
    "tags": []
   },
   "source": [
    "We talked about how the M-estimate encoding uses smoothing to improve estimates for rare categories. To see how many times a category occurs in the dataset, you can use the `value_counts` method. This cell shows the counts for `SaleType`, but you might want to consider others as well."
   ]
  },
  {
   "cell_type": "code",
   "execution_count": 3,
   "id": "28efb9d9",
   "metadata": {
    "execution": {
     "iopub.execute_input": "2022-11-27T16:50:17.248289Z",
     "iopub.status.busy": "2022-11-27T16:50:17.247857Z",
     "iopub.status.idle": "2022-11-27T16:50:17.261445Z",
     "shell.execute_reply": "2022-11-27T16:50:17.260323Z"
    },
    "papermill": {
     "duration": 0.023688,
     "end_time": "2022-11-27T16:50:17.263928",
     "exception": false,
     "start_time": "2022-11-27T16:50:17.240240",
     "status": "completed"
    },
    "tags": []
   },
   "outputs": [
    {
     "data": {
      "text/plain": [
       "WD       2536\n",
       "New       239\n",
       "COD        87\n",
       "ConLD      26\n",
       "CWD        12\n",
       "ConLI       9\n",
       "ConLw       8\n",
       "Oth         7\n",
       "Con         5\n",
       "VWD         1\n",
       "Name: SaleType, dtype: int64"
      ]
     },
     "execution_count": 3,
     "metadata": {},
     "output_type": "execute_result"
    }
   ],
   "source": [
    "df[\"SaleType\"].value_counts()"
   ]
  },
  {
   "cell_type": "markdown",
   "id": "f34b0d29",
   "metadata": {
    "papermill": {
     "duration": 0.006202,
     "end_time": "2022-11-27T16:50:17.278201",
     "exception": false,
     "start_time": "2022-11-27T16:50:17.271999",
     "status": "completed"
    },
    "tags": []
   },
   "source": [
    "# 1) Choose Features for Encoding\n",
    "\n",
    "Which features did you identify for target encoding? After you've thought about your answer, run the next cell for some discussion."
   ]
  },
  {
   "cell_type": "code",
   "execution_count": 4,
   "id": "74d002cf",
   "metadata": {
    "execution": {
     "iopub.execute_input": "2022-11-27T16:50:17.293652Z",
     "iopub.status.busy": "2022-11-27T16:50:17.293254Z",
     "iopub.status.idle": "2022-11-27T16:50:17.301447Z",
     "shell.execute_reply": "2022-11-27T16:50:17.300617Z"
    },
    "papermill": {
     "duration": 0.018192,
     "end_time": "2022-11-27T16:50:17.303513",
     "exception": false,
     "start_time": "2022-11-27T16:50:17.285321",
     "status": "completed"
    },
    "tags": []
   },
   "outputs": [
    {
     "data": {
      "application/javascript": [
       "parent.postMessage({\"jupyterEvent\": \"custom.exercise_interaction\", \"data\": {\"outcomeType\": 1, \"valueTowardsCompletion\": 0.3333333333333333, \"interactionType\": 1, \"questionType\": 4, \"questionId\": \"1_Q1\", \"learnToolsVersion\": \"0.3.4\", \"failureMessage\": \"\", \"exceptionClass\": \"\", \"trace\": \"\"}}, \"*\")"
      ],
      "text/plain": [
       "<IPython.core.display.Javascript object>"
      ]
     },
     "metadata": {},
     "output_type": "display_data"
    },
    {
     "data": {
      "text/markdown": [
       "<span style=\"color:#33cc33\">Correct:</span> \n",
       "\n",
       " The `Neighborhood` feature looks promising. It has the most categories of any feature, and several categories are rare. Others that could be worth considering are `SaleType`, `MSSubClass`, `Exterior1st`, `Exterior2nd`. In fact, almost any of the nominal features would be worth trying because of the prevalence of rare categories."
      ],
      "text/plain": [
       "Correct: \n",
       "\n",
       " The `Neighborhood` feature looks promising. It has the most categories of any feature, and several categories are rare. Others that could be worth considering are `SaleType`, `MSSubClass`, `Exterior1st`, `Exterior2nd`. In fact, almost any of the nominal features would be worth trying because of the prevalence of rare categories."
      ]
     },
     "metadata": {},
     "output_type": "display_data"
    }
   ],
   "source": [
    "# View the solution (Run this cell to receive credit!)\n",
    "q_1.check()"
   ]
  },
  {
   "cell_type": "markdown",
   "id": "bba10784",
   "metadata": {
    "papermill": {
     "duration": 0.00638,
     "end_time": "2022-11-27T16:50:17.316593",
     "exception": false,
     "start_time": "2022-11-27T16:50:17.310213",
     "status": "completed"
    },
    "tags": []
   },
   "source": [
    "-------------------------------------------------------------------------------\n",
    "\n",
    "Now you'll apply a target encoding to your choice of feature. As we discussed in the tutorial, to avoid overfitting, we need to fit the encoder on data heldout from the training set. Run this cell to create the encoding and training splits:"
   ]
  },
  {
   "cell_type": "code",
   "execution_count": 5,
   "id": "86a0d075",
   "metadata": {
    "execution": {
     "iopub.execute_input": "2022-11-27T16:50:17.331893Z",
     "iopub.status.busy": "2022-11-27T16:50:17.331479Z",
     "iopub.status.idle": "2022-11-27T16:50:17.345349Z",
     "shell.execute_reply": "2022-11-27T16:50:17.344021Z"
    },
    "lines_to_next_cell": 2,
    "papermill": {
     "duration": 0.024792,
     "end_time": "2022-11-27T16:50:17.348164",
     "exception": false,
     "start_time": "2022-11-27T16:50:17.323372",
     "status": "completed"
    },
    "tags": []
   },
   "outputs": [],
   "source": [
    "# Encoding split\n",
    "X_encode = df.sample(frac=0.20, random_state=0)\n",
    "y_encode = X_encode.pop(\"SalePrice\")\n",
    "\n",
    "# Training split\n",
    "X_pretrain = df.drop(X_encode.index)\n",
    "y_train = X_pretrain.pop(\"SalePrice\")"
   ]
  },
  {
   "cell_type": "code",
   "execution_count": 6,
   "id": "a1eb38d8",
   "metadata": {
    "execution": {
     "iopub.execute_input": "2022-11-27T16:50:17.363851Z",
     "iopub.status.busy": "2022-11-27T16:50:17.363414Z",
     "iopub.status.idle": "2022-11-27T16:50:17.402795Z",
     "shell.execute_reply": "2022-11-27T16:50:17.401579Z"
    },
    "papermill": {
     "duration": 0.050147,
     "end_time": "2022-11-27T16:50:17.405148",
     "exception": false,
     "start_time": "2022-11-27T16:50:17.355001",
     "status": "completed"
    },
    "tags": []
   },
   "outputs": [
    {
     "data": {
      "text/html": [
       "<div>\n",
       "<style scoped>\n",
       "    .dataframe tbody tr th:only-of-type {\n",
       "        vertical-align: middle;\n",
       "    }\n",
       "\n",
       "    .dataframe tbody tr th {\n",
       "        vertical-align: top;\n",
       "    }\n",
       "\n",
       "    .dataframe thead th {\n",
       "        text-align: right;\n",
       "    }\n",
       "</style>\n",
       "<table border=\"1\" class=\"dataframe\">\n",
       "  <thead>\n",
       "    <tr style=\"text-align: right;\">\n",
       "      <th></th>\n",
       "      <th>MSSubClass</th>\n",
       "      <th>MSZoning</th>\n",
       "      <th>LotFrontage</th>\n",
       "      <th>LotArea</th>\n",
       "      <th>Street</th>\n",
       "      <th>Alley</th>\n",
       "      <th>LotShape</th>\n",
       "      <th>LandContour</th>\n",
       "      <th>Utilities</th>\n",
       "      <th>LotConfig</th>\n",
       "      <th>...</th>\n",
       "      <th>ScreenPorch</th>\n",
       "      <th>PoolArea</th>\n",
       "      <th>PoolQC</th>\n",
       "      <th>Fence</th>\n",
       "      <th>MiscFeature</th>\n",
       "      <th>MiscVal</th>\n",
       "      <th>MoSold</th>\n",
       "      <th>YearSold</th>\n",
       "      <th>SaleType</th>\n",
       "      <th>SaleCondition</th>\n",
       "    </tr>\n",
       "  </thead>\n",
       "  <tbody>\n",
       "    <tr>\n",
       "      <th>2216</th>\n",
       "      <td>One_and_Half_Story_Finished_All_Ages</td>\n",
       "      <td>Residential_Low_Density</td>\n",
       "      <td>0.0</td>\n",
       "      <td>11275.0</td>\n",
       "      <td>Pave</td>\n",
       "      <td>No_Alley_Access</td>\n",
       "      <td>Slightly_Irregular</td>\n",
       "      <td>HLS</td>\n",
       "      <td>AllPub</td>\n",
       "      <td>Corner</td>\n",
       "      <td>...</td>\n",
       "      <td>0.0</td>\n",
       "      <td>0.0</td>\n",
       "      <td>No_Pool</td>\n",
       "      <td>No_Fence</td>\n",
       "      <td>None</td>\n",
       "      <td>0.0</td>\n",
       "      <td>3</td>\n",
       "      <td>2007</td>\n",
       "      <td>WD</td>\n",
       "      <td>Normal</td>\n",
       "    </tr>\n",
       "    <tr>\n",
       "      <th>836</th>\n",
       "      <td>One_Story_1946_and_Newer_All_Styles</td>\n",
       "      <td>Residential_Low_Density</td>\n",
       "      <td>65.0</td>\n",
       "      <td>9757.0</td>\n",
       "      <td>Pave</td>\n",
       "      <td>No_Alley_Access</td>\n",
       "      <td>Regular</td>\n",
       "      <td>Low</td>\n",
       "      <td>AllPub</td>\n",
       "      <td>Inside</td>\n",
       "      <td>...</td>\n",
       "      <td>92.0</td>\n",
       "      <td>0.0</td>\n",
       "      <td>No_Pool</td>\n",
       "      <td>No_Fence</td>\n",
       "      <td>None</td>\n",
       "      <td>0.0</td>\n",
       "      <td>10</td>\n",
       "      <td>2009</td>\n",
       "      <td>WD</td>\n",
       "      <td>Normal</td>\n",
       "    </tr>\n",
       "    <tr>\n",
       "      <th>2396</th>\n",
       "      <td>Two_Story_1946_and_Newer</td>\n",
       "      <td>Residential_Low_Density</td>\n",
       "      <td>86.0</td>\n",
       "      <td>11065.0</td>\n",
       "      <td>Pave</td>\n",
       "      <td>No_Alley_Access</td>\n",
       "      <td>Slightly_Irregular</td>\n",
       "      <td>Lvl</td>\n",
       "      <td>AllPub</td>\n",
       "      <td>Inside</td>\n",
       "      <td>...</td>\n",
       "      <td>0.0</td>\n",
       "      <td>0.0</td>\n",
       "      <td>No_Pool</td>\n",
       "      <td>No_Fence</td>\n",
       "      <td>None</td>\n",
       "      <td>0.0</td>\n",
       "      <td>10</td>\n",
       "      <td>2006</td>\n",
       "      <td>New</td>\n",
       "      <td>Partial</td>\n",
       "    </tr>\n",
       "    <tr>\n",
       "      <th>1962</th>\n",
       "      <td>One_Story_1946_and_Newer_All_Styles</td>\n",
       "      <td>Residential_Low_Density</td>\n",
       "      <td>70.0</td>\n",
       "      <td>7000.0</td>\n",
       "      <td>Pave</td>\n",
       "      <td>No_Alley_Access</td>\n",
       "      <td>Regular</td>\n",
       "      <td>Lvl</td>\n",
       "      <td>AllPub</td>\n",
       "      <td>Inside</td>\n",
       "      <td>...</td>\n",
       "      <td>0.0</td>\n",
       "      <td>0.0</td>\n",
       "      <td>No_Pool</td>\n",
       "      <td>Minimum_Wood_Wire</td>\n",
       "      <td>None</td>\n",
       "      <td>0.0</td>\n",
       "      <td>4</td>\n",
       "      <td>2007</td>\n",
       "      <td>WD</td>\n",
       "      <td>Family</td>\n",
       "    </tr>\n",
       "    <tr>\n",
       "      <th>305</th>\n",
       "      <td>One_and_Half_Story_Finished_All_Ages</td>\n",
       "      <td>C_all</td>\n",
       "      <td>66.0</td>\n",
       "      <td>8712.0</td>\n",
       "      <td>Pave</td>\n",
       "      <td>Paved</td>\n",
       "      <td>Regular</td>\n",
       "      <td>HLS</td>\n",
       "      <td>AllPub</td>\n",
       "      <td>Inside</td>\n",
       "      <td>...</td>\n",
       "      <td>0.0</td>\n",
       "      <td>0.0</td>\n",
       "      <td>No_Pool</td>\n",
       "      <td>No_Fence</td>\n",
       "      <td>None</td>\n",
       "      <td>0.0</td>\n",
       "      <td>1</td>\n",
       "      <td>2010</td>\n",
       "      <td>WD</td>\n",
       "      <td>Abnorml</td>\n",
       "    </tr>\n",
       "    <tr>\n",
       "      <th>...</th>\n",
       "      <td>...</td>\n",
       "      <td>...</td>\n",
       "      <td>...</td>\n",
       "      <td>...</td>\n",
       "      <td>...</td>\n",
       "      <td>...</td>\n",
       "      <td>...</td>\n",
       "      <td>...</td>\n",
       "      <td>...</td>\n",
       "      <td>...</td>\n",
       "      <td>...</td>\n",
       "      <td>...</td>\n",
       "      <td>...</td>\n",
       "      <td>...</td>\n",
       "      <td>...</td>\n",
       "      <td>...</td>\n",
       "      <td>...</td>\n",
       "      <td>...</td>\n",
       "      <td>...</td>\n",
       "      <td>...</td>\n",
       "      <td>...</td>\n",
       "    </tr>\n",
       "    <tr>\n",
       "      <th>2352</th>\n",
       "      <td>Split_Foyer</td>\n",
       "      <td>Residential_Low_Density</td>\n",
       "      <td>0.0</td>\n",
       "      <td>9927.0</td>\n",
       "      <td>Pave</td>\n",
       "      <td>No_Alley_Access</td>\n",
       "      <td>Slightly_Irregular</td>\n",
       "      <td>Lvl</td>\n",
       "      <td>AllPub</td>\n",
       "      <td>Inside</td>\n",
       "      <td>...</td>\n",
       "      <td>0.0</td>\n",
       "      <td>0.0</td>\n",
       "      <td>No_Pool</td>\n",
       "      <td>No_Fence</td>\n",
       "      <td>None</td>\n",
       "      <td>0.0</td>\n",
       "      <td>7</td>\n",
       "      <td>2006</td>\n",
       "      <td>WD</td>\n",
       "      <td>Normal</td>\n",
       "    </tr>\n",
       "    <tr>\n",
       "      <th>2027</th>\n",
       "      <td>One_and_Half_Story_Finished_All_Ages</td>\n",
       "      <td>Residential_Medium_Density</td>\n",
       "      <td>60.0</td>\n",
       "      <td>8520.0</td>\n",
       "      <td>Pave</td>\n",
       "      <td>Gravel</td>\n",
       "      <td>Regular</td>\n",
       "      <td>Lvl</td>\n",
       "      <td>AllPub</td>\n",
       "      <td>Inside</td>\n",
       "      <td>...</td>\n",
       "      <td>0.0</td>\n",
       "      <td>0.0</td>\n",
       "      <td>No_Pool</td>\n",
       "      <td>Good_Wood</td>\n",
       "      <td>None</td>\n",
       "      <td>0.0</td>\n",
       "      <td>8</td>\n",
       "      <td>2007</td>\n",
       "      <td>CWD</td>\n",
       "      <td>Family</td>\n",
       "    </tr>\n",
       "    <tr>\n",
       "      <th>867</th>\n",
       "      <td>Two_Story_1946_and_Newer</td>\n",
       "      <td>Residential_Low_Density</td>\n",
       "      <td>70.0</td>\n",
       "      <td>8749.0</td>\n",
       "      <td>Pave</td>\n",
       "      <td>No_Alley_Access</td>\n",
       "      <td>Regular</td>\n",
       "      <td>Lvl</td>\n",
       "      <td>AllPub</td>\n",
       "      <td>Inside</td>\n",
       "      <td>...</td>\n",
       "      <td>0.0</td>\n",
       "      <td>0.0</td>\n",
       "      <td>No_Pool</td>\n",
       "      <td>No_Fence</td>\n",
       "      <td>None</td>\n",
       "      <td>0.0</td>\n",
       "      <td>11</td>\n",
       "      <td>2009</td>\n",
       "      <td>WD</td>\n",
       "      <td>Normal</td>\n",
       "    </tr>\n",
       "    <tr>\n",
       "      <th>2590</th>\n",
       "      <td>One_Story_1945_and_Older</td>\n",
       "      <td>Residential_Low_Density</td>\n",
       "      <td>118.0</td>\n",
       "      <td>21299.0</td>\n",
       "      <td>Pave</td>\n",
       "      <td>No_Alley_Access</td>\n",
       "      <td>Regular</td>\n",
       "      <td>Lvl</td>\n",
       "      <td>AllPub</td>\n",
       "      <td>Inside</td>\n",
       "      <td>...</td>\n",
       "      <td>0.0</td>\n",
       "      <td>0.0</td>\n",
       "      <td>No_Pool</td>\n",
       "      <td>No_Fence</td>\n",
       "      <td>None</td>\n",
       "      <td>0.0</td>\n",
       "      <td>12</td>\n",
       "      <td>2006</td>\n",
       "      <td>COD</td>\n",
       "      <td>Abnorml</td>\n",
       "    </tr>\n",
       "    <tr>\n",
       "      <th>1418</th>\n",
       "      <td>Two_Story_1946_and_Newer</td>\n",
       "      <td>Residential_Low_Density</td>\n",
       "      <td>86.0</td>\n",
       "      <td>11839.0</td>\n",
       "      <td>Pave</td>\n",
       "      <td>No_Alley_Access</td>\n",
       "      <td>Regular</td>\n",
       "      <td>Lvl</td>\n",
       "      <td>AllPub</td>\n",
       "      <td>Inside</td>\n",
       "      <td>...</td>\n",
       "      <td>0.0</td>\n",
       "      <td>0.0</td>\n",
       "      <td>No_Pool</td>\n",
       "      <td>No_Fence</td>\n",
       "      <td>None</td>\n",
       "      <td>0.0</td>\n",
       "      <td>5</td>\n",
       "      <td>2008</td>\n",
       "      <td>WD</td>\n",
       "      <td>Normal</td>\n",
       "    </tr>\n",
       "  </tbody>\n",
       "</table>\n",
       "<p>586 rows × 78 columns</p>\n",
       "</div>"
      ],
      "text/plain": [
       "                                MSSubClass                    MSZoning  \\\n",
       "2216  One_and_Half_Story_Finished_All_Ages     Residential_Low_Density   \n",
       "836    One_Story_1946_and_Newer_All_Styles     Residential_Low_Density   \n",
       "2396              Two_Story_1946_and_Newer     Residential_Low_Density   \n",
       "1962   One_Story_1946_and_Newer_All_Styles     Residential_Low_Density   \n",
       "305   One_and_Half_Story_Finished_All_Ages                       C_all   \n",
       "...                                    ...                         ...   \n",
       "2352                           Split_Foyer     Residential_Low_Density   \n",
       "2027  One_and_Half_Story_Finished_All_Ages  Residential_Medium_Density   \n",
       "867               Two_Story_1946_and_Newer     Residential_Low_Density   \n",
       "2590              One_Story_1945_and_Older     Residential_Low_Density   \n",
       "1418              Two_Story_1946_and_Newer     Residential_Low_Density   \n",
       "\n",
       "      LotFrontage  LotArea Street            Alley            LotShape  \\\n",
       "2216          0.0  11275.0   Pave  No_Alley_Access  Slightly_Irregular   \n",
       "836          65.0   9757.0   Pave  No_Alley_Access             Regular   \n",
       "2396         86.0  11065.0   Pave  No_Alley_Access  Slightly_Irregular   \n",
       "1962         70.0   7000.0   Pave  No_Alley_Access             Regular   \n",
       "305          66.0   8712.0   Pave            Paved             Regular   \n",
       "...           ...      ...    ...              ...                 ...   \n",
       "2352          0.0   9927.0   Pave  No_Alley_Access  Slightly_Irregular   \n",
       "2027         60.0   8520.0   Pave           Gravel             Regular   \n",
       "867          70.0   8749.0   Pave  No_Alley_Access             Regular   \n",
       "2590        118.0  21299.0   Pave  No_Alley_Access             Regular   \n",
       "1418         86.0  11839.0   Pave  No_Alley_Access             Regular   \n",
       "\n",
       "     LandContour Utilities LotConfig  ... ScreenPorch PoolArea   PoolQC  \\\n",
       "2216         HLS    AllPub    Corner  ...         0.0      0.0  No_Pool   \n",
       "836          Low    AllPub    Inside  ...        92.0      0.0  No_Pool   \n",
       "2396         Lvl    AllPub    Inside  ...         0.0      0.0  No_Pool   \n",
       "1962         Lvl    AllPub    Inside  ...         0.0      0.0  No_Pool   \n",
       "305          HLS    AllPub    Inside  ...         0.0      0.0  No_Pool   \n",
       "...          ...       ...       ...  ...         ...      ...      ...   \n",
       "2352         Lvl    AllPub    Inside  ...         0.0      0.0  No_Pool   \n",
       "2027         Lvl    AllPub    Inside  ...         0.0      0.0  No_Pool   \n",
       "867          Lvl    AllPub    Inside  ...         0.0      0.0  No_Pool   \n",
       "2590         Lvl    AllPub    Inside  ...         0.0      0.0  No_Pool   \n",
       "1418         Lvl    AllPub    Inside  ...         0.0      0.0  No_Pool   \n",
       "\n",
       "                  Fence MiscFeature MiscVal MoSold YearSold  SaleType  \\\n",
       "2216           No_Fence        None     0.0      3     2007       WD    \n",
       "836            No_Fence        None     0.0     10     2009       WD    \n",
       "2396           No_Fence        None     0.0     10     2006       New   \n",
       "1962  Minimum_Wood_Wire        None     0.0      4     2007       WD    \n",
       "305            No_Fence        None     0.0      1     2010       WD    \n",
       "...                 ...         ...     ...    ...      ...       ...   \n",
       "2352           No_Fence        None     0.0      7     2006       WD    \n",
       "2027          Good_Wood        None     0.0      8     2007       CWD   \n",
       "867            No_Fence        None     0.0     11     2009       WD    \n",
       "2590           No_Fence        None     0.0     12     2006       COD   \n",
       "1418           No_Fence        None     0.0      5     2008       WD    \n",
       "\n",
       "      SaleCondition  \n",
       "2216         Normal  \n",
       "836          Normal  \n",
       "2396        Partial  \n",
       "1962         Family  \n",
       "305         Abnorml  \n",
       "...             ...  \n",
       "2352         Normal  \n",
       "2027         Family  \n",
       "867          Normal  \n",
       "2590        Abnorml  \n",
       "1418         Normal  \n",
       "\n",
       "[586 rows x 78 columns]"
      ]
     },
     "execution_count": 6,
     "metadata": {},
     "output_type": "execute_result"
    }
   ],
   "source": [
    "X_encode"
   ]
  },
  {
   "cell_type": "markdown",
   "id": "55ade7e6",
   "metadata": {
    "papermill": {
     "duration": 0.007022,
     "end_time": "2022-11-27T16:50:17.419861",
     "exception": false,
     "start_time": "2022-11-27T16:50:17.412839",
     "status": "completed"
    },
    "tags": []
   },
   "source": [
    "# 2) Apply M-Estimate Encoding\n",
    "\n",
    "Apply a target encoding to your choice of categorical features. Also choose a value for the smoothing parameter `m` (any value is okay for a correct answer)."
   ]
  },
  {
   "cell_type": "code",
   "execution_count": 7,
   "id": "9e06bf8f",
   "metadata": {
    "execution": {
     "iopub.execute_input": "2022-11-27T16:50:17.436898Z",
     "iopub.status.busy": "2022-11-27T16:50:17.435893Z",
     "iopub.status.idle": "2022-11-27T16:50:17.543778Z",
     "shell.execute_reply": "2022-11-27T16:50:17.542185Z"
    },
    "lines_to_next_cell": 0,
    "papermill": {
     "duration": 0.119775,
     "end_time": "2022-11-27T16:50:17.547015",
     "exception": false,
     "start_time": "2022-11-27T16:50:17.427240",
     "status": "completed"
    },
    "tags": []
   },
   "outputs": [
    {
     "data": {
      "application/javascript": [
       "parent.postMessage({\"jupyterEvent\": \"custom.exercise_interaction\", \"data\": {\"outcomeType\": 1, \"valueTowardsCompletion\": 0.3333333333333333, \"interactionType\": 1, \"questionType\": 2, \"questionId\": \"2_Q2\", \"learnToolsVersion\": \"0.3.4\", \"failureMessage\": \"\", \"exceptionClass\": \"\", \"trace\": \"\"}}, \"*\")"
      ],
      "text/plain": [
       "<IPython.core.display.Javascript object>"
      ]
     },
     "metadata": {},
     "output_type": "display_data"
    },
    {
     "data": {
      "text/markdown": [
       "<span style=\"color:#33cc33\">Correct</span>"
      ],
      "text/plain": [
       "Correct"
      ]
     },
     "metadata": {},
     "output_type": "display_data"
    }
   ],
   "source": [
    "# YOUR CODE HERE: Create the MEstimateEncoder\n",
    "# Choose a set of features to encode and a value for m\n",
    "encoder = MEstimateEncoder(cols=[\"Neighborhood\"], m=3.0)\n",
    "\n",
    "\n",
    "# Fit the encoder on the encoding split\n",
    "encoder.fit(X_encode, y_encode)\n",
    "\n",
    "# Encode the training split\n",
    "X_train = encoder.transform(X_pretrain, y_train)\n",
    "\n",
    "\n",
    "# Check your answer\n",
    "q_2.check()"
   ]
  },
  {
   "cell_type": "code",
   "execution_count": 8,
   "id": "64ae2db8",
   "metadata": {
    "execution": {
     "iopub.execute_input": "2022-11-27T16:50:17.566299Z",
     "iopub.status.busy": "2022-11-27T16:50:17.565849Z",
     "iopub.status.idle": "2022-11-27T16:50:17.571341Z",
     "shell.execute_reply": "2022-11-27T16:50:17.570040Z"
    },
    "lines_to_next_cell": 0,
    "papermill": {
     "duration": 0.017941,
     "end_time": "2022-11-27T16:50:17.574372",
     "exception": false,
     "start_time": "2022-11-27T16:50:17.556431",
     "status": "completed"
    },
    "tags": []
   },
   "outputs": [],
   "source": [
    "# Lines below will give you a hint or solution code\n",
    "#q_2.hint()\n",
    "#q_2.solution()"
   ]
  },
  {
   "cell_type": "markdown",
   "id": "e410f9bc",
   "metadata": {
    "papermill": {
     "duration": 0.00756,
     "end_time": "2022-11-27T16:50:17.591411",
     "exception": false,
     "start_time": "2022-11-27T16:50:17.583851",
     "status": "completed"
    },
    "tags": []
   },
   "source": [
    "If you'd like to see how the encoded feature compares to the target, you can run this cell:"
   ]
  },
  {
   "cell_type": "code",
   "execution_count": 9,
   "id": "76c8b935",
   "metadata": {
    "execution": {
     "iopub.execute_input": "2022-11-27T16:50:17.608534Z",
     "iopub.status.busy": "2022-11-27T16:50:17.608146Z",
     "iopub.status.idle": "2022-11-27T16:50:18.026568Z",
     "shell.execute_reply": "2022-11-27T16:50:18.025364Z"
    },
    "papermill": {
     "duration": 0.430008,
     "end_time": "2022-11-27T16:50:18.029054",
     "exception": false,
     "start_time": "2022-11-27T16:50:17.599046",
     "status": "completed"
    },
    "tags": []
   },
   "outputs": [
    {
     "data": {
      "image/png": "[encoded data removed]",
      "text/plain": [
       "<Figure size 540x360 with 1 Axes>"
      ]
     },
     "metadata": {},
     "output_type": "display_data"
    }
   ],
   "source": [
    "feature = encoder.cols\n",
    "\n",
    "plt.figure(dpi=90)\n",
    "ax = sns.distplot(y_train, kde=True, hist=False)\n",
    "ax = sns.distplot(X_train[feature], color='r', ax=ax, hist=True, kde=False, norm_hist=True)\n",
    "ax.set_xlabel(\"SalePrice\");"
   ]
  },
  {
   "cell_type": "markdown",
   "id": "fa7c5b72",
   "metadata": {
    "papermill": {
     "duration": 0.007875,
     "end_time": "2022-11-27T16:50:18.045246",
     "exception": false,
     "start_time": "2022-11-27T16:50:18.037371",
     "status": "completed"
    },
    "tags": []
   },
   "source": [
    "From the distribution plots, does it seem like the encoding is informative?\n",
    "\n",
    "And this cell will show you the score of the encoded set compared to the original set:"
   ]
  },
  {
   "cell_type": "code",
   "execution_count": 10,
   "id": "3728fccd",
   "metadata": {
    "execution": {
     "iopub.execute_input": "2022-11-27T16:50:18.062940Z",
     "iopub.status.busy": "2022-11-27T16:50:18.062513Z",
     "iopub.status.idle": "2022-11-27T16:50:27.012931Z",
     "shell.execute_reply": "2022-11-27T16:50:27.011940Z"
    },
    "papermill": {
     "duration": 8.962603,
     "end_time": "2022-11-27T16:50:27.015918",
     "exception": false,
     "start_time": "2022-11-27T16:50:18.053315",
     "status": "completed"
    },
    "tags": []
   },
   "outputs": [
    {
     "name": "stdout",
     "output_type": "stream",
     "text": [
      "Baseline Score: 0.1428 RMSLE\n",
      "Score with Encoding: 0.1423 RMSLE\n"
     ]
    }
   ],
   "source": [
    "X = df.copy()\n",
    "y = X.pop(\"SalePrice\")\n",
    "score_base = score_dataset(X, y)\n",
    "score_new = score_dataset(X_train, y_train)\n",
    "\n",
    "print(f\"Baseline Score: {score_base:.4f} RMSLE\")\n",
    "print(f\"Score with Encoding: {score_new:.4f} RMSLE\")"
   ]
  },
  {
   "cell_type": "markdown",
   "id": "0d0ce2ce",
   "metadata": {
    "papermill": {
     "duration": 0.008104,
     "end_time": "2022-11-27T16:50:27.033641",
     "exception": false,
     "start_time": "2022-11-27T16:50:27.025537",
     "status": "completed"
    },
    "tags": []
   },
   "source": [
    "Do you think that target encoding was worthwhile in this case? Depending on which feature or features you chose, you may have ended up with a score significantly worse than the baseline. In that case, it's likely the extra information gained by the encoding couldn't make up for the loss of data used for the encoding."
   ]
  },
  {
   "cell_type": "markdown",
   "id": "fd86cf67",
   "metadata": {
    "papermill": {
     "duration": 0.007742,
     "end_time": "2022-11-27T16:50:27.049516",
     "exception": false,
     "start_time": "2022-11-27T16:50:27.041774",
     "status": "completed"
    },
    "tags": []
   },
   "source": [
    "-------------------------------------------------------------------------------\n",
    "\n",
    "In this question, you'll explore the problem of overfitting with target encodings. This will illustrate this importance of training fitting target encoders on data held-out from the training set.\n",
    "\n",
    "So let's see what happens when we fit the encoder and the model on the *same* dataset. To emphasize how dramatic the overfitting can be, we'll mean-encode a feature that should have no relationship with `SalePrice`, a count: `0, 1, 2, 3, 4, 5, ...`."
   ]
  },
  {
   "cell_type": "code",
   "execution_count": 11,
   "id": "03dc9f82",
   "metadata": {
    "execution": {
     "iopub.execute_input": "2022-11-27T16:50:27.067433Z",
     "iopub.status.busy": "2022-11-27T16:50:27.067007Z",
     "iopub.status.idle": "2022-11-27T16:50:31.471187Z",
     "shell.execute_reply": "2022-11-27T16:50:31.470028Z"
    },
    "papermill": {
     "duration": 4.416269,
     "end_time": "2022-11-27T16:50:31.473852",
     "exception": false,
     "start_time": "2022-11-27T16:50:27.057583",
     "status": "completed"
    },
    "tags": []
   },
   "outputs": [
    {
     "name": "stdout",
     "output_type": "stream",
     "text": [
      "Score: 0.0303 RMSLE\n"
     ]
    }
   ],
   "source": [
    "# Try experimenting with the smoothing parameter m\n",
    "# Try 0, 1, 5, 50\n",
    "m = 50\n",
    "\n",
    "X = df.copy()\n",
    "y = X.pop('SalePrice')\n",
    "\n",
    "# Create an uninformative feature\n",
    "X[\"Count\"] = range(len(X))\n",
    "X[\"Count\"][1] = 0  # actually need one duplicate value to circumvent error-checking in MEstimateEncoder\n",
    "\n",
    "# fit and transform on the same dataset\n",
    "encoder = MEstimateEncoder(cols=\"Count\", m=m)\n",
    "X = encoder.fit_transform(X, y)\n",
    "\n",
    "# Results\n",
    "score =  score_dataset(X, y)\n",
    "print(f\"Score: {score:.4f} RMSLE\")"
   ]
  },
  {
   "cell_type": "markdown",
   "id": "7b9fc031",
   "metadata": {
    "papermill": {
     "duration": 0.008017,
     "end_time": "2022-11-27T16:50:31.491597",
     "exception": false,
     "start_time": "2022-11-27T16:50:31.483580",
     "status": "completed"
    },
    "tags": []
   },
   "source": [
    "Almost a perfect score!"
   ]
  },
  {
   "cell_type": "code",
   "execution_count": 12,
   "id": "c1e32797",
   "metadata": {
    "execution": {
     "iopub.execute_input": "2022-11-27T16:50:31.509728Z",
     "iopub.status.busy": "2022-11-27T16:50:31.509334Z",
     "iopub.status.idle": "2022-11-27T16:50:31.944296Z",
     "shell.execute_reply": "2022-11-27T16:50:31.942928Z"
    },
    "papermill": {
     "duration": 0.447174,
     "end_time": "2022-11-27T16:50:31.947017",
     "exception": false,
     "start_time": "2022-11-27T16:50:31.499843",
     "status": "completed"
    },
    "tags": []
   },
   "outputs": [
    {
     "data": {
      "image/png": "[encoded data removed]",
      "text/plain": [
       "<Figure size 540x360 with 1 Axes>"
      ]
     },
     "metadata": {},
     "output_type": "display_data"
    }
   ],
   "source": [
    "plt.figure(dpi=90)\n",
    "ax = sns.distplot(y, kde=True, hist=False)\n",
    "ax = sns.distplot(X[\"Count\"], color='r', ax=ax, hist=True, kde=False, norm_hist=True)\n",
    "ax.set_xlabel(\"SalePrice\");"
   ]
  },
  {
   "cell_type": "markdown",
   "id": "fbd257a3",
   "metadata": {
    "papermill": {
     "duration": 0.008436,
     "end_time": "2022-11-27T16:50:31.964060",
     "exception": false,
     "start_time": "2022-11-27T16:50:31.955624",
     "status": "completed"
    },
    "tags": []
   },
   "source": [
    "And the distributions are almost exactly the same, too.\n",
    "\n",
    "# 3) Overfitting with Target Encoders\n",
    "\n",
    "Based on your understanding of how mean-encoding works, can you explain how XGBoost was able to get an almost a perfect fit after mean-encoding the count feature?"
   ]
  },
  {
   "cell_type": "code",
   "execution_count": 13,
   "id": "a9009df8",
   "metadata": {
    "execution": {
     "iopub.execute_input": "2022-11-27T16:50:31.982876Z",
     "iopub.status.busy": "2022-11-27T16:50:31.982464Z",
     "iopub.status.idle": "2022-11-27T16:50:31.991701Z",
     "shell.execute_reply": "2022-11-27T16:50:31.990527Z"
    },
    "lines_to_next_cell": 0,
    "papermill": {
     "duration": 0.021375,
     "end_time": "2022-11-27T16:50:31.993949",
     "exception": false,
     "start_time": "2022-11-27T16:50:31.972574",
     "status": "completed"
    },
    "tags": []
   },
   "outputs": [
    {
     "data": {
      "application/javascript": [
       "parent.postMessage({\"jupyterEvent\": \"custom.exercise_interaction\", \"data\": {\"outcomeType\": 1, \"valueTowardsCompletion\": 0.3333333333333333, \"interactionType\": 1, \"questionType\": 4, \"questionId\": \"3_Q3\", \"learnToolsVersion\": \"0.3.4\", \"failureMessage\": \"\", \"exceptionClass\": \"\", \"trace\": \"\"}}, \"*\")"
      ],
      "text/plain": [
       "<IPython.core.display.Javascript object>"
      ]
     },
     "metadata": {},
     "output_type": "display_data"
    },
    {
     "data": {
      "text/markdown": [
       "<span style=\"color:#33cc33\">Correct:</span> \n",
       "\n",
       "\n",
       "Since `Count` never has any duplicate values, the mean-encoded `Count` is essentially an exact copy of the target. In other words, mean-encoding turned a completely meaningless feature into a perfect feature.\n",
       "\n",
       "Now, the only reason this worked is because we trained XGBoost on the same set we used to train the encoder. If we had used a hold-out set instead, none of this \"fake\" encoding would have transferred to the training data.\n",
       "\n",
       "The lesson is that when using a target encoder it's very important to use separate data sets for training the encoder and training the model. Otherwise the results can be very disappointing!\n"
      ],
      "text/plain": [
       "Correct: \n",
       "\n",
       "\n",
       "Since `Count` never has any duplicate values, the mean-encoded `Count` is essentially an exact copy of the target. In other words, mean-encoding turned a completely meaningless feature into a perfect feature.\n",
       "\n",
       "Now, the only reason this worked is because we trained XGBoost on the same set we used to train the encoder. If we had used a hold-out set instead, none of this \"fake\" encoding would have transferred to the training data.\n",
       "\n",
       "The lesson is that when using a target encoder it's very important to use separate data sets for training the encoder and training the model. Otherwise the results can be very disappointing!"
      ]
     },
     "metadata": {},
     "output_type": "display_data"
    }
   ],
   "source": [
    "# View the solution (Run this cell to receive credit!)\n",
    "q_3.check()"
   ]
  },
  {
   "cell_type": "code",
   "execution_count": 14,
   "id": "3bffddab",
   "metadata": {
    "execution": {
     "iopub.execute_input": "2022-11-27T16:50:32.013169Z",
     "iopub.status.busy": "2022-11-27T16:50:32.012726Z",
     "iopub.status.idle": "2022-11-27T16:50:32.017484Z",
     "shell.execute_reply": "2022-11-27T16:50:32.016395Z"
    },
    "papermill": {
     "duration": 0.017113,
     "end_time": "2022-11-27T16:50:32.019942",
     "exception": false,
     "start_time": "2022-11-27T16:50:32.002829",
     "status": "completed"
    },
    "tags": []
   },
   "outputs": [],
   "source": [
    "# Uncomment this if you'd like a hint before seeing the answer\n",
    "#q_3.hint()"
   ]
  },
  {
   "cell_type": "markdown",
   "id": "f56392b9",
   "metadata": {
    "papermill": {
     "duration": 0.008658,
     "end_time": "2022-11-27T16:50:32.037807",
     "exception": false,
     "start_time": "2022-11-27T16:50:32.029149",
     "status": "completed"
    },
    "tags": []
   },
   "source": [
    "# The End #\n",
    "\n",
    "That's it for *Feature Engineering*! We hope you enjoyed your time with us.\n",
    "\n",
    "Now, are you ready to try out your new skills? Now would be a great time to join our [Housing Prices](https://www.kaggle.com/c/house-prices-advanced-regression-techniques) Getting Started competition. We've even prepared a [Bonus Lesson](https://www.kaggle.com/ryanholbrook/feature-engineering-for-house-prices) that collects all the work we've done together into a starter notebook.\n",
    "\n",
    "# References #\n",
    "Here are some great resources you might like to consult for more information. They all played a part in shaping this course:\n",
    "- *The Art of Feature Engineering*, a book by Pablo Duboue.\n",
    "- *An Empirical Analysis of Feature Engineering for Predictive Modeling*, an article by Jeff Heaton.\n",
    "- *Feature Engineering for Machine Learning*, a book by Alice Zheng and Amanda Casari. The tutorial on clustering was inspired by this excellent book.\n",
    "- *Feature Engineering and Selection*, a book by Max Kuhn and Kjell Johnson."
   ]
  },
  {
   "cell_type": "markdown",
   "id": "7568e3ce",
   "metadata": {
    "papermill": {
     "duration": 0.008506,
     "end_time": "2022-11-27T16:50:32.055604",
     "exception": false,
     "start_time": "2022-11-27T16:50:32.047098",
     "status": "completed"
    },
    "tags": []
   },
   "source": [
    "---\n",
    "\n",
    "\n",
    "\n",
    "\n",
    "*Have questions or comments? Visit the [course discussion forum](https://www.kaggle.com/learn/feature-engineering/discussion) to chat with other learners.*"
   ]
  }
 ],
 "metadata": {
  "kernelspec": {
   "display_name": "Python 3",
   "language": "python",
   "name": "python3"
  },
  "language_info": {
   "codemirror_mode": {
    "name": "ipython",
    "version": 3
   },
   "file_extension": ".py",
   "mimetype": "text/x-python",
   "name": "python",
   "nbconvert_exporter": "python",
   "pygments_lexer": "ipython3",
   "version": "3.7.12"
  },
  "papermill": {
   "default_parameters": {},
   "duration": 26.419186,
   "end_time": "2022-11-27T16:50:32.886636",
   "environment_variables": {},
   "exception": null,
   "input_path": "__notebook__.ipynb",
   "output_path": "__notebook__.ipynb",
   "parameters": {},
   "start_time": "2022-11-27T16:50:06.467450",
   "version": "2.3.4"
  }
 },
 "nbformat": 4,
 "nbformat_minor": 5
}
